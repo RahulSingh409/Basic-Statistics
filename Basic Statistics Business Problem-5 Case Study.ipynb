{
 "cells": [
  {
   "cell_type": "markdown",
   "id": "435472d8",
   "metadata": {},
   "source": [
    "# Basic Statistics Case Study\n",
    "\n",
    "# Business Problem-5\n",
    "\n",
    "## BACKGROUND:\n",
    "\n",
    "Film on the Rocks is a summer movie series held at the world-renowned Red Rocks Amphitheatre, which is situated on a hillside of the Rocky Mountains in Morrison, Colorado fifteen miles west of Denver. The film series features classic films, and pre-show\n",
    "entertainment including bands and comedians. Among the features that have made Red Rocks an internationally-famous concert stage are sweeping views of Denver, outstanding acoustics,and cool, dry Colorado summers.\n",
    "\n",
    "The series is jointly promoted by the Denver Film Society (DFS) and the City and County of Denver’s Division of Theatres and Arenas (DT&A). It is marketed through various outlets including newspaper, radio, and the Red Rocks and Denver Film Society websites. Film on the Rocks patrons also benefit from corporate sponsorship. In return for on-site posters and banners at Red Rocks, and recognition in pre- show marketing materials, corporations donate funds that keep ticket prices low.\n",
    "\n",
    "Although the Red Rocks Amphitheatre provides a cinematic experience unlike any other venue, there are tradeoffs. Red Rocks is a farther commute for most people than the local movie theater or movie rental store. Given the uphill walk to the amphitheatre from the parking lot, getting there can be challenging. And, as an outdoor venue, the viewing experience is dependent on the weather.\n",
    "\n",
    "Patron satisfaction with Red Rocks as the venue for the film series is critical to its success. But, the series promoters would also like to increase attendance at the film series, and are unsure how to do this. Promoters recognize that they need a better understanding of the customer base, and of the current level of satisfaction. Knowing the demographics of those who attend\n",
    "the film series will help attract and expand corporate sponsorship. In addition, knowing which media outlets are most effective will provideinformation about how best to target future marketing campaigns.\n",
    "\n",
    "To this end, the promoters conducted surveys during a recent Film on the Rocks season. Questionnaires were handed out at the entrance. Volunteers walked through the crowd to remind people about the free soft drink given to those who returned the survey.\n",
    "\n",
    "## BUSINESS PROBLEM:\n",
    "Use the survey results to address the following questions\n",
    "\n",
    "     What is the overall level of customer satisfaction?\n",
    "     What factors are linked to satisfaction?\n",
    "     What is the demographic profile of Film on the Rocks patrons?\n",
    "     In what media outlet(s) should the film series be advertised?\n",
    "    \n",
    "## DATA AVAILABLE:\n",
    "Data provided by the Denver Film Society\n",
    "\n",
    "The data set contains 330 surveys collected during three Film on the Rocks movies:\n",
    "Ferris Bueller’s Day Off, Old School, and Willy Wonka and the Chocolate Factory.\n",
    "The variables are:\n",
    "\n",
    "    Gender The patron’s gender: 1 = male; 2 = female\n",
    "    Marital Status The patron’s marital status: 1 = married; 2 = single\n",
    "    Age The patron’s age in years: 1= 1-12; 2 = 13-30; 3 = 31-60; 4 = 60+\n",
    "    Income The patron’s annual household income: 1 = Less than $50,000; 2 = $50-$100,000; 3 = $100,000+\n",
    "    Hear About The patron’s response to this question: “How did you hear about Film\n",
    "    on the Rocks?” Respondents could check any of the following that applied: 1 = television; 2 =\n",
    "    newspaper; 3 = radio; 4 = website; 5 = word of mouth\n",
    "\n",
    "The survey also contained four Likert-scaled questions about satisfaction; each of the following\n",
    "questions is coded: 1 = Excellent; 2 = Good; 3 = Average/Fair; 4 = Poor; 5 = Very Poor.\n",
    "   \n",
    "        Signage “How was the signage directing you to Red Rocks?”\n",
    "        Parking “How was the venue’s parking?”\n",
    "        Clean “How was the cleanliness of the venue?”\n",
    "        Overall “How was your overall customer service experience?”\n",
    "        \n",
    "#### Import Libraries"
   ]
  },
  {
   "cell_type": "code",
   "execution_count": 76,
   "id": "ab994326",
   "metadata": {
    "ExecuteTime": {
     "end_time": "2022-06-15T12:26:10.647341Z",
     "start_time": "2022-06-15T12:26:10.626398Z"
    }
   },
   "outputs": [],
   "source": [
    "import numpy as np\n",
    "import pandas as pd\n",
    "import matplotlib.pyplot as plt\n",
    "import scipy.stats as stats\n",
    "import seaborn as sns\n",
    "from scipy import stats\n",
    "\n",
    "%matplotlib inline"
   ]
  },
  {
   "cell_type": "code",
   "execution_count": 77,
   "id": "c174a4b7",
   "metadata": {
    "ExecuteTime": {
     "end_time": "2022-06-15T12:26:10.758559Z",
     "start_time": "2022-06-15T12:26:10.649338Z"
    }
   },
   "outputs": [
    {
     "data": {
      "text/html": [
       "<div>\n",
       "<style scoped>\n",
       "    .dataframe tbody tr th:only-of-type {\n",
       "        vertical-align: middle;\n",
       "    }\n",
       "\n",
       "    .dataframe tbody tr th {\n",
       "        vertical-align: top;\n",
       "    }\n",
       "\n",
       "    .dataframe thead th {\n",
       "        text-align: right;\n",
       "    }\n",
       "</style>\n",
       "<table border=\"1\" class=\"dataframe\">\n",
       "  <thead>\n",
       "    <tr style=\"text-align: right;\">\n",
       "      <th></th>\n",
       "      <th>_rowstate_</th>\n",
       "      <th>Movie</th>\n",
       "      <th>Gender</th>\n",
       "      <th>Marital_Status</th>\n",
       "      <th>Sinage</th>\n",
       "      <th>Parking</th>\n",
       "      <th>Clean</th>\n",
       "      <th>Overall</th>\n",
       "      <th>Age</th>\n",
       "      <th>Income</th>\n",
       "      <th>Hear_About</th>\n",
       "    </tr>\n",
       "  </thead>\n",
       "  <tbody>\n",
       "    <tr>\n",
       "      <th>0</th>\n",
       "      <td>0</td>\n",
       "      <td>Ferris Buellers Day Off</td>\n",
       "      <td>Female</td>\n",
       "      <td>Married</td>\n",
       "      <td>2.0</td>\n",
       "      <td>2.0</td>\n",
       "      <td>2.0</td>\n",
       "      <td>2.0</td>\n",
       "      <td>3.0</td>\n",
       "      <td>1.0</td>\n",
       "      <td>5</td>\n",
       "    </tr>\n",
       "    <tr>\n",
       "      <th>1</th>\n",
       "      <td>0</td>\n",
       "      <td>Ferris Buellers Day Off</td>\n",
       "      <td>Female</td>\n",
       "      <td>Single</td>\n",
       "      <td>1.0</td>\n",
       "      <td>1.0</td>\n",
       "      <td>1.0</td>\n",
       "      <td>1.0</td>\n",
       "      <td>2.0</td>\n",
       "      <td>1.0</td>\n",
       "      <td>5</td>\n",
       "    </tr>\n",
       "    <tr>\n",
       "      <th>2</th>\n",
       "      <td>0</td>\n",
       "      <td>Ferris Buellers Day Off</td>\n",
       "      <td>Male</td>\n",
       "      <td>Married</td>\n",
       "      <td>2.0</td>\n",
       "      <td>4.0</td>\n",
       "      <td>3.0</td>\n",
       "      <td>2.0</td>\n",
       "      <td>4.0</td>\n",
       "      <td>1.0</td>\n",
       "      <td>5</td>\n",
       "    </tr>\n",
       "    <tr>\n",
       "      <th>3</th>\n",
       "      <td>0</td>\n",
       "      <td>Ferris Buellers Day Off</td>\n",
       "      <td>Female</td>\n",
       "      <td>Married</td>\n",
       "      <td>1.0</td>\n",
       "      <td>3.0</td>\n",
       "      <td>2.0</td>\n",
       "      <td>2.0</td>\n",
       "      <td>4.0</td>\n",
       "      <td>1.0</td>\n",
       "      <td>5</td>\n",
       "    </tr>\n",
       "    <tr>\n",
       "      <th>4</th>\n",
       "      <td>0</td>\n",
       "      <td>Ferris Buellers Day Off</td>\n",
       "      <td>Female</td>\n",
       "      <td>Married</td>\n",
       "      <td>1.0</td>\n",
       "      <td>1.0</td>\n",
       "      <td>1.0</td>\n",
       "      <td>1.0</td>\n",
       "      <td>3.0</td>\n",
       "      <td>3.0</td>\n",
       "      <td>1</td>\n",
       "    </tr>\n",
       "    <tr>\n",
       "      <th>...</th>\n",
       "      <td>...</td>\n",
       "      <td>...</td>\n",
       "      <td>...</td>\n",
       "      <td>...</td>\n",
       "      <td>...</td>\n",
       "      <td>...</td>\n",
       "      <td>...</td>\n",
       "      <td>...</td>\n",
       "      <td>...</td>\n",
       "      <td>...</td>\n",
       "      <td>...</td>\n",
       "    </tr>\n",
       "    <tr>\n",
       "      <th>325</th>\n",
       "      <td>0</td>\n",
       "      <td>Old School</td>\n",
       "      <td>2</td>\n",
       "      <td>2</td>\n",
       "      <td>1.0</td>\n",
       "      <td>2.0</td>\n",
       "      <td>1.0</td>\n",
       "      <td>1.0</td>\n",
       "      <td>2.0</td>\n",
       "      <td>1.0</td>\n",
       "      <td>1</td>\n",
       "    </tr>\n",
       "    <tr>\n",
       "      <th>326</th>\n",
       "      <td>0</td>\n",
       "      <td>Old School</td>\n",
       "      <td>1</td>\n",
       "      <td>1</td>\n",
       "      <td>2.0</td>\n",
       "      <td>2.0</td>\n",
       "      <td>2.0</td>\n",
       "      <td>2.0</td>\n",
       "      <td>3.0</td>\n",
       "      <td>3.0</td>\n",
       "      <td>5</td>\n",
       "    </tr>\n",
       "    <tr>\n",
       "      <th>327</th>\n",
       "      <td>0</td>\n",
       "      <td>Old School</td>\n",
       "      <td>2</td>\n",
       "      <td>1</td>\n",
       "      <td>2.0</td>\n",
       "      <td>1.0</td>\n",
       "      <td>1.0</td>\n",
       "      <td>2.0</td>\n",
       "      <td>2.0</td>\n",
       "      <td>2.0</td>\n",
       "      <td>5</td>\n",
       "    </tr>\n",
       "    <tr>\n",
       "      <th>328</th>\n",
       "      <td>0</td>\n",
       "      <td>Old School</td>\n",
       "      <td>1</td>\n",
       "      <td>1</td>\n",
       "      <td>1.0</td>\n",
       "      <td>1.0</td>\n",
       "      <td>1.0</td>\n",
       "      <td>1.0</td>\n",
       "      <td>2.0</td>\n",
       "      <td>1.0</td>\n",
       "      <td>3</td>\n",
       "    </tr>\n",
       "    <tr>\n",
       "      <th>329</th>\n",
       "      <td>0</td>\n",
       "      <td>Old School</td>\n",
       "      <td>2</td>\n",
       "      <td>2</td>\n",
       "      <td>2.0</td>\n",
       "      <td>2.0</td>\n",
       "      <td>3.0</td>\n",
       "      <td>1.0</td>\n",
       "      <td>2.0</td>\n",
       "      <td>1.0</td>\n",
       "      <td>5</td>\n",
       "    </tr>\n",
       "  </tbody>\n",
       "</table>\n",
       "<p>330 rows × 11 columns</p>\n",
       "</div>"
      ],
      "text/plain": [
       "     _rowstate_                    Movie  Gender Marital_Status  Sinage  \\\n",
       "0             0  Ferris Buellers Day Off  Female        Married     2.0   \n",
       "1             0  Ferris Buellers Day Off  Female         Single     1.0   \n",
       "2             0  Ferris Buellers Day Off    Male        Married     2.0   \n",
       "3             0  Ferris Buellers Day Off  Female        Married     1.0   \n",
       "4             0  Ferris Buellers Day Off  Female        Married     1.0   \n",
       "..          ...                      ...     ...            ...     ...   \n",
       "325           0               Old School       2              2     1.0   \n",
       "326           0               Old School       1              1     2.0   \n",
       "327           0               Old School       2              1     2.0   \n",
       "328           0               Old School       1              1     1.0   \n",
       "329           0               Old School       2              2     2.0   \n",
       "\n",
       "     Parking  Clean  Overall  Age  Income Hear_About  \n",
       "0        2.0    2.0      2.0  3.0     1.0          5  \n",
       "1        1.0    1.0      1.0  2.0     1.0          5  \n",
       "2        4.0    3.0      2.0  4.0     1.0          5  \n",
       "3        3.0    2.0      2.0  4.0     1.0          5  \n",
       "4        1.0    1.0      1.0  3.0     3.0          1  \n",
       "..       ...    ...      ...  ...     ...        ...  \n",
       "325      2.0    1.0      1.0  2.0     1.0          1  \n",
       "326      2.0    2.0      2.0  3.0     3.0          5  \n",
       "327      1.0    1.0      2.0  2.0     2.0          5  \n",
       "328      1.0    1.0      1.0  2.0     1.0          3  \n",
       "329      2.0    3.0      1.0  2.0     1.0          5  \n",
       "\n",
       "[330 rows x 11 columns]"
      ]
     },
     "execution_count": 77,
     "metadata": {},
     "output_type": "execute_result"
    }
   ],
   "source": [
    "film_data= pd.read_csv('Films.csv')\n",
    "film_data"
   ]
  },
  {
   "cell_type": "code",
   "execution_count": 78,
   "id": "088cacde",
   "metadata": {
    "ExecuteTime": {
     "end_time": "2022-06-15T12:26:10.853199Z",
     "start_time": "2022-06-15T12:26:10.759556Z"
    }
   },
   "outputs": [
    {
     "data": {
      "text/html": [
       "<div>\n",
       "<style scoped>\n",
       "    .dataframe tbody tr th:only-of-type {\n",
       "        vertical-align: middle;\n",
       "    }\n",
       "\n",
       "    .dataframe tbody tr th {\n",
       "        vertical-align: top;\n",
       "    }\n",
       "\n",
       "    .dataframe thead th {\n",
       "        text-align: right;\n",
       "    }\n",
       "</style>\n",
       "<table border=\"1\" class=\"dataframe\">\n",
       "  <thead>\n",
       "    <tr style=\"text-align: right;\">\n",
       "      <th></th>\n",
       "      <th>_rowstate_</th>\n",
       "      <th>Sinage</th>\n",
       "      <th>Parking</th>\n",
       "      <th>Clean</th>\n",
       "      <th>Overall</th>\n",
       "      <th>Age</th>\n",
       "      <th>Income</th>\n",
       "    </tr>\n",
       "  </thead>\n",
       "  <tbody>\n",
       "    <tr>\n",
       "      <th>count</th>\n",
       "      <td>330.0</td>\n",
       "      <td>328.000000</td>\n",
       "      <td>328.000000</td>\n",
       "      <td>327.000000</td>\n",
       "      <td>328.000000</td>\n",
       "      <td>328.000000</td>\n",
       "      <td>314.000000</td>\n",
       "    </tr>\n",
       "    <tr>\n",
       "      <th>mean</th>\n",
       "      <td>0.0</td>\n",
       "      <td>1.884146</td>\n",
       "      <td>1.756098</td>\n",
       "      <td>1.681957</td>\n",
       "      <td>1.618902</td>\n",
       "      <td>2.338415</td>\n",
       "      <td>1.834395</td>\n",
       "    </tr>\n",
       "    <tr>\n",
       "      <th>std</th>\n",
       "      <td>0.0</td>\n",
       "      <td>0.830603</td>\n",
       "      <td>0.798484</td>\n",
       "      <td>0.728313</td>\n",
       "      <td>0.689286</td>\n",
       "      <td>0.666902</td>\n",
       "      <td>0.844808</td>\n",
       "    </tr>\n",
       "    <tr>\n",
       "      <th>min</th>\n",
       "      <td>0.0</td>\n",
       "      <td>1.000000</td>\n",
       "      <td>1.000000</td>\n",
       "      <td>1.000000</td>\n",
       "      <td>1.000000</td>\n",
       "      <td>1.000000</td>\n",
       "      <td>1.000000</td>\n",
       "    </tr>\n",
       "    <tr>\n",
       "      <th>25%</th>\n",
       "      <td>0.0</td>\n",
       "      <td>1.000000</td>\n",
       "      <td>1.000000</td>\n",
       "      <td>1.000000</td>\n",
       "      <td>1.000000</td>\n",
       "      <td>2.000000</td>\n",
       "      <td>1.000000</td>\n",
       "    </tr>\n",
       "    <tr>\n",
       "      <th>50%</th>\n",
       "      <td>0.0</td>\n",
       "      <td>2.000000</td>\n",
       "      <td>2.000000</td>\n",
       "      <td>2.000000</td>\n",
       "      <td>2.000000</td>\n",
       "      <td>2.000000</td>\n",
       "      <td>2.000000</td>\n",
       "    </tr>\n",
       "    <tr>\n",
       "      <th>75%</th>\n",
       "      <td>0.0</td>\n",
       "      <td>2.000000</td>\n",
       "      <td>2.000000</td>\n",
       "      <td>2.000000</td>\n",
       "      <td>2.000000</td>\n",
       "      <td>3.000000</td>\n",
       "      <td>3.000000</td>\n",
       "    </tr>\n",
       "    <tr>\n",
       "      <th>max</th>\n",
       "      <td>0.0</td>\n",
       "      <td>5.000000</td>\n",
       "      <td>5.000000</td>\n",
       "      <td>5.000000</td>\n",
       "      <td>5.000000</td>\n",
       "      <td>4.000000</td>\n",
       "      <td>3.000000</td>\n",
       "    </tr>\n",
       "  </tbody>\n",
       "</table>\n",
       "</div>"
      ],
      "text/plain": [
       "       _rowstate_      Sinage     Parking       Clean     Overall         Age  \\\n",
       "count       330.0  328.000000  328.000000  327.000000  328.000000  328.000000   \n",
       "mean          0.0    1.884146    1.756098    1.681957    1.618902    2.338415   \n",
       "std           0.0    0.830603    0.798484    0.728313    0.689286    0.666902   \n",
       "min           0.0    1.000000    1.000000    1.000000    1.000000    1.000000   \n",
       "25%           0.0    1.000000    1.000000    1.000000    1.000000    2.000000   \n",
       "50%           0.0    2.000000    2.000000    2.000000    2.000000    2.000000   \n",
       "75%           0.0    2.000000    2.000000    2.000000    2.000000    3.000000   \n",
       "max           0.0    5.000000    5.000000    5.000000    5.000000    4.000000   \n",
       "\n",
       "           Income  \n",
       "count  314.000000  \n",
       "mean     1.834395  \n",
       "std      0.844808  \n",
       "min      1.000000  \n",
       "25%      1.000000  \n",
       "50%      2.000000  \n",
       "75%      3.000000  \n",
       "max      3.000000  "
      ]
     },
     "execution_count": 78,
     "metadata": {},
     "output_type": "execute_result"
    }
   ],
   "source": [
    "film_data.describe()"
   ]
  },
  {
   "cell_type": "code",
   "execution_count": 79,
   "id": "c72de8ca",
   "metadata": {
    "ExecuteTime": {
     "end_time": "2022-06-15T12:26:10.932127Z",
     "start_time": "2022-06-15T12:26:10.855905Z"
    }
   },
   "outputs": [
    {
     "name": "stdout",
     "output_type": "stream",
     "text": [
      "<class 'pandas.core.frame.DataFrame'>\n",
      "RangeIndex: 330 entries, 0 to 329\n",
      "Data columns (total 11 columns):\n",
      " #   Column          Non-Null Count  Dtype  \n",
      "---  ------          --------------  -----  \n",
      " 0   _rowstate_      330 non-null    int64  \n",
      " 1   Movie           330 non-null    object \n",
      " 2   Gender          330 non-null    object \n",
      " 3   Marital_Status  328 non-null    object \n",
      " 4   Sinage          328 non-null    float64\n",
      " 5   Parking         328 non-null    float64\n",
      " 6   Clean           327 non-null    float64\n",
      " 7   Overall         328 non-null    float64\n",
      " 8   Age             328 non-null    float64\n",
      " 9   Income          314 non-null    float64\n",
      " 10  Hear_About      323 non-null    object \n",
      "dtypes: float64(6), int64(1), object(4)\n",
      "memory usage: 28.5+ KB\n"
     ]
    }
   ],
   "source": [
    "film_data.info()"
   ]
  },
  {
   "cell_type": "code",
   "execution_count": 80,
   "id": "49d932d1",
   "metadata": {
    "ExecuteTime": {
     "end_time": "2022-06-15T12:26:11.041834Z",
     "start_time": "2022-06-15T12:26:10.933125Z"
    }
   },
   "outputs": [],
   "source": [
    "film_data.drop('_rowstate_', axis=1, inplace=True)"
   ]
  },
  {
   "cell_type": "code",
   "execution_count": 81,
   "id": "aec7cadd",
   "metadata": {
    "ExecuteTime": {
     "end_time": "2022-06-15T12:26:11.136202Z",
     "start_time": "2022-06-15T12:26:11.042832Z"
    }
   },
   "outputs": [
    {
     "data": {
      "text/plain": [
       "Movie              0\n",
       "Gender             0\n",
       "Marital_Status     2\n",
       "Sinage             2\n",
       "Parking            2\n",
       "Clean              3\n",
       "Overall            2\n",
       "Age                2\n",
       "Income            16\n",
       "Hear_About         7\n",
       "dtype: int64"
      ]
     },
     "execution_count": 81,
     "metadata": {},
     "output_type": "execute_result"
    }
   ],
   "source": [
    "film_data.isnull().sum()"
   ]
  },
  {
   "cell_type": "code",
   "execution_count": 82,
   "id": "4d450722",
   "metadata": {
    "ExecuteTime": {
     "end_time": "2022-06-15T12:26:11.230398Z",
     "start_time": "2022-06-15T12:26:11.138655Z"
    }
   },
   "outputs": [
    {
     "data": {
      "text/plain": [
       "Movie              3\n",
       "Gender             4\n",
       "Marital_Status     5\n",
       "Sinage             5\n",
       "Parking            5\n",
       "Clean              5\n",
       "Overall            5\n",
       "Age                4\n",
       "Income             3\n",
       "Hear_About        11\n",
       "dtype: int64"
      ]
     },
     "execution_count": 82,
     "metadata": {},
     "output_type": "execute_result"
    }
   ],
   "source": [
    "film_data.nunique()"
   ]
  },
  {
   "cell_type": "code",
   "execution_count": 83,
   "id": "bacb02b6",
   "metadata": {
    "ExecuteTime": {
     "end_time": "2022-06-15T12:26:11.292689Z",
     "start_time": "2022-06-15T12:26:11.231395Z"
    }
   },
   "outputs": [
    {
     "data": {
      "text/plain": [
       "2         194\n",
       "1         104\n",
       "Female     19\n",
       "Male       13\n",
       "Name: Gender, dtype: int64"
      ]
     },
     "execution_count": 83,
     "metadata": {},
     "output_type": "execute_result"
    }
   ],
   "source": [
    "film_data.Gender.value_counts()"
   ]
  },
  {
   "cell_type": "code",
   "execution_count": 84,
   "id": "9531a5ef",
   "metadata": {
    "ExecuteTime": {
     "end_time": "2022-06-15T12:26:11.387513Z",
     "start_time": "2022-06-15T12:26:11.294229Z"
    }
   },
   "outputs": [],
   "source": [
    "film_data=film_data.replace(to_replace='Female', value='2')\n",
    "film_data=film_data.replace(to_replace='Male', value='1')"
   ]
  },
  {
   "cell_type": "code",
   "execution_count": 85,
   "id": "37cd1e7b",
   "metadata": {
    "ExecuteTime": {
     "end_time": "2022-06-15T12:26:11.465120Z",
     "start_time": "2022-06-15T12:26:11.390504Z"
    }
   },
   "outputs": [
    {
     "data": {
      "text/plain": [
       "2          208\n",
       "1           88\n",
       "Single      18\n",
       "Married     12\n",
       "Slngle       2\n",
       "Name: Marital_Status, dtype: int64"
      ]
     },
     "execution_count": 85,
     "metadata": {},
     "output_type": "execute_result"
    }
   ],
   "source": [
    "film_data.Marital_Status.value_counts()"
   ]
  },
  {
   "cell_type": "code",
   "execution_count": 86,
   "id": "5bb3e439",
   "metadata": {
    "ExecuteTime": {
     "end_time": "2022-06-15T12:26:11.544296Z",
     "start_time": "2022-06-15T12:26:11.466942Z"
    }
   },
   "outputs": [],
   "source": [
    "film_data=film_data.replace(to_replace='Single', value='2')\n",
    "film_data=film_data.replace(to_replace='Married', value='1')\n",
    "film_data=film_data.replace(to_replace='Slngle', value='2')"
   ]
  },
  {
   "cell_type": "code",
   "execution_count": 87,
   "id": "aad0bcc7",
   "metadata": {
    "ExecuteTime": {
     "end_time": "2022-06-15T12:26:11.638824Z",
     "start_time": "2022-06-15T12:26:11.546309Z"
    }
   },
   "outputs": [
    {
     "data": {
      "text/plain": [
       "Movie              0\n",
       "Gender             0\n",
       "Marital_Status     2\n",
       "Sinage             2\n",
       "Parking            2\n",
       "Clean              3\n",
       "Overall            2\n",
       "Age                2\n",
       "Income            16\n",
       "Hear_About         7\n",
       "dtype: int64"
      ]
     },
     "execution_count": 87,
     "metadata": {},
     "output_type": "execute_result"
    }
   ],
   "source": [
    "film_data.isnull().sum()"
   ]
  },
  {
   "cell_type": "code",
   "execution_count": 88,
   "id": "9004f2d1",
   "metadata": {
    "ExecuteTime": {
     "end_time": "2022-06-15T12:26:11.716563Z",
     "start_time": "2022-06-15T12:26:11.641817Z"
    }
   },
   "outputs": [],
   "source": [
    "film_data['Hear_About'] = film_data['Hear_About'].fillna(film_data['Hear_About'].mode()[0])\n",
    "film_data['Sinage'] = film_data['Sinage'].fillna(film_data['Sinage'].mode()[0])\n",
    "film_data['Parking'] = film_data['Parking'].fillna(film_data['Parking'].mode()[0])\n",
    "film_data['Clean'] = film_data['Clean'].fillna(film_data['Clean'].mode()[0])\n",
    "film_data['Overall'] = film_data['Overall'].fillna(film_data['Overall'].mode()[0])\n",
    "film_data['Income'] = film_data['Income'].fillna(film_data['Income'].mean())\n",
    "film_data['Age'] = film_data['Age'].fillna(film_data['Age'].mode()[0])\n",
    "film_data['Marital_Status'] = film_data['Marital_Status'].fillna(film_data['Marital_Status'].mode()[0])"
   ]
  },
  {
   "cell_type": "code",
   "execution_count": 90,
   "id": "5539c68a",
   "metadata": {
    "ExecuteTime": {
     "end_time": "2022-06-15T12:26:18.815434Z",
     "start_time": "2022-06-15T12:26:18.797484Z"
    }
   },
   "outputs": [
    {
     "data": {
      "text/plain": [
       "5      233\n",
       "4       41\n",
       "1       22\n",
       "3       14\n",
       "2       12\n",
       "2,5      2\n",
       "3,4      2\n",
       "4,5      1\n",
       "1,5      1\n",
       "5,4      1\n",
       "3,5      1\n",
       "Name: Hear_About, dtype: int64"
      ]
     },
     "execution_count": 90,
     "metadata": {},
     "output_type": "execute_result"
    }
   ],
   "source": [
    "film_data.Hear_About.value_counts()"
   ]
  },
  {
   "cell_type": "code",
   "execution_count": 92,
   "id": "41cbb893",
   "metadata": {
    "ExecuteTime": {
     "end_time": "2022-06-15T12:30:16.317983Z",
     "start_time": "2022-06-15T12:30:16.293050Z"
    }
   },
   "outputs": [
    {
     "data": {
      "text/plain": [
       "0      5\n",
       "1      5\n",
       "2      5\n",
       "3      5\n",
       "4      1\n",
       "      ..\n",
       "325    1\n",
       "326    5\n",
       "327    5\n",
       "328    3\n",
       "329    5\n",
       "Name: Hear_About, Length: 330, dtype: object"
      ]
     },
     "execution_count": 92,
     "metadata": {},
     "output_type": "execute_result"
    }
   ],
   "source": [
    "film_data['Hear_About'].fillna(film_data['Hear_About'].mode()[0])"
   ]
  },
  {
   "cell_type": "code",
   "execution_count": 94,
   "id": "d57991d7",
   "metadata": {
    "ExecuteTime": {
     "end_time": "2022-06-15T12:30:47.062506Z",
     "start_time": "2022-06-15T12:30:47.044555Z"
    }
   },
   "outputs": [],
   "source": [
    "film_data=film_data.replace(to_replace=['2,5','3,4','4,5','1,5','5,4','3,5'], value='5')"
   ]
  },
  {
   "cell_type": "code",
   "execution_count": 95,
   "id": "0a666fcc",
   "metadata": {
    "ExecuteTime": {
     "end_time": "2022-06-15T12:31:06.017684Z",
     "start_time": "2022-06-15T12:31:05.995742Z"
    }
   },
   "outputs": [],
   "source": [
    "film_data['Gender']=film_data['Gender'].astype('int')\n",
    "film_data['Marital_Status']=film_data['Marital_Status'].astype('int')\n",
    "film_data['Hear_About']=film_data['Hear_About'].astype('int')"
   ]
  },
  {
   "cell_type": "code",
   "execution_count": 96,
   "id": "984d08c8",
   "metadata": {
    "ExecuteTime": {
     "end_time": "2022-06-15T12:31:52.170626Z",
     "start_time": "2022-06-15T12:31:52.139710Z"
    }
   },
   "outputs": [
    {
     "data": {
      "text/html": [
       "<div>\n",
       "<style scoped>\n",
       "    .dataframe tbody tr th:only-of-type {\n",
       "        vertical-align: middle;\n",
       "    }\n",
       "\n",
       "    .dataframe tbody tr th {\n",
       "        vertical-align: top;\n",
       "    }\n",
       "\n",
       "    .dataframe thead th {\n",
       "        text-align: right;\n",
       "    }\n",
       "</style>\n",
       "<table border=\"1\" class=\"dataframe\">\n",
       "  <thead>\n",
       "    <tr style=\"text-align: right;\">\n",
       "      <th></th>\n",
       "      <th>Movie</th>\n",
       "      <th>Gender</th>\n",
       "      <th>Marital_Status</th>\n",
       "      <th>Sinage</th>\n",
       "      <th>Parking</th>\n",
       "      <th>Clean</th>\n",
       "      <th>Overall</th>\n",
       "      <th>Age</th>\n",
       "      <th>Income</th>\n",
       "      <th>Hear_About</th>\n",
       "    </tr>\n",
       "  </thead>\n",
       "  <tbody>\n",
       "    <tr>\n",
       "      <th>0</th>\n",
       "      <td>Ferris Buellers Day Off</td>\n",
       "      <td>2</td>\n",
       "      <td>1</td>\n",
       "      <td>2.0</td>\n",
       "      <td>2.0</td>\n",
       "      <td>2.0</td>\n",
       "      <td>2.0</td>\n",
       "      <td>3.0</td>\n",
       "      <td>1.0</td>\n",
       "      <td>5</td>\n",
       "    </tr>\n",
       "    <tr>\n",
       "      <th>1</th>\n",
       "      <td>Ferris Buellers Day Off</td>\n",
       "      <td>2</td>\n",
       "      <td>2</td>\n",
       "      <td>1.0</td>\n",
       "      <td>1.0</td>\n",
       "      <td>1.0</td>\n",
       "      <td>1.0</td>\n",
       "      <td>2.0</td>\n",
       "      <td>1.0</td>\n",
       "      <td>5</td>\n",
       "    </tr>\n",
       "    <tr>\n",
       "      <th>2</th>\n",
       "      <td>Ferris Buellers Day Off</td>\n",
       "      <td>1</td>\n",
       "      <td>1</td>\n",
       "      <td>2.0</td>\n",
       "      <td>4.0</td>\n",
       "      <td>3.0</td>\n",
       "      <td>2.0</td>\n",
       "      <td>4.0</td>\n",
       "      <td>1.0</td>\n",
       "      <td>5</td>\n",
       "    </tr>\n",
       "    <tr>\n",
       "      <th>3</th>\n",
       "      <td>Ferris Buellers Day Off</td>\n",
       "      <td>2</td>\n",
       "      <td>1</td>\n",
       "      <td>1.0</td>\n",
       "      <td>3.0</td>\n",
       "      <td>2.0</td>\n",
       "      <td>2.0</td>\n",
       "      <td>4.0</td>\n",
       "      <td>1.0</td>\n",
       "      <td>5</td>\n",
       "    </tr>\n",
       "    <tr>\n",
       "      <th>4</th>\n",
       "      <td>Ferris Buellers Day Off</td>\n",
       "      <td>2</td>\n",
       "      <td>1</td>\n",
       "      <td>1.0</td>\n",
       "      <td>1.0</td>\n",
       "      <td>1.0</td>\n",
       "      <td>1.0</td>\n",
       "      <td>3.0</td>\n",
       "      <td>3.0</td>\n",
       "      <td>1</td>\n",
       "    </tr>\n",
       "    <tr>\n",
       "      <th>...</th>\n",
       "      <td>...</td>\n",
       "      <td>...</td>\n",
       "      <td>...</td>\n",
       "      <td>...</td>\n",
       "      <td>...</td>\n",
       "      <td>...</td>\n",
       "      <td>...</td>\n",
       "      <td>...</td>\n",
       "      <td>...</td>\n",
       "      <td>...</td>\n",
       "    </tr>\n",
       "    <tr>\n",
       "      <th>325</th>\n",
       "      <td>Old School</td>\n",
       "      <td>2</td>\n",
       "      <td>2</td>\n",
       "      <td>1.0</td>\n",
       "      <td>2.0</td>\n",
       "      <td>1.0</td>\n",
       "      <td>1.0</td>\n",
       "      <td>2.0</td>\n",
       "      <td>1.0</td>\n",
       "      <td>1</td>\n",
       "    </tr>\n",
       "    <tr>\n",
       "      <th>326</th>\n",
       "      <td>Old School</td>\n",
       "      <td>1</td>\n",
       "      <td>1</td>\n",
       "      <td>2.0</td>\n",
       "      <td>2.0</td>\n",
       "      <td>2.0</td>\n",
       "      <td>2.0</td>\n",
       "      <td>3.0</td>\n",
       "      <td>3.0</td>\n",
       "      <td>5</td>\n",
       "    </tr>\n",
       "    <tr>\n",
       "      <th>327</th>\n",
       "      <td>Old School</td>\n",
       "      <td>2</td>\n",
       "      <td>1</td>\n",
       "      <td>2.0</td>\n",
       "      <td>1.0</td>\n",
       "      <td>1.0</td>\n",
       "      <td>2.0</td>\n",
       "      <td>2.0</td>\n",
       "      <td>2.0</td>\n",
       "      <td>5</td>\n",
       "    </tr>\n",
       "    <tr>\n",
       "      <th>328</th>\n",
       "      <td>Old School</td>\n",
       "      <td>1</td>\n",
       "      <td>1</td>\n",
       "      <td>1.0</td>\n",
       "      <td>1.0</td>\n",
       "      <td>1.0</td>\n",
       "      <td>1.0</td>\n",
       "      <td>2.0</td>\n",
       "      <td>1.0</td>\n",
       "      <td>3</td>\n",
       "    </tr>\n",
       "    <tr>\n",
       "      <th>329</th>\n",
       "      <td>Old School</td>\n",
       "      <td>2</td>\n",
       "      <td>2</td>\n",
       "      <td>2.0</td>\n",
       "      <td>2.0</td>\n",
       "      <td>3.0</td>\n",
       "      <td>1.0</td>\n",
       "      <td>2.0</td>\n",
       "      <td>1.0</td>\n",
       "      <td>5</td>\n",
       "    </tr>\n",
       "  </tbody>\n",
       "</table>\n",
       "<p>330 rows × 10 columns</p>\n",
       "</div>"
      ],
      "text/plain": [
       "                       Movie  Gender  Marital_Status  Sinage  Parking  Clean  \\\n",
       "0    Ferris Buellers Day Off       2               1     2.0      2.0    2.0   \n",
       "1    Ferris Buellers Day Off       2               2     1.0      1.0    1.0   \n",
       "2    Ferris Buellers Day Off       1               1     2.0      4.0    3.0   \n",
       "3    Ferris Buellers Day Off       2               1     1.0      3.0    2.0   \n",
       "4    Ferris Buellers Day Off       2               1     1.0      1.0    1.0   \n",
       "..                       ...     ...             ...     ...      ...    ...   \n",
       "325               Old School       2               2     1.0      2.0    1.0   \n",
       "326               Old School       1               1     2.0      2.0    2.0   \n",
       "327               Old School       2               1     2.0      1.0    1.0   \n",
       "328               Old School       1               1     1.0      1.0    1.0   \n",
       "329               Old School       2               2     2.0      2.0    3.0   \n",
       "\n",
       "     Overall  Age  Income  Hear_About  \n",
       "0        2.0  3.0     1.0           5  \n",
       "1        1.0  2.0     1.0           5  \n",
       "2        2.0  4.0     1.0           5  \n",
       "3        2.0  4.0     1.0           5  \n",
       "4        1.0  3.0     3.0           1  \n",
       "..       ...  ...     ...         ...  \n",
       "325      1.0  2.0     1.0           1  \n",
       "326      2.0  3.0     3.0           5  \n",
       "327      2.0  2.0     2.0           5  \n",
       "328      1.0  2.0     1.0           3  \n",
       "329      1.0  2.0     1.0           5  \n",
       "\n",
       "[330 rows x 10 columns]"
      ]
     },
     "execution_count": 96,
     "metadata": {},
     "output_type": "execute_result"
    }
   ],
   "source": [
    "film_data"
   ]
  },
  {
   "cell_type": "code",
   "execution_count": 97,
   "id": "e7b558a5",
   "metadata": {
    "ExecuteTime": {
     "end_time": "2022-06-15T12:32:23.786249Z",
     "start_time": "2022-06-15T12:32:23.756687Z"
    }
   },
   "outputs": [
    {
     "name": "stdout",
     "output_type": "stream",
     "text": [
      "<class 'pandas.core.frame.DataFrame'>\n",
      "RangeIndex: 330 entries, 0 to 329\n",
      "Data columns (total 10 columns):\n",
      " #   Column          Non-Null Count  Dtype  \n",
      "---  ------          --------------  -----  \n",
      " 0   Movie           330 non-null    object \n",
      " 1   Gender          330 non-null    int32  \n",
      " 2   Marital_Status  330 non-null    int32  \n",
      " 3   Sinage          330 non-null    float64\n",
      " 4   Parking         330 non-null    float64\n",
      " 5   Clean           330 non-null    float64\n",
      " 6   Overall         330 non-null    float64\n",
      " 7   Age             330 non-null    float64\n",
      " 8   Income          330 non-null    float64\n",
      " 9   Hear_About      330 non-null    int32  \n",
      "dtypes: float64(6), int32(3), object(1)\n",
      "memory usage: 22.0+ KB\n"
     ]
    }
   ],
   "source": [
    "film_data.info()"
   ]
  },
  {
   "cell_type": "markdown",
   "id": "5330df7e",
   "metadata": {},
   "source": [
    "# Solving BUSINESS PROBLEM:\n",
    "\n",
    "#### Use the survey results to address the following questions\n",
    "\n",
    "### a)  What is the overall level of customer satisfaction?"
   ]
  },
  {
   "cell_type": "code",
   "execution_count": 101,
   "id": "6e31597c",
   "metadata": {
    "ExecuteTime": {
     "end_time": "2022-06-15T12:35:01.833214Z",
     "start_time": "2022-06-15T12:34:56.102703Z"
    }
   },
   "outputs": [
    {
     "name": "stderr",
     "output_type": "stream",
     "text": [
      "C:\\Users\\rahul\\anaconda3\\lib\\site-packages\\seaborn\\distributions.py:2619: FutureWarning: `distplot` is a deprecated function and will be removed in a future version. Please adapt your code to use either `displot` (a figure-level function with similar flexibility) or `histplot` (an axes-level function for histograms).\n",
      "  warnings.warn(msg, FutureWarning)\n"
     ]
    },
    {
     "data": {
      "text/plain": [
       "<AxesSubplot:xlabel='Overall', ylabel='Density'>"
      ]
     },
     "execution_count": 101,
     "metadata": {},
     "output_type": "execute_result"
    },
    {
     "data": {
      "image/png": "[encoded data removed]",
      "text/plain": [
       "<Figure size 432x288 with 1 Axes>"
      ]
     },
     "metadata": {
      "needs_background": "light"
     },
     "output_type": "display_data"
    }
   ],
   "source": [
    "sns.distplot(film_data.Overall)"
   ]
  },
  {
   "cell_type": "code",
   "execution_count": 107,
   "id": "bc6e6012",
   "metadata": {
    "ExecuteTime": {
     "end_time": "2022-06-15T12:42:19.153671Z",
     "start_time": "2022-06-15T12:42:19.146604Z"
    }
   },
   "outputs": [],
   "source": [
    "import collections\n",
    "from collections import Counter"
   ]
  },
  {
   "cell_type": "code",
   "execution_count": 109,
   "id": "3a8da815",
   "metadata": {
    "ExecuteTime": {
     "end_time": "2022-06-15T12:45:40.070501Z",
     "start_time": "2022-06-15T12:45:40.051725Z"
    }
   },
   "outputs": [
    {
     "name": "stdout",
     "output_type": "stream",
     "text": [
      "Class=2.0, Count=162, Percentage=49.091%\n",
      "Class=1.0, Count=151, Percentage=45.758%\n",
      "Class=5.0, Count=4, Percentage=1.212%\n",
      "Class=3.0, Count=12, Percentage=3.636%\n",
      "Class=4.0, Count=1, Percentage=0.303%\n"
     ]
    }
   ],
   "source": [
    "counter= Counter(film_data.Overall)\n",
    "for k,v in counter.items():\n",
    "    per=v/len(film_data.Overall)*100\n",
    "    print('Class=%s, Count=%d, Percentage=%.3f%%' % (k,v,per))"
   ]
  },
  {
   "cell_type": "markdown",
   "id": "802f2821",
   "metadata": {},
   "source": [
    "#### Inference:  Overall customer satisfaction is very high, with 94.8% of respondents reporting either good or excellent customer service experience. These high levels of satisfaction are wonderful news for the promoters, sponsors, and customers of Film on the Rocks.  Only five customers reported Poor or Very Poor satisfaction.\n",
    "\n",
    "## b) What factors are linked to satisfaction?\n",
    "\n",
    "# Chi-Squared Test\n",
    "\n",
    "    •\tH0: the samples are independent.\n",
    "    •\tH1: there is a dependency between the samples\n",
    "\n",
    "### Chi Square between Sinage and Overall"
   ]
  },
  {
   "cell_type": "code",
   "execution_count": 121,
   "id": "358ec472",
   "metadata": {
    "ExecuteTime": {
     "end_time": "2022-06-15T13:42:47.348282Z",
     "start_time": "2022-06-15T13:42:47.342308Z"
    }
   },
   "outputs": [
    {
     "data": {
      "text/plain": [
       "Index(['Movie', 'Gender', 'Marital_Status', 'Sinage', 'Parking', 'Clean',\n",
       "       'Overall', 'Age', 'Income', 'Hear_About'],\n",
       "      dtype='object')"
      ]
     },
     "execution_count": 121,
     "metadata": {},
     "output_type": "execute_result"
    }
   ],
   "source": [
    "film_data.columns"
   ]
  },
  {
   "cell_type": "code",
   "execution_count": 122,
   "id": "b6a29853",
   "metadata": {
    "ExecuteTime": {
     "end_time": "2022-06-15T13:43:04.805536Z",
     "start_time": "2022-06-15T13:43:04.513800Z"
    }
   },
   "outputs": [],
   "source": [
    "test_table1 = pd.crosstab( film_data.Sinage, film_data.Overall )"
   ]
  },
  {
   "cell_type": "code",
   "execution_count": 123,
   "id": "ae6c4f93",
   "metadata": {
    "ExecuteTime": {
     "end_time": "2022-06-15T13:43:07.328634Z",
     "start_time": "2022-06-15T13:43:07.273785Z"
    }
   },
   "outputs": [],
   "source": [
    "test_table2 = pd.crosstab( film_data.Parking, film_data.Overall )"
   ]
  },
  {
   "cell_type": "code",
   "execution_count": 124,
   "id": "300df7e9",
   "metadata": {
    "ExecuteTime": {
     "end_time": "2022-06-15T13:43:09.659261Z",
     "start_time": "2022-06-15T13:43:09.633325Z"
    }
   },
   "outputs": [],
   "source": [
    "test_table3 = pd.crosstab( film_data.Clean, film_data.Overall )"
   ]
  },
  {
   "cell_type": "code",
   "execution_count": 125,
   "id": "7cd2f928",
   "metadata": {
    "ExecuteTime": {
     "end_time": "2022-06-15T13:46:29.796913Z",
     "start_time": "2022-06-15T13:46:29.777529Z"
    }
   },
   "outputs": [
    {
     "name": "stdout",
     "output_type": "stream",
     "text": [
      "p value:0.00000000000000000\n",
      "Reject null hypothesis\n"
     ]
    }
   ],
   "source": [
    "test_stat,p_value,dof, ex = stats.chi2_contingency(test_table1)\n",
    "print(\"p value:%.17f\" % p_value)\n",
    "if p_value <0.05:\n",
    "    print(\"Reject null hypothesis\")\n",
    "else:\n",
    "    print(\"Fail to reject null hypothesis\")"
   ]
  },
  {
   "cell_type": "code",
   "execution_count": 126,
   "id": "64cc6032",
   "metadata": {
    "ExecuteTime": {
     "end_time": "2022-06-15T13:46:51.004750Z",
     "start_time": "2022-06-15T13:46:50.991452Z"
    }
   },
   "outputs": [
    {
     "name": "stdout",
     "output_type": "stream",
     "text": [
      "p value:0.00000000000000000\n",
      "Reject null hypothesis\n"
     ]
    }
   ],
   "source": [
    "test_stat,p_value,dof, ex = stats.chi2_contingency(test_table2)\n",
    "print(\"p value:%.17f\" % p_value)\n",
    "if p_value <0.05:\n",
    "    print(\"Reject null hypothesis\")\n",
    "else:\n",
    "    print(\"Fail to reject null hypothesis\")"
   ]
  },
  {
   "cell_type": "code",
   "execution_count": 127,
   "id": "6e39cca8",
   "metadata": {
    "ExecuteTime": {
     "end_time": "2022-06-15T13:47:02.727831Z",
     "start_time": "2022-06-15T13:47:02.713869Z"
    }
   },
   "outputs": [
    {
     "name": "stdout",
     "output_type": "stream",
     "text": [
      "p value:0.00000000000000000\n",
      "Reject null hypothesis\n"
     ]
    }
   ],
   "source": [
    "test_stat,p_value,dof, ex = stats.chi2_contingency(test_table3)\n",
    "print(\"p value:%.17f\" % p_value)\n",
    "if p_value <0.05:\n",
    "    print(\"Reject null hypothesis\")\n",
    "else:\n",
    "    print(\"Fail to reject null hypothesis\")"
   ]
  },
  {
   "cell_type": "markdown",
   "id": "07dcaaa3",
   "metadata": {},
   "source": [
    "#### Inference: The p-values are very small , suggesting a strong association between these two satisfaction measures, we should be wary of those results because of limited information about dissatisfaction. Each and every factors are linked to overall satisfaction.\n",
    "\n",
    "\n",
    "## c) What is the demographic profile of Film on the Rocks patrons?"
   ]
  },
  {
   "cell_type": "code",
   "execution_count": 128,
   "id": "352a3bba",
   "metadata": {
    "ExecuteTime": {
     "end_time": "2022-06-15T14:02:02.866140Z",
     "start_time": "2022-06-15T14:02:01.260664Z"
    }
   },
   "outputs": [
    {
     "data": {
      "text/plain": [
       "<seaborn.axisgrid.FacetGrid at 0x1d224289ac0>"
      ]
     },
     "execution_count": 128,
     "metadata": {},
     "output_type": "execute_result"
    },
    {
     "data": {
      "image/png": "[encoded data removed]",
      "text/plain": [
       "<Figure size 360x360 with 1 Axes>"
      ]
     },
     "metadata": {
      "needs_background": "light"
     },
     "output_type": "display_data"
    }
   ],
   "source": [
    "sns.displot(film_data.Gender)"
   ]
  },
  {
   "cell_type": "code",
   "execution_count": 132,
   "id": "0c6eb8e8",
   "metadata": {
    "ExecuteTime": {
     "end_time": "2022-06-15T14:04:00.160907Z",
     "start_time": "2022-06-15T14:04:00.143091Z"
    }
   },
   "outputs": [
    {
     "name": "stdout",
     "output_type": "stream",
     "text": [
      "Class=2, Count=213, Percentage=64.545%\n",
      "Class=1, Count=117, Percentage=35.455%\n"
     ]
    }
   ],
   "source": [
    "counter= Counter(film_data.Gender)\n",
    "for k,v in counter.items():\n",
    "    per=v/len(film_data.Gender)*100\n",
    "    print('Class=%s, Count=%d, Percentage=%.3f%%' % (k,v,per))"
   ]
  },
  {
   "cell_type": "markdown",
   "id": "c322e6e6",
   "metadata": {},
   "source": [
    "#### Inference: the demographic profile of Film on the Rocks patrons in it we can say there is 64.5% are female"
   ]
  },
  {
   "cell_type": "code",
   "execution_count": 129,
   "id": "f9f12715",
   "metadata": {
    "ExecuteTime": {
     "end_time": "2022-06-15T14:02:19.642501Z",
     "start_time": "2022-06-15T14:02:19.158582Z"
    }
   },
   "outputs": [
    {
     "data": {
      "text/plain": [
       "<seaborn.axisgrid.FacetGrid at 0x1d223681820>"
      ]
     },
     "execution_count": 129,
     "metadata": {},
     "output_type": "execute_result"
    },
    {
     "data": {
      "image/png": "[encoded data removed]",
      "text/plain": [
       "<Figure size 360x360 with 1 Axes>"
      ]
     },
     "metadata": {
      "needs_background": "light"
     },
     "output_type": "display_data"
    }
   ],
   "source": [
    "sns.displot(film_data.Marital_Status)"
   ]
  },
  {
   "cell_type": "code",
   "execution_count": 133,
   "id": "798ef3be",
   "metadata": {
    "ExecuteTime": {
     "end_time": "2022-06-15T14:04:40.760666Z",
     "start_time": "2022-06-15T14:04:40.737727Z"
    }
   },
   "outputs": [
    {
     "name": "stdout",
     "output_type": "stream",
     "text": [
      "Class=1, Count=100, Percentage=30.303%\n",
      "Class=2, Count=230, Percentage=69.697%\n"
     ]
    }
   ],
   "source": [
    "counter= Counter(film_data.Marital_Status)\n",
    "for k,v in counter.items():\n",
    "    per=v/len(film_data.Marital_Status)*100\n",
    "    print('Class=%s, Count=%d, Percentage=%.3f%%' % (k,v,per))"
   ]
  },
  {
   "cell_type": "markdown",
   "id": "e39ececd",
   "metadata": {},
   "source": [
    "#### Inference: the demographic profile of Film on the Rocks patrons in it we can say there is almost 70% are single"
   ]
  },
  {
   "cell_type": "code",
   "execution_count": 130,
   "id": "eb22b542",
   "metadata": {
    "ExecuteTime": {
     "end_time": "2022-06-15T14:02:34.065187Z",
     "start_time": "2022-06-15T14:02:33.743115Z"
    }
   },
   "outputs": [
    {
     "data": {
      "text/plain": [
       "<seaborn.axisgrid.FacetGrid at 0x1d2237d7a90>"
      ]
     },
     "execution_count": 130,
     "metadata": {},
     "output_type": "execute_result"
    },
    {
     "data": {
      "image/png": "[encoded data removed]",
      "text/plain": [
       "<Figure size 360x360 with 1 Axes>"
      ]
     },
     "metadata": {
      "needs_background": "light"
     },
     "output_type": "display_data"
    }
   ],
   "source": [
    "sns.displot(film_data.Age)"
   ]
  },
  {
   "cell_type": "code",
   "execution_count": 134,
   "id": "de52318c",
   "metadata": {
    "ExecuteTime": {
     "end_time": "2022-06-15T14:04:52.844665Z",
     "start_time": "2022-06-15T14:04:52.831696Z"
    }
   },
   "outputs": [
    {
     "name": "stdout",
     "output_type": "stream",
     "text": [
      "Class=3.0, Count=117, Percentage=35.455%\n",
      "Class=2.0, Count=177, Percentage=53.636%\n",
      "Class=4.0, Count=10, Percentage=3.030%\n",
      "Class=1.0, Count=26, Percentage=7.879%\n"
     ]
    }
   ],
   "source": [
    "counter= Counter(film_data.Age)\n",
    "for k,v in counter.items():\n",
    "    per=v/len(film_data.Age)*100\n",
    "    print('Class=%s, Count=%d, Percentage=%.3f%%' % (k,v,per))"
   ]
  },
  {
   "cell_type": "markdown",
   "id": "c33c543b",
   "metadata": {},
   "source": [
    "#### Inference: the demographic profile of Film on the Rocks patrons in it we can say that the largest age group (53%) is 13 to 30 years old, although just over one-third are aged 31 to 60 years"
   ]
  },
  {
   "cell_type": "code",
   "execution_count": 131,
   "id": "aa74009c",
   "metadata": {
    "ExecuteTime": {
     "end_time": "2022-06-15T14:02:52.354396Z",
     "start_time": "2022-06-15T14:02:51.910541Z"
    }
   },
   "outputs": [
    {
     "data": {
      "text/plain": [
       "<seaborn.axisgrid.FacetGrid at 0x1d223ccabe0>"
      ]
     },
     "execution_count": 131,
     "metadata": {},
     "output_type": "execute_result"
    },
    {
     "data": {
      "image/png": "[encoded data removed]",
      "text/plain": [
       "<Figure size 360x360 with 1 Axes>"
      ]
     },
     "metadata": {
      "needs_background": "light"
     },
     "output_type": "display_data"
    }
   ],
   "source": [
    "sns.displot(film_data.Income)"
   ]
  },
  {
   "cell_type": "code",
   "execution_count": 135,
   "id": "63849272",
   "metadata": {
    "ExecuteTime": {
     "end_time": "2022-06-15T14:05:03.400989Z",
     "start_time": "2022-06-15T14:05:03.374723Z"
    }
   },
   "outputs": [
    {
     "name": "stdout",
     "output_type": "stream",
     "text": [
      "Class=1.0, Count=142, Percentage=43.030%\n",
      "Class=3.0, Count=90, Percentage=27.273%\n",
      "Class=1.8343949044585988, Count=16, Percentage=4.848%\n",
      "Class=2.0, Count=82, Percentage=24.848%\n"
     ]
    }
   ],
   "source": [
    "counter= Counter(film_data.Income)\n",
    "for k,v in counter.items():\n",
    "    per=v/len(film_data.Income)*100\n",
    "    print('Class=%s, Count=%d, Percentage=%.3f%%' % (k,v,per))"
   ]
  },
  {
   "cell_type": "markdown",
   "id": "1d932cbf",
   "metadata": {},
   "source": [
    "#### Inference: the demographic profile of Film on the Rocks patrons in it we can say that 43% of the respondents have household incomes of less than $50,000. "
   ]
  },
  {
   "cell_type": "markdown",
   "id": "1de96b12",
   "metadata": {},
   "source": [
    "## d) In what media outlet(s) should the film series be advertised?"
   ]
  },
  {
   "cell_type": "code",
   "execution_count": 136,
   "id": "24122ad5",
   "metadata": {
    "ExecuteTime": {
     "end_time": "2022-06-15T14:12:04.838307Z",
     "start_time": "2022-06-15T14:12:04.117423Z"
    }
   },
   "outputs": [
    {
     "name": "stderr",
     "output_type": "stream",
     "text": [
      "C:\\Users\\rahul\\anaconda3\\lib\\site-packages\\seaborn\\distributions.py:2619: FutureWarning: `distplot` is a deprecated function and will be removed in a future version. Please adapt your code to use either `displot` (a figure-level function with similar flexibility) or `histplot` (an axes-level function for histograms).\n",
      "  warnings.warn(msg, FutureWarning)\n"
     ]
    },
    {
     "data": {
      "text/plain": [
       "<AxesSubplot:xlabel='Hear_About', ylabel='Density'>"
      ]
     },
     "execution_count": 136,
     "metadata": {},
     "output_type": "execute_result"
    },
    {
     "data": {
      "image/png": "[encoded data removed]",
      "text/plain": [
       "<Figure size 432x288 with 1 Axes>"
      ]
     },
     "metadata": {
      "needs_background": "light"
     },
     "output_type": "display_data"
    }
   ],
   "source": [
    "sns.distplot(film_data.Hear_About)"
   ]
  },
  {
   "cell_type": "code",
   "execution_count": 137,
   "id": "cb5674d6",
   "metadata": {
    "ExecuteTime": {
     "end_time": "2022-06-15T14:12:43.953556Z",
     "start_time": "2022-06-15T14:12:43.934520Z"
    }
   },
   "outputs": [
    {
     "name": "stdout",
     "output_type": "stream",
     "text": [
      "Class=5, Count=241, Percentage=73.030%\n",
      "Class=1, Count=22, Percentage=6.667%\n",
      "Class=4, Count=41, Percentage=12.424%\n",
      "Class=2, Count=12, Percentage=3.636%\n",
      "Class=3, Count=14, Percentage=4.242%\n"
     ]
    }
   ],
   "source": [
    "counter= Counter(film_data.Hear_About)\n",
    "for k,v in counter.items():\n",
    "    per=v/len(film_data.Hear_About)*100\n",
    "    print('Class=%s, Count=%d, Percentage=%.3f%%' % (k,v,per))"
   ]
  },
  {
   "cell_type": "markdown",
   "id": "2f21a8fc",
   "metadata": {},
   "source": [
    "#### Inference: The majority (241 responses, or 73% ) said they heard about the film series by word of mouth.  The traditional media outlets (newspapers, website, radio, and television) were not able to reach up to the people."
   ]
  }
 ],
 "metadata": {
  "kernelspec": {
   "display_name": "Python 3 (ipykernel)",
   "language": "python",
   "name": "python3"
  },
  "language_info": {
   "codemirror_mode": {
    "name": "ipython",
    "version": 3
   },
   "file_extension": ".py",
   "mimetype": "text/x-python",
   "name": "python",
   "nbconvert_exporter": "python",
   "pygments_lexer": "ipython3",
   "version": "3.9.12"
  }
 },
 "nbformat": 4,
 "nbformat_minor": 5
}
