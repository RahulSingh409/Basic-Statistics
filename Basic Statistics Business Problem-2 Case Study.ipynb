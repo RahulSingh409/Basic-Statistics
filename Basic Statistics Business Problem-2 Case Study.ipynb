{
 "cells": [
  {
   "cell_type": "markdown",
   "id": "c0b930a2",
   "metadata": {},
   "source": [
    "# Basic Statistics Case Study\n",
    "\n",
    "# Business Problem-2\n",
    "\n",
    "## BACKGROUND:\n",
    "\n",
    "When an order is placed by a customer of a small manufacturing company, a price quote must be developed for that order. Because each order is unique, quotes must be established on an order-by-order basis by a pricing expert. The price quote process is laborintensive, as prices depend on many factors such as the part number, customer, geographic location, market, and order volume. The sales department manager is concerned that the pricing process is too complex, and that there might be too much variability in the quoted prices. An improvement team is tasked with studying and improving the pricing process. After interviewing experts to develop a better understanding of the current process, the team designed a study to determine if there is variability between pricing experts. That is, do different pricing experts provide different price quotes? Two randomly selected pricing experts, Mary and Barry, were asked to independently provide prices for twelve randomly selected orders. Each\n",
    "expert provided one price for each of the twelve orders.\n",
    "\n",
    "## BUSINESS PROBLEM:\n",
    "\n",
    "We would like to assess if there is any difference in the average\n",
    "price quotes provided by Mary and Barry.\n",
    "\n",
    "## DATA AVAILABLE:\n",
    "\n",
    "The data set contains the order number, 1 through 12, and the price quotes by Mary\n",
    "and Barry for each order. Each row in the data set is the same order. Thus, Mary and\n",
    "Barry produced quotes for the same orders.\n",
    "\n",
    "### Import Libraries"
   ]
  },
  {
   "cell_type": "code",
   "execution_count": 1,
   "id": "1dc37ea4",
   "metadata": {
    "ExecuteTime": {
     "end_time": "2022-06-15T04:59:10.449002Z",
     "start_time": "2022-06-15T04:57:29.884397Z"
    }
   },
   "outputs": [],
   "source": [
    "import numpy as np\n",
    "import pandas as pd\n",
    "import matplotlib.pyplot as plt\n",
    "import scipy.stats as stats\n",
    "import seaborn as sns\n",
    "from scipy import stats\n",
    "\n",
    "%matplotlib inline"
   ]
  },
  {
   "cell_type": "code",
   "execution_count": 2,
   "id": "f9a06be3",
   "metadata": {
    "ExecuteTime": {
     "end_time": "2022-06-15T04:59:59.367489Z",
     "start_time": "2022-06-15T04:59:58.526218Z"
    }
   },
   "outputs": [
    {
     "data": {
      "text/html": [
       "<div>\n",
       "<style scoped>\n",
       "    .dataframe tbody tr th:only-of-type {\n",
       "        vertical-align: middle;\n",
       "    }\n",
       "\n",
       "    .dataframe tbody tr th {\n",
       "        vertical-align: top;\n",
       "    }\n",
       "\n",
       "    .dataframe thead th {\n",
       "        text-align: right;\n",
       "    }\n",
       "</style>\n",
       "<table border=\"1\" class=\"dataframe\">\n",
       "  <thead>\n",
       "    <tr style=\"text-align: right;\">\n",
       "      <th></th>\n",
       "      <th>Order_Number</th>\n",
       "      <th>Barry_Price</th>\n",
       "      <th>Mary_Price</th>\n",
       "    </tr>\n",
       "  </thead>\n",
       "  <tbody>\n",
       "    <tr>\n",
       "      <th>0</th>\n",
       "      <td>1</td>\n",
       "      <td>126</td>\n",
       "      <td>114</td>\n",
       "    </tr>\n",
       "    <tr>\n",
       "      <th>1</th>\n",
       "      <td>2</td>\n",
       "      <td>110</td>\n",
       "      <td>118</td>\n",
       "    </tr>\n",
       "    <tr>\n",
       "      <th>2</th>\n",
       "      <td>3</td>\n",
       "      <td>138</td>\n",
       "      <td>114</td>\n",
       "    </tr>\n",
       "    <tr>\n",
       "      <th>3</th>\n",
       "      <td>4</td>\n",
       "      <td>142</td>\n",
       "      <td>111</td>\n",
       "    </tr>\n",
       "    <tr>\n",
       "      <th>4</th>\n",
       "      <td>5</td>\n",
       "      <td>146</td>\n",
       "      <td>129</td>\n",
       "    </tr>\n",
       "    <tr>\n",
       "      <th>5</th>\n",
       "      <td>6</td>\n",
       "      <td>136</td>\n",
       "      <td>119</td>\n",
       "    </tr>\n",
       "    <tr>\n",
       "      <th>6</th>\n",
       "      <td>7</td>\n",
       "      <td>94</td>\n",
       "      <td>97</td>\n",
       "    </tr>\n",
       "    <tr>\n",
       "      <th>7</th>\n",
       "      <td>8</td>\n",
       "      <td>103</td>\n",
       "      <td>104</td>\n",
       "    </tr>\n",
       "    <tr>\n",
       "      <th>8</th>\n",
       "      <td>9</td>\n",
       "      <td>140</td>\n",
       "      <td>127</td>\n",
       "    </tr>\n",
       "    <tr>\n",
       "      <th>9</th>\n",
       "      <td>10</td>\n",
       "      <td>152</td>\n",
       "      <td>133</td>\n",
       "    </tr>\n",
       "    <tr>\n",
       "      <th>10</th>\n",
       "      <td>11</td>\n",
       "      <td>108</td>\n",
       "      <td>103</td>\n",
       "    </tr>\n",
       "    <tr>\n",
       "      <th>11</th>\n",
       "      <td>12</td>\n",
       "      <td>97</td>\n",
       "      <td>108</td>\n",
       "    </tr>\n",
       "  </tbody>\n",
       "</table>\n",
       "</div>"
      ],
      "text/plain": [
       "    Order_Number  Barry_Price  Mary_Price\n",
       "0              1          126         114\n",
       "1              2          110         118\n",
       "2              3          138         114\n",
       "3              4          142         111\n",
       "4              5          146         129\n",
       "5              6          136         119\n",
       "6              7           94          97\n",
       "7              8          103         104\n",
       "8              9          140         127\n",
       "9             10          152         133\n",
       "10            11          108         103\n",
       "11            12           97         108"
      ]
     },
     "execution_count": 2,
     "metadata": {},
     "output_type": "execute_result"
    }
   ],
   "source": [
    "price_data= pd.read_csv('Price_Quotes.csv')\n",
    "price_data"
   ]
  },
  {
   "cell_type": "code",
   "execution_count": 3,
   "id": "48befaf6",
   "metadata": {
    "ExecuteTime": {
     "end_time": "2022-06-15T05:06:17.069800Z",
     "start_time": "2022-06-15T05:06:17.017940Z"
    }
   },
   "outputs": [],
   "source": [
    "def check_normality(data):\n",
    "    test_stat_normality, p_value_normality=stats.shapiro(data)\n",
    "    print(\"p value:%.4f\" % p_value_normality)\n",
    "    if p_value_normality <0.05:\n",
    "        print(\"Reject null hypothesis >> The data is not normally distributed\")\n",
    "    else:\n",
    "        print(\"Fail to reject null hypothesis >> The data is normally distributed\")  "
   ]
  },
  {
   "cell_type": "code",
   "execution_count": 4,
   "id": "c1ab50b7",
   "metadata": {
    "ExecuteTime": {
     "end_time": "2022-06-15T05:06:24.710632Z",
     "start_time": "2022-06-15T05:06:24.692681Z"
    }
   },
   "outputs": [],
   "source": [
    "def check_variance_homogeneity(group1, group2):\n",
    "    test_stat_var, p_value_var= stats.levene(group1,group2)\n",
    "    print(\"p value:%.4f\" % p_value_var)\n",
    "    if p_value_var <0.05:\n",
    "        print(\"Reject null hypothesis >> The variances of the samples are different.\")\n",
    "    else:\n",
    "        print(\"Fail to reject null hypothesis >> The variances of the samples are same.\")"
   ]
  },
  {
   "cell_type": "markdown",
   "id": "c936b21b",
   "metadata": {},
   "source": [
    "### 1. Defining Hypothesis\n",
    "\n",
    "We would like to assess if there is any difference in the average price quotes provided by Mary and Barry.\n",
    "\n",
    "#### H0: There is no difference in the average price quotes provided by Mary and Barry.\n",
    "#### H1: There is difference in the average price quotes provided by Mary and Barry.\n",
    "\n",
    "The performance of the methods by using a 0.05 significance level. the hypothesis testing to check whether there is a difference between the performance of the methods by using a 0.05 significance level.\n",
    "\n",
    "### 2. Assumption Check\n",
    "\n",
    "    H₀: The data is normally distributed.\n",
    "    H₁: The data is not normally distributed.\n",
    "\n",
    "    H₀: The variances of the samples are the same.\n",
    "    H₁: The variances of the samples are different."
   ]
  },
  {
   "cell_type": "code",
   "execution_count": 5,
   "id": "4cb6f4d6",
   "metadata": {
    "ExecuteTime": {
     "end_time": "2022-06-15T05:07:41.105389Z",
     "start_time": "2022-06-15T05:07:40.309701Z"
    }
   },
   "outputs": [
    {
     "name": "stdout",
     "output_type": "stream",
     "text": [
      "p value:0.9288\n",
      "Fail to reject null hypothesis >> The data is normally distributed\n",
      "p value:0.1644\n",
      "Fail to reject null hypothesis >> The data is normally distributed\n"
     ]
    }
   ],
   "source": [
    "check_normality(price_data.Mary_Price)\n",
    "check_normality(price_data.Barry_Price)"
   ]
  },
  {
   "cell_type": "code",
   "execution_count": 6,
   "id": "41a88766",
   "metadata": {
    "ExecuteTime": {
     "end_time": "2022-06-15T05:08:19.554821Z",
     "start_time": "2022-06-15T05:08:19.131292Z"
    }
   },
   "outputs": [
    {
     "name": "stdout",
     "output_type": "stream",
     "text": [
      "p value:0.0190\n",
      "Reject null hypothesis >> The variances of the samples are different.\n"
     ]
    }
   ],
   "source": [
    "check_variance_homogeneity(price_data.Mary_Price,price_data.Barry_Price)"
   ]
  },
  {
   "cell_type": "markdown",
   "id": "c4a950ee",
   "metadata": {},
   "source": [
    "### 3. Selecting the Proper Test"
   ]
  },
  {
   "cell_type": "code",
   "execution_count": 7,
   "id": "135cd935",
   "metadata": {
    "ExecuteTime": {
     "end_time": "2022-06-15T05:12:49.929194Z",
     "start_time": "2022-06-15T05:12:49.844657Z"
    }
   },
   "outputs": [
    {
     "name": "stdout",
     "output_type": "stream",
     "text": [
      "p value:0.028406\n",
      "Reject null hypothesis\n"
     ]
    }
   ],
   "source": [
    "statsat, p_value = stats.ttest_rel(price_data.Mary_Price,price_data.Barry_Price)\n",
    "print(\"p value:%.6f\" % p_value)\n",
    "if p_value <0.05:\n",
    "    print(\"Reject null hypothesis\")\n",
    "else:\n",
    "    print(\"Fail to reject null hypothesis\")"
   ]
  },
  {
   "cell_type": "markdown",
   "id": "daadba2c",
   "metadata": {},
   "source": [
    "### 4. Decision and Conclusion\n",
    "\n",
    "we observe a p-value of 0.0284.This confirms what we learned with the confidence interval for the difference there is a significant difference in average price quotes provided by Mary and Barry. "
   ]
  }
 ],
 "metadata": {
  "kernelspec": {
   "display_name": "Python 3 (ipykernel)",
   "language": "python",
   "name": "python3"
  },
  "language_info": {
   "codemirror_mode": {
    "name": "ipython",
    "version": 3
   },
   "file_extension": ".py",
   "mimetype": "text/x-python",
   "name": "python",
   "nbconvert_exporter": "python",
   "pygments_lexer": "ipython3",
   "version": "3.9.12"
  }
 },
 "nbformat": 4,
 "nbformat_minor": 5
}
