{
 "cells": [
  {
   "cell_type": "markdown",
   "id": "d168c19b",
   "metadata": {},
   "source": [
    "# Basic Statistics Case Study\n",
    "\n",
    "# Business Problem-4\n",
    "\n",
    "## BACKGROUND:\n",
    "\n",
    "Software development projects typically follow six basic phases: Requirements, design, implementation (and integration), testing (validation), deployment (installation) and maintenance. First, general requirements are gathered, and the scope of the functionality is defined. Then, alternative scenarios for the required functionality are developed and evaluated. Implementation, usually 50% or more of the development time, is the phase in which the design is translated into programs and integrated with other parts of the software – this is when software engineers actually develop the code. During the final phases, programs are tested, software is put into use, and faults or performance issues are addressed. ApDudes, a developer of applications for tablet computers, was having difficulty meeting project deadlines; only 10% of their projects had been completed within budget and on time last year and that was starting to hurt business. The group’s project manager was tasked with studying problems within the implementation phase. He found that software engineers were having difficulty prioritizing their work, and that they often became overwhelmed by the magnitude of the projects. As a result, two changes were made. Each project was broken down into smaller, distinct tasks, or jobs, and each job was assigned a priority. The project manager believes that this classification and prioritization system would speed the completion of high priority jobs, and\n",
    "thus lower overall project completion time\n",
    "\n",
    "## BUSINESS PROBLEM:\n",
    "\n",
    "We will focus on the prioritization system. If the system is working, then high priority jobs, on average, should be completed more quickly than medium priority jobs, and medium priority jobs should be completed more quickly than low priority jobs. Use the data provided to determine whether this is, in fact, occurring.\n",
    "\n",
    "## DATA AVAILABLE:\n",
    "\n",
    "The data set contains a random sample of 642 jobs completed over the last six months. The\n",
    "variables in the data set are:\n",
    "\n",
    "    Days The number of days it took to complete the job\n",
    "    Priority The priority level assigned to that job\n",
    "    \n",
    "#### Import Libraries    "
   ]
  },
  {
   "cell_type": "code",
   "execution_count": 1,
   "id": "9f0a8cc8",
   "metadata": {
    "ExecuteTime": {
     "end_time": "2022-06-15T08:54:35.128398Z",
     "start_time": "2022-06-15T08:54:04.426999Z"
    }
   },
   "outputs": [],
   "source": [
    "import numpy as np\n",
    "import pandas as pd\n",
    "import matplotlib.pyplot as plt\n",
    "import scipy.stats as stats\n",
    "import seaborn as sns\n",
    "from scipy import stats\n",
    "\n",
    "%matplotlib inline"
   ]
  },
  {
   "cell_type": "code",
   "execution_count": 2,
   "id": "87bf60a3",
   "metadata": {
    "ExecuteTime": {
     "end_time": "2022-06-15T08:55:20.532800Z",
     "start_time": "2022-06-15T08:55:20.248826Z"
    }
   },
   "outputs": [
    {
     "data": {
      "text/html": [
       "<div>\n",
       "<style scoped>\n",
       "    .dataframe tbody tr th:only-of-type {\n",
       "        vertical-align: middle;\n",
       "    }\n",
       "\n",
       "    .dataframe tbody tr th {\n",
       "        vertical-align: top;\n",
       "    }\n",
       "\n",
       "    .dataframe thead th {\n",
       "        text-align: right;\n",
       "    }\n",
       "</style>\n",
       "<table border=\"1\" class=\"dataframe\">\n",
       "  <thead>\n",
       "    <tr style=\"text-align: right;\">\n",
       "      <th></th>\n",
       "      <th>Days</th>\n",
       "      <th>Priority</th>\n",
       "    </tr>\n",
       "  </thead>\n",
       "  <tbody>\n",
       "    <tr>\n",
       "      <th>0</th>\n",
       "      <td>3.3</td>\n",
       "      <td>High</td>\n",
       "    </tr>\n",
       "    <tr>\n",
       "      <th>1</th>\n",
       "      <td>7.9</td>\n",
       "      <td>Medium</td>\n",
       "    </tr>\n",
       "    <tr>\n",
       "      <th>2</th>\n",
       "      <td>0.3</td>\n",
       "      <td>High</td>\n",
       "    </tr>\n",
       "    <tr>\n",
       "      <th>3</th>\n",
       "      <td>0.7</td>\n",
       "      <td>Medium</td>\n",
       "    </tr>\n",
       "    <tr>\n",
       "      <th>4</th>\n",
       "      <td>8.6</td>\n",
       "      <td>Medium</td>\n",
       "    </tr>\n",
       "    <tr>\n",
       "      <th>...</th>\n",
       "      <td>...</td>\n",
       "      <td>...</td>\n",
       "    </tr>\n",
       "    <tr>\n",
       "      <th>637</th>\n",
       "      <td>2.5</td>\n",
       "      <td>Low</td>\n",
       "    </tr>\n",
       "    <tr>\n",
       "      <th>638</th>\n",
       "      <td>0.3</td>\n",
       "      <td>High</td>\n",
       "    </tr>\n",
       "    <tr>\n",
       "      <th>639</th>\n",
       "      <td>0.3</td>\n",
       "      <td>Medium</td>\n",
       "    </tr>\n",
       "    <tr>\n",
       "      <th>640</th>\n",
       "      <td>1.3</td>\n",
       "      <td>Medium</td>\n",
       "    </tr>\n",
       "    <tr>\n",
       "      <th>641</th>\n",
       "      <td>0.5</td>\n",
       "      <td>High</td>\n",
       "    </tr>\n",
       "  </tbody>\n",
       "</table>\n",
       "<p>642 rows × 2 columns</p>\n",
       "</div>"
      ],
      "text/plain": [
       "     Days Priority\n",
       "0     3.3     High\n",
       "1     7.9   Medium\n",
       "2     0.3     High\n",
       "3     0.7   Medium\n",
       "4     8.6   Medium\n",
       "..    ...      ...\n",
       "637   2.5      Low\n",
       "638   0.3     High\n",
       "639   0.3   Medium\n",
       "640   1.3   Medium\n",
       "641   0.5     High\n",
       "\n",
       "[642 rows x 2 columns]"
      ]
     },
     "execution_count": 2,
     "metadata": {},
     "output_type": "execute_result"
    }
   ],
   "source": [
    "priority_data=pd.read_csv('Priority_Assessment.csv')\n",
    "priority_data"
   ]
  },
  {
   "cell_type": "code",
   "execution_count": 4,
   "id": "c43d9f4c",
   "metadata": {
    "ExecuteTime": {
     "end_time": "2022-06-15T09:15:45.930246Z",
     "start_time": "2022-06-15T09:15:45.895338Z"
    }
   },
   "outputs": [
    {
     "data": {
      "text/plain": [
       "Days        0\n",
       "Priority    0\n",
       "dtype: int64"
      ]
     },
     "execution_count": 4,
     "metadata": {},
     "output_type": "execute_result"
    }
   ],
   "source": [
    "priority_data.isnull().sum()"
   ]
  },
  {
   "cell_type": "code",
   "execution_count": 5,
   "id": "06617066",
   "metadata": {
    "ExecuteTime": {
     "end_time": "2022-06-15T09:17:13.962360Z",
     "start_time": "2022-06-15T09:17:13.942414Z"
    }
   },
   "outputs": [],
   "source": [
    "days = 'Days'"
   ]
  },
  {
   "cell_type": "code",
   "execution_count": 6,
   "id": "26202f1f",
   "metadata": {
    "ExecuteTime": {
     "end_time": "2022-06-15T09:17:57.927637Z",
     "start_time": "2022-06-15T09:17:57.894544Z"
    }
   },
   "outputs": [],
   "source": [
    "low= priority_data.loc[priority_data.Priority=='Low', days]\n",
    "medium= priority_data.loc[priority_data.Priority=='Medium', days]\n",
    "high= priority_data.loc[priority_data.Priority=='High', days]"
   ]
  },
  {
   "cell_type": "code",
   "execution_count": 11,
   "id": "db8b2473",
   "metadata": {
    "ExecuteTime": {
     "end_time": "2022-06-15T09:35:55.283078Z",
     "start_time": "2022-06-15T09:35:55.256152Z"
    }
   },
   "outputs": [
    {
     "name": "stdout",
     "output_type": "stream",
     "text": [
      "mean High_Priority: 3.023619631901845 | mean Medium_Priority: 2.5000000000000004 | mean Low_Priority: 4.228358208955225\n"
     ]
    }
   ],
   "source": [
    "print( 'mean High_Priority:', high.mean(), '| mean Medium_Priority:', medium.mean(), \n",
    "      '| mean Low_Priority:', low.mean() )"
   ]
  },
  {
   "cell_type": "code",
   "execution_count": 7,
   "id": "a4f6dd8f",
   "metadata": {
    "ExecuteTime": {
     "end_time": "2022-06-15T09:19:28.812477Z",
     "start_time": "2022-06-15T09:19:28.801507Z"
    }
   },
   "outputs": [],
   "source": [
    "def check_normality(data):\n",
    "    test_stat_normality, p_value_normality=stats.shapiro(data)\n",
    "    print(\"p value:%.4f\" % p_value_normality)\n",
    "    if p_value_normality <0.05:\n",
    "        print(\"Reject null hypothesis >> The data is not normally distributed\")\n",
    "    else:\n",
    "        print(\"Fail to reject null hypothesis >> The data is normally distributed\")  "
   ]
  },
  {
   "cell_type": "markdown",
   "id": "2b782fe0",
   "metadata": {},
   "source": [
    "### 1. Defining Hypothesis\n",
    "\n",
    "To determine if the reengineering effort changed the critical incidence rate. Is there evidence that the critical incidence rate\n",
    "improved?\n",
    "\n",
    "    H₀: μ₁=μ₂ or The mean of the samples is the same. No difference in the prioritization system.\n",
    "    H₁: At least one of them is different.There is difference in the prioritization system.\n",
    "    \n",
    "The performance of the methods by using a 0.05 significance level. the hypothesis testing to check whether there is a difference between the performance of the methods by using a 0.05 significance level.\n",
    "\n",
    "### 2. Assumption Check\n",
    "\n",
    "    H₀: The data is normally distributed.\n",
    "    H₁: The data is not normally distributed.\n",
    "\n",
    "    H₀: The variances of the samples are the same.\n",
    "    H₁: The variances of the samples are different.    "
   ]
  },
  {
   "cell_type": "code",
   "execution_count": 8,
   "id": "e6603f9a",
   "metadata": {
    "ExecuteTime": {
     "end_time": "2022-06-15T09:22:47.192949Z",
     "start_time": "2022-06-15T09:22:47.032090Z"
    }
   },
   "outputs": [
    {
     "name": "stdout",
     "output_type": "stream",
     "text": [
      "p value:0.0000\n",
      "Reject null hypothesis >> The data is not normally distributed\n",
      "p value:0.0000\n",
      "Reject null hypothesis >> The data is not normally distributed\n",
      "p value:0.0000\n",
      "Reject null hypothesis >> The data is not normally distributed\n"
     ]
    }
   ],
   "source": [
    "check_normality(low)\n",
    "check_normality(medium)\n",
    "check_normality(high)"
   ]
  },
  {
   "cell_type": "code",
   "execution_count": 9,
   "id": "49baa4d7",
   "metadata": {
    "ExecuteTime": {
     "end_time": "2022-06-15T09:23:38.813963Z",
     "start_time": "2022-06-15T09:23:38.793023Z"
    }
   },
   "outputs": [
    {
     "name": "stdout",
     "output_type": "stream",
     "text": [
      "p value:0.1993\n",
      "Fail to reject null hypothesis >> The variances of the samples are same.\n"
     ]
    }
   ],
   "source": [
    "stat, pvalue_levene= stats.levene(low, medium, high)\n",
    "\n",
    "print(\"p value:%.4f\" % pvalue_levene)\n",
    "if pvalue_levene <0.05:\n",
    "    print(\"Reject null hypothesis >> The variances of the samples are different.\")\n",
    "else:\n",
    "    print(\"Fail to reject null hypothesis >> The variances of the samples are same.\")"
   ]
  },
  {
   "cell_type": "markdown",
   "id": "3a557e33",
   "metadata": {},
   "source": [
    "### 3. Selecting the Proper Test"
   ]
  },
  {
   "cell_type": "code",
   "execution_count": 10,
   "id": "c1cacf62",
   "metadata": {
    "ExecuteTime": {
     "end_time": "2022-06-15T09:30:35.943577Z",
     "start_time": "2022-06-15T09:30:35.928617Z"
    }
   },
   "outputs": [
    {
     "name": "stdout",
     "output_type": "stream",
     "text": [
      "p value:0.164115\n",
      "Fail to reject null hypothesis\n"
     ]
    }
   ],
   "source": [
    "F, p_value = stats.f_oneway(low, medium, high)\n",
    "print(\"p value:%.6f\" % p_value)\n",
    "if p_value <0.05:\n",
    "    print(\"Reject null hypothesis\")\n",
    "else:\n",
    "    print(\"Fail to reject null hypothesis\")"
   ]
  },
  {
   "cell_type": "markdown",
   "id": "bf81e8d2",
   "metadata": {},
   "source": [
    "### 4. Decision and Conclusion\n",
    "\n",
    "There are significant differences in the average completion time for the three priority levels (at a significance level of 0.05). There is neither a statistical nor real priority jobs are being completed faster than medium world reason to conclude that high priority jobs on average."
   ]
  }
 ],
 "metadata": {
  "kernelspec": {
   "display_name": "Python 3 (ipykernel)",
   "language": "python",
   "name": "python3"
  },
  "language_info": {
   "codemirror_mode": {
    "name": "ipython",
    "version": 3
   },
   "file_extension": ".py",
   "mimetype": "text/x-python",
   "name": "python",
   "nbconvert_exporter": "python",
   "pygments_lexer": "ipython3",
   "version": "3.9.12"
  }
 },
 "nbformat": 4,
 "nbformat_minor": 5
}
