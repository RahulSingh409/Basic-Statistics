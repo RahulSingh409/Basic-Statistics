{
 "cells": [
  {
   "cell_type": "markdown",
   "id": "ca7ca6ad",
   "metadata": {},
   "source": [
    "# Basic Statistics Case Study\n",
    "\n",
    "# Business Problem-3\n",
    "\n",
    "## BACKGROUND:\n",
    "\n",
    "The New Life Residential Treatment Facility is a NGO that treats teenagers who have shown signs of mental illness. It provides housing and supervision of teenagers who are making the transition from psychiatric hospitals back into the community. Because many of the teenagers were severely abused as children and have been involved with the juvenile justice system, behavioral problems are common at New Life. Employee pay is low and staff turnover (attrition) is high. A reengineering program was instituted at New Life with the goals of lowering behavioral problems of the kids and decreasing employee turnover rates. As a part of this effort, the following changes were made:\n",
    "\n",
    "     Employee shifts were shortened from 10 hours to 8 hours each day.\n",
    "     Employees were motivated to become more involved in patient treatments. This included encouraging staff to run various therapeutic treatment sessions and allowing staff to have more say in program changes.\n",
    "     The activities budget was increased.\n",
    "     A facility-wide performance evaluation system was put into place that rewarded staff participation and innovation.\n",
    "     Management and staff instituted a program designed to raise expectations about appropriate behavior from the kids. This included strict compliance with reporting of behavioral violations, insistence on participation in therapeutic sessions, and a     lowered tolerance for even moderate behavioral infractions.\n",
    "    \n",
    "To determine the effectiveness of the reengineering effort, a data set comprised of pre- and post-reengineering periods was compiled. The information contains two measures of behavioral problems. A critical incident occurs when a resident goes AWOL (leaves the premises without permission), destroys property (e.g., punching a hole in a wall or throwing furniture through windows), is caught in possession of street drugs, or engages in assault against other residents or staff members. A teenager is temporarily removed from the facility when s/he is sent to jail or back to a psychiatric hospital\n",
    "\n",
    "## BUSINESS PROBLEM:\n",
    "\n",
    "Determine what effect, if any, the reengineering effort had on the incidence behavioral problems and staff turnover. i.e To determine if the reengineering effort changed the critical incidence rate. Is there evidence that the critical incidence rate\n",
    "improved?\n",
    "\n",
    "## DATA AVAILABLE:\n",
    "\n",
    "The data set contains 20 months of data; the first 13 months were prior to reengineering. The variables in the data include:\n",
    "\n",
    "     Reengineer: Whether the month was before (Prior) or after (Post) reengineering\n",
    "     Employee Turnover: The percentage of employees who quit in a given month, out of the total number of employees\n",
    "     TRFF(%): The percentage of residents who were temporarily removed from the facility, out of the total number of residents\n",
    "     CI (%): The percentage of critical incident reports written that month, out of the total number of residents\n",
    "    \n",
    "#### Import Libraries    "
   ]
  },
  {
   "cell_type": "code",
   "execution_count": 1,
   "id": "7438c97a",
   "metadata": {
    "ExecuteTime": {
     "end_time": "2022-06-15T06:48:56.579043Z",
     "start_time": "2022-06-15T06:48:27.734691Z"
    }
   },
   "outputs": [],
   "source": [
    "import numpy as np\n",
    "import pandas as pd\n",
    "import matplotlib.pyplot as plt\n",
    "import scipy.stats as stats\n",
    "import seaborn as sns\n",
    "from scipy import stats\n",
    "\n",
    "%matplotlib inline"
   ]
  },
  {
   "cell_type": "code",
   "execution_count": 2,
   "id": "ae4f5ac8",
   "metadata": {
    "ExecuteTime": {
     "end_time": "2022-06-15T06:52:02.113035Z",
     "start_time": "2022-06-15T06:52:01.737191Z"
    }
   },
   "outputs": [
    {
     "data": {
      "text/html": [
       "<div>\n",
       "<style scoped>\n",
       "    .dataframe tbody tr th:only-of-type {\n",
       "        vertical-align: middle;\n",
       "    }\n",
       "\n",
       "    .dataframe tbody tr th {\n",
       "        vertical-align: top;\n",
       "    }\n",
       "\n",
       "    .dataframe thead th {\n",
       "        text-align: right;\n",
       "    }\n",
       "</style>\n",
       "<table border=\"1\" class=\"dataframe\">\n",
       "  <thead>\n",
       "    <tr style=\"text-align: right;\">\n",
       "      <th></th>\n",
       "      <th>Month</th>\n",
       "      <th>Reengineer</th>\n",
       "      <th>Employee_Turnover</th>\n",
       "      <th>VAR4</th>\n",
       "      <th>VAR5</th>\n",
       "    </tr>\n",
       "  </thead>\n",
       "  <tbody>\n",
       "    <tr>\n",
       "      <th>0</th>\n",
       "      <td>1</td>\n",
       "      <td>Prior</td>\n",
       "      <td>0.0000</td>\n",
       "      <td>24.390244</td>\n",
       "      <td>42.682927</td>\n",
       "    </tr>\n",
       "    <tr>\n",
       "      <th>1</th>\n",
       "      <td>2</td>\n",
       "      <td>Prior</td>\n",
       "      <td>6.0606</td>\n",
       "      <td>19.354839</td>\n",
       "      <td>25.806452</td>\n",
       "    </tr>\n",
       "    <tr>\n",
       "      <th>2</th>\n",
       "      <td>3</td>\n",
       "      <td>Prior</td>\n",
       "      <td>12.1212</td>\n",
       "      <td>35.087719</td>\n",
       "      <td>146.198830</td>\n",
       "    </tr>\n",
       "    <tr>\n",
       "      <th>3</th>\n",
       "      <td>4</td>\n",
       "      <td>Prior</td>\n",
       "      <td>3.3333</td>\n",
       "      <td>18.404908</td>\n",
       "      <td>110.429448</td>\n",
       "    </tr>\n",
       "    <tr>\n",
       "      <th>4</th>\n",
       "      <td>5</td>\n",
       "      <td>Prior</td>\n",
       "      <td>12.9032</td>\n",
       "      <td>17.964072</td>\n",
       "      <td>23.952096</td>\n",
       "    </tr>\n",
       "    <tr>\n",
       "      <th>5</th>\n",
       "      <td>6</td>\n",
       "      <td>Prior</td>\n",
       "      <td>9.6774</td>\n",
       "      <td>41.176471</td>\n",
       "      <td>47.058824</td>\n",
       "    </tr>\n",
       "    <tr>\n",
       "      <th>6</th>\n",
       "      <td>7</td>\n",
       "      <td>Prior</td>\n",
       "      <td>11.7647</td>\n",
       "      <td>13.422819</td>\n",
       "      <td>0.000000</td>\n",
       "    </tr>\n",
       "    <tr>\n",
       "      <th>7</th>\n",
       "      <td>8</td>\n",
       "      <td>Prior</td>\n",
       "      <td>11.4286</td>\n",
       "      <td>31.250000</td>\n",
       "      <td>25.000000</td>\n",
       "    </tr>\n",
       "    <tr>\n",
       "      <th>8</th>\n",
       "      <td>9</td>\n",
       "      <td>Prior</td>\n",
       "      <td>23.0769</td>\n",
       "      <td>17.241379</td>\n",
       "      <td>132.183908</td>\n",
       "    </tr>\n",
       "    <tr>\n",
       "      <th>9</th>\n",
       "      <td>10</td>\n",
       "      <td>Prior</td>\n",
       "      <td>15.0000</td>\n",
       "      <td>16.574586</td>\n",
       "      <td>16.574586</td>\n",
       "    </tr>\n",
       "    <tr>\n",
       "      <th>10</th>\n",
       "      <td>11</td>\n",
       "      <td>Prior</td>\n",
       "      <td>10.0000</td>\n",
       "      <td>5.917160</td>\n",
       "      <td>88.757396</td>\n",
       "    </tr>\n",
       "    <tr>\n",
       "      <th>11</th>\n",
       "      <td>12</td>\n",
       "      <td>Prior</td>\n",
       "      <td>26.0870</td>\n",
       "      <td>21.164021</td>\n",
       "      <td>31.746032</td>\n",
       "    </tr>\n",
       "    <tr>\n",
       "      <th>12</th>\n",
       "      <td>13</td>\n",
       "      <td>Prior</td>\n",
       "      <td>11.1111</td>\n",
       "      <td>5.076142</td>\n",
       "      <td>10.152284</td>\n",
       "    </tr>\n",
       "    <tr>\n",
       "      <th>13</th>\n",
       "      <td>14</td>\n",
       "      <td>Post</td>\n",
       "      <td>26.6667</td>\n",
       "      <td>9.708738</td>\n",
       "      <td>29.126214</td>\n",
       "    </tr>\n",
       "    <tr>\n",
       "      <th>14</th>\n",
       "      <td>15</td>\n",
       "      <td>Post</td>\n",
       "      <td>17.9487</td>\n",
       "      <td>4.201681</td>\n",
       "      <td>21.008403</td>\n",
       "    </tr>\n",
       "    <tr>\n",
       "      <th>15</th>\n",
       "      <td>16</td>\n",
       "      <td>Post</td>\n",
       "      <td>12.8205</td>\n",
       "      <td>13.043478</td>\n",
       "      <td>34.782609</td>\n",
       "    </tr>\n",
       "    <tr>\n",
       "      <th>16</th>\n",
       "      <td>17</td>\n",
       "      <td>Post</td>\n",
       "      <td>15.7895</td>\n",
       "      <td>9.950249</td>\n",
       "      <td>19.900498</td>\n",
       "    </tr>\n",
       "    <tr>\n",
       "      <th>17</th>\n",
       "      <td>18</td>\n",
       "      <td>Post</td>\n",
       "      <td>0.0000</td>\n",
       "      <td>9.950249</td>\n",
       "      <td>9.950249</td>\n",
       "    </tr>\n",
       "    <tr>\n",
       "      <th>18</th>\n",
       "      <td>19</td>\n",
       "      <td>Post</td>\n",
       "      <td>30.7692</td>\n",
       "      <td>8.510638</td>\n",
       "      <td>25.531915</td>\n",
       "    </tr>\n",
       "    <tr>\n",
       "      <th>19</th>\n",
       "      <td>20</td>\n",
       "      <td>Post</td>\n",
       "      <td>26.8293</td>\n",
       "      <td>9.259259</td>\n",
       "      <td>23.148148</td>\n",
       "    </tr>\n",
       "  </tbody>\n",
       "</table>\n",
       "</div>"
      ],
      "text/plain": [
       "    Month Reengineer  Employee_Turnover       VAR4        VAR5\n",
       "0       1      Prior             0.0000  24.390244   42.682927\n",
       "1       2      Prior             6.0606  19.354839   25.806452\n",
       "2       3      Prior            12.1212  35.087719  146.198830\n",
       "3       4      Prior             3.3333  18.404908  110.429448\n",
       "4       5      Prior            12.9032  17.964072   23.952096\n",
       "5       6      Prior             9.6774  41.176471   47.058824\n",
       "6       7      Prior            11.7647  13.422819    0.000000\n",
       "7       8      Prior            11.4286  31.250000   25.000000\n",
       "8       9      Prior            23.0769  17.241379  132.183908\n",
       "9      10      Prior            15.0000  16.574586   16.574586\n",
       "10     11      Prior            10.0000   5.917160   88.757396\n",
       "11     12      Prior            26.0870  21.164021   31.746032\n",
       "12     13      Prior            11.1111   5.076142   10.152284\n",
       "13     14       Post            26.6667   9.708738   29.126214\n",
       "14     15       Post            17.9487   4.201681   21.008403\n",
       "15     16       Post            12.8205  13.043478   34.782609\n",
       "16     17       Post            15.7895   9.950249   19.900498\n",
       "17     18       Post             0.0000   9.950249    9.950249\n",
       "18     19       Post            30.7692   8.510638   25.531915\n",
       "19     20       Post            26.8293   9.259259   23.148148"
      ]
     },
     "execution_count": 2,
     "metadata": {},
     "output_type": "execute_result"
    }
   ],
   "source": [
    "treatment_data= pd.read_csv('Treatment_Facility.csv')\n",
    "treatment_data                            "
   ]
  },
  {
   "cell_type": "code",
   "execution_count": 8,
   "id": "89ec19f1",
   "metadata": {
    "ExecuteTime": {
     "end_time": "2022-06-15T07:07:41.499678Z",
     "start_time": "2022-06-15T07:07:41.493607Z"
    }
   },
   "outputs": [],
   "source": [
    "usage = \"VAR5\""
   ]
  },
  {
   "cell_type": "code",
   "execution_count": 14,
   "id": "2b2c7efd",
   "metadata": {
    "ExecuteTime": {
     "end_time": "2022-06-15T07:17:33.695682Z",
     "start_time": "2022-06-15T07:17:33.674739Z"
    }
   },
   "outputs": [],
   "source": [
    "Prior= treatment_data.loc[treatment_data.Reengineer=='Prior',usage]\n",
    "Post= treatment_data.loc[treatment_data.Reengineer=='Post',usage]"
   ]
  },
  {
   "cell_type": "code",
   "execution_count": 12,
   "id": "7b31208e",
   "metadata": {
    "ExecuteTime": {
     "end_time": "2022-06-15T07:09:43.597443Z",
     "start_time": "2022-06-15T07:09:43.583481Z"
    }
   },
   "outputs": [],
   "source": [
    "def check_normality(data):\n",
    "    test_stat_normality, p_value_normality=stats.shapiro(data)\n",
    "    print(\"p value:%.4f\" % p_value_normality)\n",
    "    if p_value_normality <0.05:\n",
    "        print(\"Reject null hypothesis >> The data is not normally distributed\")\n",
    "    else:\n",
    "        print(\"Fail to reject null hypothesis >> The data is normally distributed\")  "
   ]
  },
  {
   "cell_type": "code",
   "execution_count": 13,
   "id": "b7354885",
   "metadata": {
    "ExecuteTime": {
     "end_time": "2022-06-15T07:09:51.655298Z",
     "start_time": "2022-06-15T07:09:51.645219Z"
    }
   },
   "outputs": [],
   "source": [
    "def check_variance_homogeneity(group1, group2):\n",
    "    test_stat_var, p_value_var= stats.levene(group1,group2)\n",
    "    print(\"p value:%.4f\" % p_value_var)\n",
    "    if p_value_var <0.05:\n",
    "        print(\"Reject null hypothesis >> The variances of the samples are different.\")\n",
    "    else:\n",
    "        print(\"Fail to reject null hypothesis >> The variances of the samples are same.\")"
   ]
  },
  {
   "cell_type": "markdown",
   "id": "a137aca9",
   "metadata": {},
   "source": [
    "### 1. Defining Hypothesis\n",
    "\n",
    "To determine if the reengineering effort changed the critical incidence rate. Is there evidence that the critical incidence rate\n",
    "improved?\n",
    "\n",
    "    H₀: μ₁=μ₂ or The mean of the samples is the same.\n",
    "    H₁: At least one of them is different.\n",
    "    \n",
    "The performance of the methods by using a 0.05 significance level. the hypothesis testing to check whether there is a difference between the performance of the methods by using a 0.05 significance level.\n",
    "\n",
    "### 2. Assumption Check\n",
    "\n",
    "    H₀: The data is normally distributed.\n",
    "    H₁: The data is not normally distributed.\n",
    "\n",
    "    H₀: The variances of the samples are the same.\n",
    "    H₁: The variances of the samples are different.    "
   ]
  },
  {
   "cell_type": "code",
   "execution_count": 15,
   "id": "343232d8",
   "metadata": {
    "ExecuteTime": {
     "end_time": "2022-06-15T07:20:10.539253Z",
     "start_time": "2022-06-15T07:20:10.478053Z"
    }
   },
   "outputs": [
    {
     "name": "stdout",
     "output_type": "stream",
     "text": [
      "p value:0.0328\n",
      "Reject null hypothesis >> The data is not normally distributed\n",
      "p value:0.9451\n",
      "Fail to reject null hypothesis >> The data is normally distributed\n"
     ]
    }
   ],
   "source": [
    "check_normality(Prior)\n",
    "check_normality(Post)"
   ]
  },
  {
   "cell_type": "code",
   "execution_count": 16,
   "id": "57b66e98",
   "metadata": {
    "ExecuteTime": {
     "end_time": "2022-06-15T07:21:01.848926Z",
     "start_time": "2022-06-15T07:21:01.787090Z"
    }
   },
   "outputs": [
    {
     "name": "stdout",
     "output_type": "stream",
     "text": [
      "p value:0.0575\n",
      "Fail to reject null hypothesis >> The variances of the samples are same.\n"
     ]
    }
   ],
   "source": [
    "check_variance_homogeneity(Prior, Post)"
   ]
  },
  {
   "cell_type": "markdown",
   "id": "7cd28dae",
   "metadata": {},
   "source": [
    "### 3. Selecting the Proper Test"
   ]
  },
  {
   "cell_type": "code",
   "execution_count": 21,
   "id": "88ce3ff9",
   "metadata": {
    "ExecuteTime": {
     "end_time": "2022-06-15T10:12:13.753746Z",
     "start_time": "2022-06-15T10:12:13.536041Z"
    }
   },
   "outputs": [
    {
     "name": "stdout",
     "output_type": "stream",
     "text": [
      "p value:0.12091989\n",
      "Fail to reject null hypothesis\n"
     ]
    }
   ],
   "source": [
    "ttest,p_value = stats.ttest_ind(Prior,Post)\n",
    "print(\"p value:%.8f\" % p_value)\n",
    "\n",
    "if p_value <0.05:\n",
    "    print(\"Reject null hypothesis\")\n",
    "else:\n",
    "    print(\"Fail to reject null hypothesis\")"
   ]
  },
  {
   "cell_type": "markdown",
   "id": "8529bf84",
   "metadata": {},
   "source": [
    "### 4. Decision and Conclusion\n",
    "\n",
    "we observe a p-value of 0.120920 which is higher than significance level. This prove that there is no change in critical incidence rate. "
   ]
  }
 ],
 "metadata": {
  "kernelspec": {
   "display_name": "Python 3 (ipykernel)",
   "language": "python",
   "name": "python3"
  },
  "language_info": {
   "codemirror_mode": {
    "name": "ipython",
    "version": 3
   },
   "file_extension": ".py",
   "mimetype": "text/x-python",
   "name": "python",
   "nbconvert_exporter": "python",
   "pygments_lexer": "ipython3",
   "version": "3.9.12"
  }
 },
 "nbformat": 4,
 "nbformat_minor": 5
}
