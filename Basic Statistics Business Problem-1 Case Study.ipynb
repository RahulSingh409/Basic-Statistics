{
 "cells": [
  {
   "cell_type": "markdown",
   "id": "8f7dee3f",
   "metadata": {},
   "source": [
    "# Basic Statistics Case Study\n",
    "\n",
    "# Business Problem-1\n",
    "\n",
    "### BACKGROUND:\n",
    "The Lending Club is a peer-to-peer lending site where members make loans to\n",
    "each other. The site makes anonymized data on loans and borrowers publicly available.\n",
    "### BUSINESS PROBLEM:\n",
    "Using lending club loans data, the team would like to test below hypothesis on how different factors effecing each other (Hint: You may leverage hypothesis testing using statistical tests)\n",
    "\n",
    "    a. Intrest rate is varied for different loan amounts (Less intrest charged for high loan\n",
    "    amounts)\n",
    "    b. Loan length is directly effecting intrest rate.\n",
    "    c. Inrest rate varies for different purpose of loans.\n",
    "    d. There is relationship between FICO scores and Home Ownership. It means that, People\n",
    "    with owning home will have high FICO scores.\n",
    "\n",
    "### DATA AVAILABLE:\n",
    "The data have the following variables (with data type and explanation of meaning)\n",
    "\n",
    "     Amount.Requested - numeric. The amount (in dollars) requested in the loan application.\n",
    "     Amount.Funded.By.Investors - numeric. The amount (in dollars) loaned to the individual.\n",
    "     Interest.rate – character. The lending interest rate charged to the borrower.\n",
    "     Loan.length - character. The length of time (in months) of the loan.\n",
    "     Loan.Purpose – categorical variable. The purpose of the loan as stated by the applicant.\n",
    "     Debt.to.Income.Ratio – character. The % of consumer’s gross income going toward paying\n",
    "    debts.\n",
    "     State - character. The abbreviation for the U.S. state of residence of the loan applicant.\n",
    "     Home.ownership - character. Indicates whether the applicant owns, rents, or has a\n",
    "    mortgage.\n",
    "     Monthly.income - categorical. The monthly income of the applicant (in dollars).\n",
    "     FICO.range – categorical (expressed as a string label e.g. “650-655”). A range indicating the\n",
    "    applicants FICO score.\n",
    "     Open.CREDIT.Lines - numeric. The number of open lines of credit at the time of\n",
    "    application.\n",
    "     Revolving.CREDIT.Balance - numeric. The total amount outstanding all lines of credit.\n",
    "     Inquiries.in.the.Last.6.Months - numeric. Number of credit inquiries in the previous 6\n",
    "    months.\n",
    "     Employment.Length - character. Length of time employed at current job.\n",
    "    \n",
    "\n",
    "#### Importing Libraries "
   ]
  },
  {
   "cell_type": "code",
   "execution_count": 2,
   "id": "1fc200a2",
   "metadata": {
    "ExecuteTime": {
     "end_time": "2022-06-15T13:17:08.234093Z",
     "start_time": "2022-06-15T13:16:34.955026Z"
    }
   },
   "outputs": [],
   "source": [
    "import numpy as np\n",
    "import pandas as pd\n",
    "import matplotlib.pyplot as plt\n",
    "import scipy.stats as stats\n",
    "import seaborn as sns\n",
    "from scipy import stats\n",
    "\n",
    "%matplotlib inline"
   ]
  },
  {
   "cell_type": "markdown",
   "id": "56e9a9e3",
   "metadata": {},
   "source": [
    "# Data Cleaning"
   ]
  },
  {
   "cell_type": "code",
   "execution_count": 3,
   "id": "b1a2ba01",
   "metadata": {
    "ExecuteTime": {
     "end_time": "2022-06-15T13:17:08.685386Z",
     "start_time": "2022-06-15T13:17:08.237098Z"
    }
   },
   "outputs": [
    {
     "data": {
      "text/html": [
       "<div>\n",
       "<style scoped>\n",
       "    .dataframe tbody tr th:only-of-type {\n",
       "        vertical-align: middle;\n",
       "    }\n",
       "\n",
       "    .dataframe tbody tr th {\n",
       "        vertical-align: top;\n",
       "    }\n",
       "\n",
       "    .dataframe thead th {\n",
       "        text-align: right;\n",
       "    }\n",
       "</style>\n",
       "<table border=\"1\" class=\"dataframe\">\n",
       "  <thead>\n",
       "    <tr style=\"text-align: right;\">\n",
       "      <th></th>\n",
       "      <th>Amount.Requested</th>\n",
       "      <th>Amount.Funded.By.Investors</th>\n",
       "      <th>Interest.Rate</th>\n",
       "      <th>Loan.Length</th>\n",
       "      <th>Loan.Purpose</th>\n",
       "      <th>Debt.To.Income.Ratio</th>\n",
       "      <th>State</th>\n",
       "      <th>Home.Ownership</th>\n",
       "      <th>Monthly.Income</th>\n",
       "      <th>FICO.Range</th>\n",
       "      <th>Open.CREDIT.Lines</th>\n",
       "      <th>Revolving.CREDIT.Balance</th>\n",
       "      <th>Inquiries.in.the.Last.6.Months</th>\n",
       "      <th>Employment.Length</th>\n",
       "    </tr>\n",
       "  </thead>\n",
       "  <tbody>\n",
       "    <tr>\n",
       "      <th>0</th>\n",
       "      <td>20000.0</td>\n",
       "      <td>20000.0</td>\n",
       "      <td>8.90%</td>\n",
       "      <td>36 months</td>\n",
       "      <td>debt_consolidation</td>\n",
       "      <td>14.90%</td>\n",
       "      <td>SC</td>\n",
       "      <td>MORTGAGE</td>\n",
       "      <td>6541.67</td>\n",
       "      <td>735-739</td>\n",
       "      <td>14.0</td>\n",
       "      <td>14272.0</td>\n",
       "      <td>2.0</td>\n",
       "      <td>&lt; 1 year</td>\n",
       "    </tr>\n",
       "    <tr>\n",
       "      <th>1</th>\n",
       "      <td>19200.0</td>\n",
       "      <td>19200.0</td>\n",
       "      <td>12.12%</td>\n",
       "      <td>36 months</td>\n",
       "      <td>debt_consolidation</td>\n",
       "      <td>28.36%</td>\n",
       "      <td>TX</td>\n",
       "      <td>MORTGAGE</td>\n",
       "      <td>4583.33</td>\n",
       "      <td>715-719</td>\n",
       "      <td>12.0</td>\n",
       "      <td>11140.0</td>\n",
       "      <td>1.0</td>\n",
       "      <td>2 years</td>\n",
       "    </tr>\n",
       "    <tr>\n",
       "      <th>2</th>\n",
       "      <td>35000.0</td>\n",
       "      <td>35000.0</td>\n",
       "      <td>21.98%</td>\n",
       "      <td>60 months</td>\n",
       "      <td>debt_consolidation</td>\n",
       "      <td>23.81%</td>\n",
       "      <td>CA</td>\n",
       "      <td>MORTGAGE</td>\n",
       "      <td>11500.00</td>\n",
       "      <td>690-694</td>\n",
       "      <td>14.0</td>\n",
       "      <td>21977.0</td>\n",
       "      <td>1.0</td>\n",
       "      <td>2 years</td>\n",
       "    </tr>\n",
       "    <tr>\n",
       "      <th>3</th>\n",
       "      <td>10000.0</td>\n",
       "      <td>9975.0</td>\n",
       "      <td>9.99%</td>\n",
       "      <td>36 months</td>\n",
       "      <td>debt_consolidation</td>\n",
       "      <td>14.30%</td>\n",
       "      <td>KS</td>\n",
       "      <td>MORTGAGE</td>\n",
       "      <td>3833.33</td>\n",
       "      <td>695-699</td>\n",
       "      <td>10.0</td>\n",
       "      <td>9346.0</td>\n",
       "      <td>0.0</td>\n",
       "      <td>5 years</td>\n",
       "    </tr>\n",
       "    <tr>\n",
       "      <th>4</th>\n",
       "      <td>12000.0</td>\n",
       "      <td>12000.0</td>\n",
       "      <td>11.71%</td>\n",
       "      <td>36 months</td>\n",
       "      <td>credit_card</td>\n",
       "      <td>18.78%</td>\n",
       "      <td>NJ</td>\n",
       "      <td>RENT</td>\n",
       "      <td>3195.00</td>\n",
       "      <td>695-699</td>\n",
       "      <td>11.0</td>\n",
       "      <td>14469.0</td>\n",
       "      <td>0.0</td>\n",
       "      <td>9 years</td>\n",
       "    </tr>\n",
       "  </tbody>\n",
       "</table>\n",
       "</div>"
      ],
      "text/plain": [
       "   Amount.Requested  Amount.Funded.By.Investors Interest.Rate Loan.Length  \\\n",
       "0           20000.0                     20000.0         8.90%   36 months   \n",
       "1           19200.0                     19200.0        12.12%   36 months   \n",
       "2           35000.0                     35000.0        21.98%   60 months   \n",
       "3           10000.0                      9975.0         9.99%   36 months   \n",
       "4           12000.0                     12000.0        11.71%   36 months   \n",
       "\n",
       "         Loan.Purpose Debt.To.Income.Ratio State Home.Ownership  \\\n",
       "0  debt_consolidation               14.90%    SC       MORTGAGE   \n",
       "1  debt_consolidation               28.36%    TX       MORTGAGE   \n",
       "2  debt_consolidation               23.81%    CA       MORTGAGE   \n",
       "3  debt_consolidation               14.30%    KS       MORTGAGE   \n",
       "4         credit_card               18.78%    NJ           RENT   \n",
       "\n",
       "   Monthly.Income FICO.Range  Open.CREDIT.Lines  Revolving.CREDIT.Balance  \\\n",
       "0         6541.67    735-739               14.0                   14272.0   \n",
       "1         4583.33    715-719               12.0                   11140.0   \n",
       "2        11500.00    690-694               14.0                   21977.0   \n",
       "3         3833.33    695-699               10.0                    9346.0   \n",
       "4         3195.00    695-699               11.0                   14469.0   \n",
       "\n",
       "   Inquiries.in.the.Last.6.Months Employment.Length  \n",
       "0                             2.0          < 1 year  \n",
       "1                             1.0           2 years  \n",
       "2                             1.0           2 years  \n",
       "3                             0.0           5 years  \n",
       "4                             0.0           9 years  "
      ]
     },
     "execution_count": 3,
     "metadata": {},
     "output_type": "execute_result"
    }
   ],
   "source": [
    "loan_data = pd.read_csv('LoansData.csv')\n",
    "loan_data.head()"
   ]
  },
  {
   "cell_type": "code",
   "execution_count": 4,
   "id": "4cd6d27b",
   "metadata": {
    "ExecuteTime": {
     "end_time": "2022-06-15T13:17:08.840740Z",
     "start_time": "2022-06-15T13:17:08.692372Z"
    }
   },
   "outputs": [
    {
     "name": "stdout",
     "output_type": "stream",
     "text": [
      "<class 'pandas.core.frame.DataFrame'>\n",
      "RangeIndex: 2500 entries, 0 to 2499\n",
      "Data columns (total 14 columns):\n",
      " #   Column                          Non-Null Count  Dtype  \n",
      "---  ------                          --------------  -----  \n",
      " 0   Amount.Requested                2499 non-null   float64\n",
      " 1   Amount.Funded.By.Investors      2499 non-null   float64\n",
      " 2   Interest.Rate                   2498 non-null   object \n",
      " 3   Loan.Length                     2500 non-null   object \n",
      " 4   Loan.Purpose                    2500 non-null   object \n",
      " 5   Debt.To.Income.Ratio            2499 non-null   object \n",
      " 6   State                           2500 non-null   object \n",
      " 7   Home.Ownership                  2499 non-null   object \n",
      " 8   Monthly.Income                  2499 non-null   float64\n",
      " 9   FICO.Range                      2498 non-null   object \n",
      " 10  Open.CREDIT.Lines               2497 non-null   float64\n",
      " 11  Revolving.CREDIT.Balance        2497 non-null   float64\n",
      " 12  Inquiries.in.the.Last.6.Months  2497 non-null   float64\n",
      " 13  Employment.Length               2423 non-null   object \n",
      "dtypes: float64(6), object(8)\n",
      "memory usage: 273.6+ KB\n"
     ]
    }
   ],
   "source": [
    "loan_data.info()"
   ]
  },
  {
   "cell_type": "code",
   "execution_count": 5,
   "id": "9eebc89a",
   "metadata": {
    "ExecuteTime": {
     "end_time": "2022-06-15T13:17:08.981118Z",
     "start_time": "2022-06-15T13:17:08.849550Z"
    }
   },
   "outputs": [],
   "source": [
    "loan_data['Interest.Rate']=loan_data['Interest.Rate'].str.strip('%').astype(float)"
   ]
  },
  {
   "cell_type": "code",
   "execution_count": 6,
   "id": "54fba893",
   "metadata": {
    "ExecuteTime": {
     "end_time": "2022-06-15T13:17:09.187580Z",
     "start_time": "2022-06-15T13:17:08.987109Z"
    }
   },
   "outputs": [
    {
     "data": {
      "text/html": [
       "<div>\n",
       "<style scoped>\n",
       "    .dataframe tbody tr th:only-of-type {\n",
       "        vertical-align: middle;\n",
       "    }\n",
       "\n",
       "    .dataframe tbody tr th {\n",
       "        vertical-align: top;\n",
       "    }\n",
       "\n",
       "    .dataframe thead th {\n",
       "        text-align: right;\n",
       "    }\n",
       "</style>\n",
       "<table border=\"1\" class=\"dataframe\">\n",
       "  <thead>\n",
       "    <tr style=\"text-align: right;\">\n",
       "      <th></th>\n",
       "      <th>Amount.Requested</th>\n",
       "      <th>Amount.Funded.By.Investors</th>\n",
       "      <th>Interest.Rate</th>\n",
       "      <th>Loan.Length</th>\n",
       "      <th>Loan.Purpose</th>\n",
       "      <th>Debt.To.Income.Ratio</th>\n",
       "      <th>State</th>\n",
       "      <th>Home.Ownership</th>\n",
       "      <th>Monthly.Income</th>\n",
       "      <th>FICO.Range</th>\n",
       "      <th>Open.CREDIT.Lines</th>\n",
       "      <th>Revolving.CREDIT.Balance</th>\n",
       "      <th>Inquiries.in.the.Last.6.Months</th>\n",
       "      <th>Employment.Length</th>\n",
       "    </tr>\n",
       "  </thead>\n",
       "  <tbody>\n",
       "    <tr>\n",
       "      <th>0</th>\n",
       "      <td>20000.0</td>\n",
       "      <td>20000.0</td>\n",
       "      <td>8.90</td>\n",
       "      <td>36 months</td>\n",
       "      <td>debt_consolidation</td>\n",
       "      <td>14.90%</td>\n",
       "      <td>SC</td>\n",
       "      <td>MORTGAGE</td>\n",
       "      <td>6541.67</td>\n",
       "      <td>735-739</td>\n",
       "      <td>14.0</td>\n",
       "      <td>14272.0</td>\n",
       "      <td>2.0</td>\n",
       "      <td>&lt; 1 year</td>\n",
       "    </tr>\n",
       "    <tr>\n",
       "      <th>1</th>\n",
       "      <td>19200.0</td>\n",
       "      <td>19200.0</td>\n",
       "      <td>12.12</td>\n",
       "      <td>36 months</td>\n",
       "      <td>debt_consolidation</td>\n",
       "      <td>28.36%</td>\n",
       "      <td>TX</td>\n",
       "      <td>MORTGAGE</td>\n",
       "      <td>4583.33</td>\n",
       "      <td>715-719</td>\n",
       "      <td>12.0</td>\n",
       "      <td>11140.0</td>\n",
       "      <td>1.0</td>\n",
       "      <td>2 years</td>\n",
       "    </tr>\n",
       "    <tr>\n",
       "      <th>2</th>\n",
       "      <td>35000.0</td>\n",
       "      <td>35000.0</td>\n",
       "      <td>21.98</td>\n",
       "      <td>60 months</td>\n",
       "      <td>debt_consolidation</td>\n",
       "      <td>23.81%</td>\n",
       "      <td>CA</td>\n",
       "      <td>MORTGAGE</td>\n",
       "      <td>11500.00</td>\n",
       "      <td>690-694</td>\n",
       "      <td>14.0</td>\n",
       "      <td>21977.0</td>\n",
       "      <td>1.0</td>\n",
       "      <td>2 years</td>\n",
       "    </tr>\n",
       "    <tr>\n",
       "      <th>3</th>\n",
       "      <td>10000.0</td>\n",
       "      <td>9975.0</td>\n",
       "      <td>9.99</td>\n",
       "      <td>36 months</td>\n",
       "      <td>debt_consolidation</td>\n",
       "      <td>14.30%</td>\n",
       "      <td>KS</td>\n",
       "      <td>MORTGAGE</td>\n",
       "      <td>3833.33</td>\n",
       "      <td>695-699</td>\n",
       "      <td>10.0</td>\n",
       "      <td>9346.0</td>\n",
       "      <td>0.0</td>\n",
       "      <td>5 years</td>\n",
       "    </tr>\n",
       "    <tr>\n",
       "      <th>4</th>\n",
       "      <td>12000.0</td>\n",
       "      <td>12000.0</td>\n",
       "      <td>11.71</td>\n",
       "      <td>36 months</td>\n",
       "      <td>credit_card</td>\n",
       "      <td>18.78%</td>\n",
       "      <td>NJ</td>\n",
       "      <td>RENT</td>\n",
       "      <td>3195.00</td>\n",
       "      <td>695-699</td>\n",
       "      <td>11.0</td>\n",
       "      <td>14469.0</td>\n",
       "      <td>0.0</td>\n",
       "      <td>9 years</td>\n",
       "    </tr>\n",
       "  </tbody>\n",
       "</table>\n",
       "</div>"
      ],
      "text/plain": [
       "   Amount.Requested  Amount.Funded.By.Investors  Interest.Rate Loan.Length  \\\n",
       "0           20000.0                     20000.0           8.90   36 months   \n",
       "1           19200.0                     19200.0          12.12   36 months   \n",
       "2           35000.0                     35000.0          21.98   60 months   \n",
       "3           10000.0                      9975.0           9.99   36 months   \n",
       "4           12000.0                     12000.0          11.71   36 months   \n",
       "\n",
       "         Loan.Purpose Debt.To.Income.Ratio State Home.Ownership  \\\n",
       "0  debt_consolidation               14.90%    SC       MORTGAGE   \n",
       "1  debt_consolidation               28.36%    TX       MORTGAGE   \n",
       "2  debt_consolidation               23.81%    CA       MORTGAGE   \n",
       "3  debt_consolidation               14.30%    KS       MORTGAGE   \n",
       "4         credit_card               18.78%    NJ           RENT   \n",
       "\n",
       "   Monthly.Income FICO.Range  Open.CREDIT.Lines  Revolving.CREDIT.Balance  \\\n",
       "0         6541.67    735-739               14.0                   14272.0   \n",
       "1         4583.33    715-719               12.0                   11140.0   \n",
       "2        11500.00    690-694               14.0                   21977.0   \n",
       "3         3833.33    695-699               10.0                    9346.0   \n",
       "4         3195.00    695-699               11.0                   14469.0   \n",
       "\n",
       "   Inquiries.in.the.Last.6.Months Employment.Length  \n",
       "0                             2.0          < 1 year  \n",
       "1                             1.0           2 years  \n",
       "2                             1.0           2 years  \n",
       "3                             0.0           5 years  \n",
       "4                             0.0           9 years  "
      ]
     },
     "execution_count": 6,
     "metadata": {},
     "output_type": "execute_result"
    }
   ],
   "source": [
    "loan_data.head()"
   ]
  },
  {
   "cell_type": "code",
   "execution_count": 7,
   "id": "558d00f7",
   "metadata": {
    "ExecuteTime": {
     "end_time": "2022-06-15T13:17:09.312830Z",
     "start_time": "2022-06-15T13:17:09.188577Z"
    }
   },
   "outputs": [],
   "source": [
    "loan_data['Loan.Length.Month']=loan_data['Loan.Length'].str.split(' ').str[0].astype(float)"
   ]
  },
  {
   "cell_type": "code",
   "execution_count": 8,
   "id": "3f389f44",
   "metadata": {
    "ExecuteTime": {
     "end_time": "2022-06-15T13:17:09.390101Z",
     "start_time": "2022-06-15T13:17:09.315988Z"
    }
   },
   "outputs": [],
   "source": [
    "loan_data.drop('Loan.Length', axis=1, inplace=True)"
   ]
  },
  {
   "cell_type": "code",
   "execution_count": 9,
   "id": "11bfe229",
   "metadata": {
    "ExecuteTime": {
     "end_time": "2022-06-15T13:17:09.544468Z",
     "start_time": "2022-06-15T13:17:09.397110Z"
    }
   },
   "outputs": [
    {
     "data": {
      "text/html": [
       "<div>\n",
       "<style scoped>\n",
       "    .dataframe tbody tr th:only-of-type {\n",
       "        vertical-align: middle;\n",
       "    }\n",
       "\n",
       "    .dataframe tbody tr th {\n",
       "        vertical-align: top;\n",
       "    }\n",
       "\n",
       "    .dataframe thead th {\n",
       "        text-align: right;\n",
       "    }\n",
       "</style>\n",
       "<table border=\"1\" class=\"dataframe\">\n",
       "  <thead>\n",
       "    <tr style=\"text-align: right;\">\n",
       "      <th></th>\n",
       "      <th>Amount.Requested</th>\n",
       "      <th>Amount.Funded.By.Investors</th>\n",
       "      <th>Interest.Rate</th>\n",
       "      <th>Loan.Purpose</th>\n",
       "      <th>Debt.To.Income.Ratio</th>\n",
       "      <th>State</th>\n",
       "      <th>Home.Ownership</th>\n",
       "      <th>Monthly.Income</th>\n",
       "      <th>FICO.Range</th>\n",
       "      <th>Open.CREDIT.Lines</th>\n",
       "      <th>Revolving.CREDIT.Balance</th>\n",
       "      <th>Inquiries.in.the.Last.6.Months</th>\n",
       "      <th>Employment.Length</th>\n",
       "      <th>Loan.Length.Month</th>\n",
       "    </tr>\n",
       "  </thead>\n",
       "  <tbody>\n",
       "    <tr>\n",
       "      <th>0</th>\n",
       "      <td>20000.0</td>\n",
       "      <td>20000.0</td>\n",
       "      <td>8.90</td>\n",
       "      <td>debt_consolidation</td>\n",
       "      <td>14.90%</td>\n",
       "      <td>SC</td>\n",
       "      <td>MORTGAGE</td>\n",
       "      <td>6541.67</td>\n",
       "      <td>735-739</td>\n",
       "      <td>14.0</td>\n",
       "      <td>14272.0</td>\n",
       "      <td>2.0</td>\n",
       "      <td>&lt; 1 year</td>\n",
       "      <td>36.0</td>\n",
       "    </tr>\n",
       "    <tr>\n",
       "      <th>1</th>\n",
       "      <td>19200.0</td>\n",
       "      <td>19200.0</td>\n",
       "      <td>12.12</td>\n",
       "      <td>debt_consolidation</td>\n",
       "      <td>28.36%</td>\n",
       "      <td>TX</td>\n",
       "      <td>MORTGAGE</td>\n",
       "      <td>4583.33</td>\n",
       "      <td>715-719</td>\n",
       "      <td>12.0</td>\n",
       "      <td>11140.0</td>\n",
       "      <td>1.0</td>\n",
       "      <td>2 years</td>\n",
       "      <td>36.0</td>\n",
       "    </tr>\n",
       "    <tr>\n",
       "      <th>2</th>\n",
       "      <td>35000.0</td>\n",
       "      <td>35000.0</td>\n",
       "      <td>21.98</td>\n",
       "      <td>debt_consolidation</td>\n",
       "      <td>23.81%</td>\n",
       "      <td>CA</td>\n",
       "      <td>MORTGAGE</td>\n",
       "      <td>11500.00</td>\n",
       "      <td>690-694</td>\n",
       "      <td>14.0</td>\n",
       "      <td>21977.0</td>\n",
       "      <td>1.0</td>\n",
       "      <td>2 years</td>\n",
       "      <td>60.0</td>\n",
       "    </tr>\n",
       "    <tr>\n",
       "      <th>3</th>\n",
       "      <td>10000.0</td>\n",
       "      <td>9975.0</td>\n",
       "      <td>9.99</td>\n",
       "      <td>debt_consolidation</td>\n",
       "      <td>14.30%</td>\n",
       "      <td>KS</td>\n",
       "      <td>MORTGAGE</td>\n",
       "      <td>3833.33</td>\n",
       "      <td>695-699</td>\n",
       "      <td>10.0</td>\n",
       "      <td>9346.0</td>\n",
       "      <td>0.0</td>\n",
       "      <td>5 years</td>\n",
       "      <td>36.0</td>\n",
       "    </tr>\n",
       "    <tr>\n",
       "      <th>4</th>\n",
       "      <td>12000.0</td>\n",
       "      <td>12000.0</td>\n",
       "      <td>11.71</td>\n",
       "      <td>credit_card</td>\n",
       "      <td>18.78%</td>\n",
       "      <td>NJ</td>\n",
       "      <td>RENT</td>\n",
       "      <td>3195.00</td>\n",
       "      <td>695-699</td>\n",
       "      <td>11.0</td>\n",
       "      <td>14469.0</td>\n",
       "      <td>0.0</td>\n",
       "      <td>9 years</td>\n",
       "      <td>36.0</td>\n",
       "    </tr>\n",
       "  </tbody>\n",
       "</table>\n",
       "</div>"
      ],
      "text/plain": [
       "   Amount.Requested  Amount.Funded.By.Investors  Interest.Rate  \\\n",
       "0           20000.0                     20000.0           8.90   \n",
       "1           19200.0                     19200.0          12.12   \n",
       "2           35000.0                     35000.0          21.98   \n",
       "3           10000.0                      9975.0           9.99   \n",
       "4           12000.0                     12000.0          11.71   \n",
       "\n",
       "         Loan.Purpose Debt.To.Income.Ratio State Home.Ownership  \\\n",
       "0  debt_consolidation               14.90%    SC       MORTGAGE   \n",
       "1  debt_consolidation               28.36%    TX       MORTGAGE   \n",
       "2  debt_consolidation               23.81%    CA       MORTGAGE   \n",
       "3  debt_consolidation               14.30%    KS       MORTGAGE   \n",
       "4         credit_card               18.78%    NJ           RENT   \n",
       "\n",
       "   Monthly.Income FICO.Range  Open.CREDIT.Lines  Revolving.CREDIT.Balance  \\\n",
       "0         6541.67    735-739               14.0                   14272.0   \n",
       "1         4583.33    715-719               12.0                   11140.0   \n",
       "2        11500.00    690-694               14.0                   21977.0   \n",
       "3         3833.33    695-699               10.0                    9346.0   \n",
       "4         3195.00    695-699               11.0                   14469.0   \n",
       "\n",
       "   Inquiries.in.the.Last.6.Months Employment.Length  Loan.Length.Month  \n",
       "0                             2.0          < 1 year               36.0  \n",
       "1                             1.0           2 years               36.0  \n",
       "2                             1.0           2 years               60.0  \n",
       "3                             0.0           5 years               36.0  \n",
       "4                             0.0           9 years               36.0  "
      ]
     },
     "execution_count": 9,
     "metadata": {},
     "output_type": "execute_result"
    }
   ],
   "source": [
    "loan_data.head()"
   ]
  },
  {
   "cell_type": "code",
   "execution_count": 10,
   "id": "d36f34bc",
   "metadata": {
    "ExecuteTime": {
     "end_time": "2022-06-15T13:17:09.607086Z",
     "start_time": "2022-06-15T13:17:09.552244Z"
    }
   },
   "outputs": [
    {
     "data": {
      "text/html": [
       "<div>\n",
       "<style scoped>\n",
       "    .dataframe tbody tr th:only-of-type {\n",
       "        vertical-align: middle;\n",
       "    }\n",
       "\n",
       "    .dataframe tbody tr th {\n",
       "        vertical-align: top;\n",
       "    }\n",
       "\n",
       "    .dataframe thead th {\n",
       "        text-align: right;\n",
       "    }\n",
       "</style>\n",
       "<table border=\"1\" class=\"dataframe\">\n",
       "  <thead>\n",
       "    <tr style=\"text-align: right;\">\n",
       "      <th></th>\n",
       "      <th>Amount.Requested</th>\n",
       "      <th>Amount.Funded.By.Investors</th>\n",
       "      <th>Interest.Rate</th>\n",
       "      <th>Loan.Purpose</th>\n",
       "      <th>Debt.To.Income.Ratio</th>\n",
       "      <th>State</th>\n",
       "      <th>Home.Ownership</th>\n",
       "      <th>Monthly.Income</th>\n",
       "      <th>FICO.Range</th>\n",
       "      <th>Open.CREDIT.Lines</th>\n",
       "      <th>Revolving.CREDIT.Balance</th>\n",
       "      <th>Inquiries.in.the.Last.6.Months</th>\n",
       "      <th>Employment.Length</th>\n",
       "      <th>Loan.Length.Month</th>\n",
       "    </tr>\n",
       "  </thead>\n",
       "  <tbody>\n",
       "    <tr>\n",
       "      <th>2487</th>\n",
       "      <td>NaN</td>\n",
       "      <td>15000.0</td>\n",
       "      <td>NaN</td>\n",
       "      <td>wedding</td>\n",
       "      <td>18.05%</td>\n",
       "      <td>CA</td>\n",
       "      <td>RENT</td>\n",
       "      <td>8000.0</td>\n",
       "      <td>660-664</td>\n",
       "      <td>6.0</td>\n",
       "      <td>45976.0</td>\n",
       "      <td>1.0</td>\n",
       "      <td>2 years</td>\n",
       "      <td>36.0</td>\n",
       "    </tr>\n",
       "  </tbody>\n",
       "</table>\n",
       "</div>"
      ],
      "text/plain": [
       "      Amount.Requested  Amount.Funded.By.Investors  Interest.Rate  \\\n",
       "2487               NaN                     15000.0            NaN   \n",
       "\n",
       "     Loan.Purpose Debt.To.Income.Ratio State Home.Ownership  Monthly.Income  \\\n",
       "2487      wedding               18.05%    CA           RENT          8000.0   \n",
       "\n",
       "     FICO.Range  Open.CREDIT.Lines  Revolving.CREDIT.Balance  \\\n",
       "2487    660-664                6.0                   45976.0   \n",
       "\n",
       "      Inquiries.in.the.Last.6.Months Employment.Length  Loan.Length.Month  \n",
       "2487                             1.0           2 years               36.0  "
      ]
     },
     "execution_count": 10,
     "metadata": {},
     "output_type": "execute_result"
    }
   ],
   "source": [
    "loan_data[loan_data['Amount.Requested'].isnull()]"
   ]
  },
  {
   "cell_type": "code",
   "execution_count": 11,
   "id": "cbdcc1f3",
   "metadata": {
    "ExecuteTime": {
     "end_time": "2022-06-15T13:17:09.763510Z",
     "start_time": "2022-06-15T13:17:09.611076Z"
    }
   },
   "outputs": [],
   "source": [
    "loan_data.at[2487, 'Amount.Requested'] = 15000"
   ]
  },
  {
   "cell_type": "code",
   "execution_count": 12,
   "id": "3db42d4f",
   "metadata": {
    "ExecuteTime": {
     "end_time": "2022-06-15T13:17:09.919037Z",
     "start_time": "2022-06-15T13:17:09.771379Z"
    }
   },
   "outputs": [
    {
     "data": {
      "text/html": [
       "<div>\n",
       "<style scoped>\n",
       "    .dataframe tbody tr th:only-of-type {\n",
       "        vertical-align: middle;\n",
       "    }\n",
       "\n",
       "    .dataframe tbody tr th {\n",
       "        vertical-align: top;\n",
       "    }\n",
       "\n",
       "    .dataframe thead th {\n",
       "        text-align: right;\n",
       "    }\n",
       "</style>\n",
       "<table border=\"1\" class=\"dataframe\">\n",
       "  <thead>\n",
       "    <tr style=\"text-align: right;\">\n",
       "      <th></th>\n",
       "      <th>Amount.Requested</th>\n",
       "      <th>Amount.Funded.By.Investors</th>\n",
       "      <th>Interest.Rate</th>\n",
       "      <th>Loan.Purpose</th>\n",
       "      <th>Debt.To.Income.Ratio</th>\n",
       "      <th>State</th>\n",
       "      <th>Home.Ownership</th>\n",
       "      <th>Monthly.Income</th>\n",
       "      <th>FICO.Range</th>\n",
       "      <th>Open.CREDIT.Lines</th>\n",
       "      <th>Revolving.CREDIT.Balance</th>\n",
       "      <th>Inquiries.in.the.Last.6.Months</th>\n",
       "      <th>Employment.Length</th>\n",
       "      <th>Loan.Length.Month</th>\n",
       "    </tr>\n",
       "  </thead>\n",
       "  <tbody>\n",
       "    <tr>\n",
       "      <th>2490</th>\n",
       "      <td>10000.0</td>\n",
       "      <td>NaN</td>\n",
       "      <td>11.71</td>\n",
       "      <td>debt_consolidation</td>\n",
       "      <td>8.40%</td>\n",
       "      <td>CA</td>\n",
       "      <td>RENT</td>\n",
       "      <td>4500.0</td>\n",
       "      <td>710-714</td>\n",
       "      <td>8.0</td>\n",
       "      <td>8404.0</td>\n",
       "      <td>1.0</td>\n",
       "      <td>3 years</td>\n",
       "      <td>36.0</td>\n",
       "    </tr>\n",
       "  </tbody>\n",
       "</table>\n",
       "</div>"
      ],
      "text/plain": [
       "      Amount.Requested  Amount.Funded.By.Investors  Interest.Rate  \\\n",
       "2490           10000.0                         NaN          11.71   \n",
       "\n",
       "            Loan.Purpose Debt.To.Income.Ratio State Home.Ownership  \\\n",
       "2490  debt_consolidation                8.40%    CA           RENT   \n",
       "\n",
       "      Monthly.Income FICO.Range  Open.CREDIT.Lines  Revolving.CREDIT.Balance  \\\n",
       "2490          4500.0    710-714                8.0                    8404.0   \n",
       "\n",
       "      Inquiries.in.the.Last.6.Months Employment.Length  Loan.Length.Month  \n",
       "2490                             1.0           3 years               36.0  "
      ]
     },
     "execution_count": 12,
     "metadata": {},
     "output_type": "execute_result"
    }
   ],
   "source": [
    "loan_data[loan_data['Amount.Funded.By.Investors'].isnull()]"
   ]
  },
  {
   "cell_type": "code",
   "execution_count": 13,
   "id": "dadbfa14",
   "metadata": {
    "ExecuteTime": {
     "end_time": "2022-06-15T13:17:09.994679Z",
     "start_time": "2022-06-15T13:17:09.927699Z"
    }
   },
   "outputs": [],
   "source": [
    "loan_data.at[2490, 'Amount.Funded.By.Investors'] = 10000"
   ]
  },
  {
   "cell_type": "code",
   "execution_count": 14,
   "id": "5e662c3e",
   "metadata": {
    "ExecuteTime": {
     "end_time": "2022-06-15T13:17:10.119095Z",
     "start_time": "2022-06-15T13:17:09.998044Z"
    }
   },
   "outputs": [
    {
     "data": {
      "text/html": [
       "<div>\n",
       "<style scoped>\n",
       "    .dataframe tbody tr th:only-of-type {\n",
       "        vertical-align: middle;\n",
       "    }\n",
       "\n",
       "    .dataframe tbody tr th {\n",
       "        vertical-align: top;\n",
       "    }\n",
       "\n",
       "    .dataframe thead th {\n",
       "        text-align: right;\n",
       "    }\n",
       "</style>\n",
       "<table border=\"1\" class=\"dataframe\">\n",
       "  <thead>\n",
       "    <tr style=\"text-align: right;\">\n",
       "      <th></th>\n",
       "      <th>Amount.Requested</th>\n",
       "      <th>Amount.Funded.By.Investors</th>\n",
       "      <th>Interest.Rate</th>\n",
       "      <th>Loan.Purpose</th>\n",
       "      <th>Debt.To.Income.Ratio</th>\n",
       "      <th>State</th>\n",
       "      <th>Home.Ownership</th>\n",
       "      <th>Monthly.Income</th>\n",
       "      <th>FICO.Range</th>\n",
       "      <th>Open.CREDIT.Lines</th>\n",
       "      <th>Revolving.CREDIT.Balance</th>\n",
       "      <th>Inquiries.in.the.Last.6.Months</th>\n",
       "      <th>Employment.Length</th>\n",
       "      <th>Loan.Length.Month</th>\n",
       "    </tr>\n",
       "  </thead>\n",
       "  <tbody>\n",
       "    <tr>\n",
       "      <th>2484</th>\n",
       "      <td>15000.0</td>\n",
       "      <td>15000.0</td>\n",
       "      <td>NaN</td>\n",
       "      <td>credit_card</td>\n",
       "      <td>28.28%</td>\n",
       "      <td>OH</td>\n",
       "      <td>MORTGAGE</td>\n",
       "      <td>6666.67</td>\n",
       "      <td>690-694</td>\n",
       "      <td>15.0</td>\n",
       "      <td>14880.0</td>\n",
       "      <td>0.0</td>\n",
       "      <td>10+ years</td>\n",
       "      <td>36.0</td>\n",
       "    </tr>\n",
       "    <tr>\n",
       "      <th>2487</th>\n",
       "      <td>15000.0</td>\n",
       "      <td>15000.0</td>\n",
       "      <td>NaN</td>\n",
       "      <td>wedding</td>\n",
       "      <td>18.05%</td>\n",
       "      <td>CA</td>\n",
       "      <td>RENT</td>\n",
       "      <td>8000.00</td>\n",
       "      <td>660-664</td>\n",
       "      <td>6.0</td>\n",
       "      <td>45976.0</td>\n",
       "      <td>1.0</td>\n",
       "      <td>2 years</td>\n",
       "      <td>36.0</td>\n",
       "    </tr>\n",
       "  </tbody>\n",
       "</table>\n",
       "</div>"
      ],
      "text/plain": [
       "      Amount.Requested  Amount.Funded.By.Investors  Interest.Rate  \\\n",
       "2484           15000.0                     15000.0            NaN   \n",
       "2487           15000.0                     15000.0            NaN   \n",
       "\n",
       "     Loan.Purpose Debt.To.Income.Ratio State Home.Ownership  Monthly.Income  \\\n",
       "2484  credit_card               28.28%    OH       MORTGAGE         6666.67   \n",
       "2487      wedding               18.05%    CA           RENT         8000.00   \n",
       "\n",
       "     FICO.Range  Open.CREDIT.Lines  Revolving.CREDIT.Balance  \\\n",
       "2484    690-694               15.0                   14880.0   \n",
       "2487    660-664                6.0                   45976.0   \n",
       "\n",
       "      Inquiries.in.the.Last.6.Months Employment.Length  Loan.Length.Month  \n",
       "2484                             0.0         10+ years               36.0  \n",
       "2487                             1.0           2 years               36.0  "
      ]
     },
     "execution_count": 14,
     "metadata": {},
     "output_type": "execute_result"
    }
   ],
   "source": [
    "loan_data[loan_data['Interest.Rate'].isnull()]"
   ]
  },
  {
   "cell_type": "code",
   "execution_count": 15,
   "id": "2f877044",
   "metadata": {
    "ExecuteTime": {
     "end_time": "2022-06-15T13:17:10.245766Z",
     "start_time": "2022-06-15T13:17:10.126076Z"
    }
   },
   "outputs": [],
   "source": [
    "loan_data.drop(2484, axis=0, inplace=True)\n",
    "loan_data.drop(2487, axis=0, inplace=True)"
   ]
  },
  {
   "cell_type": "code",
   "execution_count": 16,
   "id": "f2d82b84",
   "metadata": {
    "ExecuteTime": {
     "end_time": "2022-06-15T13:17:10.402241Z",
     "start_time": "2022-06-15T13:17:10.247760Z"
    }
   },
   "outputs": [
    {
     "data": {
      "text/plain": [
       "Amount.Requested                   0\n",
       "Amount.Funded.By.Investors         0\n",
       "Interest.Rate                      0\n",
       "Loan.Purpose                       0\n",
       "Debt.To.Income.Ratio               1\n",
       "State                              0\n",
       "Home.Ownership                     1\n",
       "Monthly.Income                     1\n",
       "FICO.Range                         2\n",
       "Open.CREDIT.Lines                  3\n",
       "Revolving.CREDIT.Balance           3\n",
       "Inquiries.in.the.Last.6.Months     3\n",
       "Employment.Length                 77\n",
       "Loan.Length.Month                  0\n",
       "dtype: int64"
      ]
     },
     "execution_count": 16,
     "metadata": {},
     "output_type": "execute_result"
    }
   ],
   "source": [
    "loan_data.isnull().sum()"
   ]
  },
  {
   "cell_type": "code",
   "execution_count": 17,
   "id": "15f68ba0",
   "metadata": {
    "ExecuteTime": {
     "end_time": "2022-06-15T13:17:10.525357Z",
     "start_time": "2022-06-15T13:17:10.411217Z"
    }
   },
   "outputs": [
    {
     "data": {
      "text/html": [
       "<div>\n",
       "<style scoped>\n",
       "    .dataframe tbody tr th:only-of-type {\n",
       "        vertical-align: middle;\n",
       "    }\n",
       "\n",
       "    .dataframe tbody tr th {\n",
       "        vertical-align: top;\n",
       "    }\n",
       "\n",
       "    .dataframe thead th {\n",
       "        text-align: right;\n",
       "    }\n",
       "</style>\n",
       "<table border=\"1\" class=\"dataframe\">\n",
       "  <thead>\n",
       "    <tr style=\"text-align: right;\">\n",
       "      <th></th>\n",
       "      <th>Amount.Requested</th>\n",
       "      <th>Amount.Funded.By.Investors</th>\n",
       "      <th>Interest.Rate</th>\n",
       "      <th>Loan.Purpose</th>\n",
       "      <th>Debt.To.Income.Ratio</th>\n",
       "      <th>State</th>\n",
       "      <th>Home.Ownership</th>\n",
       "      <th>Monthly.Income</th>\n",
       "      <th>FICO.Range</th>\n",
       "      <th>Open.CREDIT.Lines</th>\n",
       "      <th>Revolving.CREDIT.Balance</th>\n",
       "      <th>Inquiries.in.the.Last.6.Months</th>\n",
       "      <th>Employment.Length</th>\n",
       "      <th>Loan.Length.Month</th>\n",
       "    </tr>\n",
       "  </thead>\n",
       "  <tbody>\n",
       "    <tr>\n",
       "      <th>2492</th>\n",
       "      <td>6400.0</td>\n",
       "      <td>6350.0</td>\n",
       "      <td>10.08</td>\n",
       "      <td>debt_consolidation</td>\n",
       "      <td>NaN</td>\n",
       "      <td>NJ</td>\n",
       "      <td>NaN</td>\n",
       "      <td>5166.67</td>\n",
       "      <td>710-714</td>\n",
       "      <td>5.0</td>\n",
       "      <td>5815.0</td>\n",
       "      <td>2.0</td>\n",
       "      <td>10+ years</td>\n",
       "      <td>36.0</td>\n",
       "    </tr>\n",
       "  </tbody>\n",
       "</table>\n",
       "</div>"
      ],
      "text/plain": [
       "      Amount.Requested  Amount.Funded.By.Investors  Interest.Rate  \\\n",
       "2492            6400.0                      6350.0          10.08   \n",
       "\n",
       "            Loan.Purpose Debt.To.Income.Ratio State Home.Ownership  \\\n",
       "2492  debt_consolidation                  NaN    NJ            NaN   \n",
       "\n",
       "      Monthly.Income FICO.Range  Open.CREDIT.Lines  Revolving.CREDIT.Balance  \\\n",
       "2492         5166.67    710-714                5.0                    5815.0   \n",
       "\n",
       "      Inquiries.in.the.Last.6.Months Employment.Length  Loan.Length.Month  \n",
       "2492                             2.0         10+ years               36.0  "
      ]
     },
     "execution_count": 17,
     "metadata": {},
     "output_type": "execute_result"
    }
   ],
   "source": [
    "loan_data[loan_data['Debt.To.Income.Ratio'].isnull()]"
   ]
  },
  {
   "cell_type": "code",
   "execution_count": 18,
   "id": "5386ecb6",
   "metadata": {
    "ExecuteTime": {
     "end_time": "2022-06-15T13:17:10.634746Z",
     "start_time": "2022-06-15T13:17:10.531062Z"
    }
   },
   "outputs": [],
   "source": [
    "loan_data.drop(2492, axis=0, inplace=True)"
   ]
  },
  {
   "cell_type": "code",
   "execution_count": 19,
   "id": "1182727e",
   "metadata": {
    "ExecuteTime": {
     "end_time": "2022-06-15T13:17:10.789670Z",
     "start_time": "2022-06-15T13:17:10.638762Z"
    }
   },
   "outputs": [],
   "source": [
    "loan_data.drop('Employment.Length', axis=1, inplace=True)"
   ]
  },
  {
   "cell_type": "code",
   "execution_count": 20,
   "id": "54a7aa8a",
   "metadata": {
    "ExecuteTime": {
     "end_time": "2022-06-15T13:17:10.914172Z",
     "start_time": "2022-06-15T13:17:10.791551Z"
    }
   },
   "outputs": [
    {
     "data": {
      "text/plain": [
       "Amount.Requested                  0\n",
       "Amount.Funded.By.Investors        0\n",
       "Interest.Rate                     0\n",
       "Loan.Purpose                      0\n",
       "Debt.To.Income.Ratio              0\n",
       "State                             0\n",
       "Home.Ownership                    0\n",
       "Monthly.Income                    1\n",
       "FICO.Range                        2\n",
       "Open.CREDIT.Lines                 3\n",
       "Revolving.CREDIT.Balance          3\n",
       "Inquiries.in.the.Last.6.Months    3\n",
       "Loan.Length.Month                 0\n",
       "dtype: int64"
      ]
     },
     "execution_count": 20,
     "metadata": {},
     "output_type": "execute_result"
    }
   ],
   "source": [
    "loan_data.isnull().sum()"
   ]
  },
  {
   "cell_type": "code",
   "execution_count": 21,
   "id": "701cc4ab",
   "metadata": {
    "ExecuteTime": {
     "end_time": "2022-06-15T13:17:11.007995Z",
     "start_time": "2022-06-15T13:17:10.915169Z"
    }
   },
   "outputs": [],
   "source": [
    "loan_data.dropna(inplace=True)"
   ]
  },
  {
   "cell_type": "code",
   "execution_count": 22,
   "id": "63481c10",
   "metadata": {
    "ExecuteTime": {
     "end_time": "2022-06-15T13:17:11.238151Z",
     "start_time": "2022-06-15T13:17:11.009017Z"
    }
   },
   "outputs": [
    {
     "name": "stdout",
     "output_type": "stream",
     "text": [
      "<class 'pandas.core.frame.DataFrame'>\n",
      "Int64Index: 2490 entries, 0 to 2499\n",
      "Data columns (total 13 columns):\n",
      " #   Column                          Non-Null Count  Dtype  \n",
      "---  ------                          --------------  -----  \n",
      " 0   Amount.Requested                2490 non-null   float64\n",
      " 1   Amount.Funded.By.Investors      2490 non-null   float64\n",
      " 2   Interest.Rate                   2490 non-null   float64\n",
      " 3   Loan.Purpose                    2490 non-null   object \n",
      " 4   Debt.To.Income.Ratio            2490 non-null   object \n",
      " 5   State                           2490 non-null   object \n",
      " 6   Home.Ownership                  2490 non-null   object \n",
      " 7   Monthly.Income                  2490 non-null   float64\n",
      " 8   FICO.Range                      2490 non-null   object \n",
      " 9   Open.CREDIT.Lines               2490 non-null   float64\n",
      " 10  Revolving.CREDIT.Balance        2490 non-null   float64\n",
      " 11  Inquiries.in.the.Last.6.Months  2490 non-null   float64\n",
      " 12  Loan.Length.Month               2490 non-null   float64\n",
      "dtypes: float64(8), object(5)\n",
      "memory usage: 272.3+ KB\n"
     ]
    }
   ],
   "source": [
    "loan_data.info()"
   ]
  },
  {
   "cell_type": "code",
   "execution_count": 23,
   "id": "d7eed81b",
   "metadata": {
    "ExecuteTime": {
     "end_time": "2022-06-15T13:17:11.547019Z",
     "start_time": "2022-06-15T13:17:11.244132Z"
    }
   },
   "outputs": [
    {
     "data": {
      "text/html": [
       "<div>\n",
       "<style scoped>\n",
       "    .dataframe tbody tr th:only-of-type {\n",
       "        vertical-align: middle;\n",
       "    }\n",
       "\n",
       "    .dataframe tbody tr th {\n",
       "        vertical-align: top;\n",
       "    }\n",
       "\n",
       "    .dataframe thead th {\n",
       "        text-align: right;\n",
       "    }\n",
       "</style>\n",
       "<table border=\"1\" class=\"dataframe\">\n",
       "  <thead>\n",
       "    <tr style=\"text-align: right;\">\n",
       "      <th></th>\n",
       "      <th>count</th>\n",
       "      <th>unique</th>\n",
       "      <th>top</th>\n",
       "      <th>freq</th>\n",
       "      <th>mean</th>\n",
       "      <th>std</th>\n",
       "      <th>min</th>\n",
       "      <th>25%</th>\n",
       "      <th>50%</th>\n",
       "      <th>75%</th>\n",
       "      <th>max</th>\n",
       "    </tr>\n",
       "  </thead>\n",
       "  <tbody>\n",
       "    <tr>\n",
       "      <th>Amount.Requested</th>\n",
       "      <td>2490.0</td>\n",
       "      <td>NaN</td>\n",
       "      <td>NaN</td>\n",
       "      <td>NaN</td>\n",
       "      <td>12408.955823</td>\n",
       "      <td>7805.32821</td>\n",
       "      <td>1000.0</td>\n",
       "      <td>6000.0</td>\n",
       "      <td>10000.0</td>\n",
       "      <td>17000.0</td>\n",
       "      <td>35000.0</td>\n",
       "    </tr>\n",
       "    <tr>\n",
       "      <th>Amount.Funded.By.Investors</th>\n",
       "      <td>2490.0</td>\n",
       "      <td>NaN</td>\n",
       "      <td>NaN</td>\n",
       "      <td>NaN</td>\n",
       "      <td>12003.949032</td>\n",
       "      <td>7747.081905</td>\n",
       "      <td>-0.01</td>\n",
       "      <td>6000.0</td>\n",
       "      <td>10000.0</td>\n",
       "      <td>16000.0</td>\n",
       "      <td>35000.0</td>\n",
       "    </tr>\n",
       "    <tr>\n",
       "      <th>Interest.Rate</th>\n",
       "      <td>2490.0</td>\n",
       "      <td>NaN</td>\n",
       "      <td>NaN</td>\n",
       "      <td>NaN</td>\n",
       "      <td>13.070365</td>\n",
       "      <td>4.176635</td>\n",
       "      <td>5.42</td>\n",
       "      <td>10.16</td>\n",
       "      <td>13.11</td>\n",
       "      <td>15.8</td>\n",
       "      <td>24.89</td>\n",
       "    </tr>\n",
       "    <tr>\n",
       "      <th>Loan.Purpose</th>\n",
       "      <td>2490</td>\n",
       "      <td>14</td>\n",
       "      <td>debt_consolidation</td>\n",
       "      <td>1302</td>\n",
       "      <td>NaN</td>\n",
       "      <td>NaN</td>\n",
       "      <td>NaN</td>\n",
       "      <td>NaN</td>\n",
       "      <td>NaN</td>\n",
       "      <td>NaN</td>\n",
       "      <td>NaN</td>\n",
       "    </tr>\n",
       "    <tr>\n",
       "      <th>Debt.To.Income.Ratio</th>\n",
       "      <td>2490</td>\n",
       "      <td>1664</td>\n",
       "      <td>0%</td>\n",
       "      <td>8</td>\n",
       "      <td>NaN</td>\n",
       "      <td>NaN</td>\n",
       "      <td>NaN</td>\n",
       "      <td>NaN</td>\n",
       "      <td>NaN</td>\n",
       "      <td>NaN</td>\n",
       "      <td>NaN</td>\n",
       "    </tr>\n",
       "    <tr>\n",
       "      <th>State</th>\n",
       "      <td>2490</td>\n",
       "      <td>46</td>\n",
       "      <td>CA</td>\n",
       "      <td>431</td>\n",
       "      <td>NaN</td>\n",
       "      <td>NaN</td>\n",
       "      <td>NaN</td>\n",
       "      <td>NaN</td>\n",
       "      <td>NaN</td>\n",
       "      <td>NaN</td>\n",
       "      <td>NaN</td>\n",
       "    </tr>\n",
       "    <tr>\n",
       "      <th>Home.Ownership</th>\n",
       "      <td>2490</td>\n",
       "      <td>4</td>\n",
       "      <td>MORTGAGE</td>\n",
       "      <td>1144</td>\n",
       "      <td>NaN</td>\n",
       "      <td>NaN</td>\n",
       "      <td>NaN</td>\n",
       "      <td>NaN</td>\n",
       "      <td>NaN</td>\n",
       "      <td>NaN</td>\n",
       "      <td>NaN</td>\n",
       "    </tr>\n",
       "    <tr>\n",
       "      <th>Monthly.Income</th>\n",
       "      <td>2490.0</td>\n",
       "      <td>NaN</td>\n",
       "      <td>NaN</td>\n",
       "      <td>NaN</td>\n",
       "      <td>5684.771297</td>\n",
       "      <td>3965.071448</td>\n",
       "      <td>588.5</td>\n",
       "      <td>3469.2025</td>\n",
       "      <td>5000.0</td>\n",
       "      <td>6800.0</td>\n",
       "      <td>102750.0</td>\n",
       "    </tr>\n",
       "    <tr>\n",
       "      <th>FICO.Range</th>\n",
       "      <td>2490</td>\n",
       "      <td>38</td>\n",
       "      <td>670-674</td>\n",
       "      <td>170</td>\n",
       "      <td>NaN</td>\n",
       "      <td>NaN</td>\n",
       "      <td>NaN</td>\n",
       "      <td>NaN</td>\n",
       "      <td>NaN</td>\n",
       "      <td>NaN</td>\n",
       "      <td>NaN</td>\n",
       "    </tr>\n",
       "    <tr>\n",
       "      <th>Open.CREDIT.Lines</th>\n",
       "      <td>2490.0</td>\n",
       "      <td>NaN</td>\n",
       "      <td>NaN</td>\n",
       "      <td>NaN</td>\n",
       "      <td>10.073494</td>\n",
       "      <td>4.508532</td>\n",
       "      <td>2.0</td>\n",
       "      <td>7.0</td>\n",
       "      <td>9.0</td>\n",
       "      <td>13.0</td>\n",
       "      <td>38.0</td>\n",
       "    </tr>\n",
       "    <tr>\n",
       "      <th>Revolving.CREDIT.Balance</th>\n",
       "      <td>2490.0</td>\n",
       "      <td>NaN</td>\n",
       "      <td>NaN</td>\n",
       "      <td>NaN</td>\n",
       "      <td>15217.664659</td>\n",
       "      <td>18294.502478</td>\n",
       "      <td>0.0</td>\n",
       "      <td>5562.75</td>\n",
       "      <td>10938.0</td>\n",
       "      <td>18888.75</td>\n",
       "      <td>270800.0</td>\n",
       "    </tr>\n",
       "    <tr>\n",
       "      <th>Inquiries.in.the.Last.6.Months</th>\n",
       "      <td>2490.0</td>\n",
       "      <td>NaN</td>\n",
       "      <td>NaN</td>\n",
       "      <td>NaN</td>\n",
       "      <td>0.905622</td>\n",
       "      <td>1.231504</td>\n",
       "      <td>0.0</td>\n",
       "      <td>0.0</td>\n",
       "      <td>0.0</td>\n",
       "      <td>1.0</td>\n",
       "      <td>9.0</td>\n",
       "    </tr>\n",
       "    <tr>\n",
       "      <th>Loan.Length.Month</th>\n",
       "      <td>2490.0</td>\n",
       "      <td>NaN</td>\n",
       "      <td>NaN</td>\n",
       "      <td>NaN</td>\n",
       "      <td>41.281928</td>\n",
       "      <td>9.945211</td>\n",
       "      <td>36.0</td>\n",
       "      <td>36.0</td>\n",
       "      <td>36.0</td>\n",
       "      <td>36.0</td>\n",
       "      <td>60.0</td>\n",
       "    </tr>\n",
       "  </tbody>\n",
       "</table>\n",
       "</div>"
      ],
      "text/plain": [
       "                                 count unique                 top  freq  \\\n",
       "Amount.Requested                2490.0    NaN                 NaN   NaN   \n",
       "Amount.Funded.By.Investors      2490.0    NaN                 NaN   NaN   \n",
       "Interest.Rate                   2490.0    NaN                 NaN   NaN   \n",
       "Loan.Purpose                      2490     14  debt_consolidation  1302   \n",
       "Debt.To.Income.Ratio              2490   1664                  0%     8   \n",
       "State                             2490     46                  CA   431   \n",
       "Home.Ownership                    2490      4            MORTGAGE  1144   \n",
       "Monthly.Income                  2490.0    NaN                 NaN   NaN   \n",
       "FICO.Range                        2490     38             670-674   170   \n",
       "Open.CREDIT.Lines               2490.0    NaN                 NaN   NaN   \n",
       "Revolving.CREDIT.Balance        2490.0    NaN                 NaN   NaN   \n",
       "Inquiries.in.the.Last.6.Months  2490.0    NaN                 NaN   NaN   \n",
       "Loan.Length.Month               2490.0    NaN                 NaN   NaN   \n",
       "\n",
       "                                        mean           std     min        25%  \\\n",
       "Amount.Requested                12408.955823    7805.32821  1000.0     6000.0   \n",
       "Amount.Funded.By.Investors      12003.949032   7747.081905   -0.01     6000.0   \n",
       "Interest.Rate                      13.070365      4.176635    5.42      10.16   \n",
       "Loan.Purpose                             NaN           NaN     NaN        NaN   \n",
       "Debt.To.Income.Ratio                     NaN           NaN     NaN        NaN   \n",
       "State                                    NaN           NaN     NaN        NaN   \n",
       "Home.Ownership                           NaN           NaN     NaN        NaN   \n",
       "Monthly.Income                   5684.771297   3965.071448   588.5  3469.2025   \n",
       "FICO.Range                               NaN           NaN     NaN        NaN   \n",
       "Open.CREDIT.Lines                  10.073494      4.508532     2.0        7.0   \n",
       "Revolving.CREDIT.Balance        15217.664659  18294.502478     0.0    5562.75   \n",
       "Inquiries.in.the.Last.6.Months      0.905622      1.231504     0.0        0.0   \n",
       "Loan.Length.Month                  41.281928      9.945211    36.0       36.0   \n",
       "\n",
       "                                    50%       75%       max  \n",
       "Amount.Requested                10000.0   17000.0   35000.0  \n",
       "Amount.Funded.By.Investors      10000.0   16000.0   35000.0  \n",
       "Interest.Rate                     13.11      15.8     24.89  \n",
       "Loan.Purpose                        NaN       NaN       NaN  \n",
       "Debt.To.Income.Ratio                NaN       NaN       NaN  \n",
       "State                               NaN       NaN       NaN  \n",
       "Home.Ownership                      NaN       NaN       NaN  \n",
       "Monthly.Income                   5000.0    6800.0  102750.0  \n",
       "FICO.Range                          NaN       NaN       NaN  \n",
       "Open.CREDIT.Lines                   9.0      13.0      38.0  \n",
       "Revolving.CREDIT.Balance        10938.0  18888.75  270800.0  \n",
       "Inquiries.in.the.Last.6.Months      0.0       1.0       9.0  \n",
       "Loan.Length.Month                  36.0      36.0      60.0  "
      ]
     },
     "execution_count": 23,
     "metadata": {},
     "output_type": "execute_result"
    }
   ],
   "source": [
    "loan_data.describe(include='all').T"
   ]
  },
  {
   "cell_type": "code",
   "execution_count": 24,
   "id": "916433ed",
   "metadata": {
    "ExecuteTime": {
     "end_time": "2022-06-15T13:17:11.591728Z",
     "start_time": "2022-06-15T13:17:11.549013Z"
    }
   },
   "outputs": [],
   "source": [
    "def check_normality(data):\n",
    "    test_stat_normality, p_value_normality=stats.shapiro(data)\n",
    "    print(\"p value:%.4f\" % p_value_normality)\n",
    "    if p_value_normality <0.05:\n",
    "        print(\"Reject null hypothesis >> The data is not normally distributed\")\n",
    "    else:\n",
    "        print(\"Fail to reject null hypothesis >> The data is normally distributed\")  "
   ]
  },
  {
   "cell_type": "code",
   "execution_count": 25,
   "id": "e10be80d",
   "metadata": {
    "ExecuteTime": {
     "end_time": "2022-06-15T13:17:11.715173Z",
     "start_time": "2022-06-15T13:17:11.593748Z"
    }
   },
   "outputs": [],
   "source": [
    "def check_variance_homogeneity(group1, group2):\n",
    "    test_stat_var, p_value_var= stats.levene(group1,group2)\n",
    "    print(\"p value:%.4f\" % p_value_var)\n",
    "    if p_value_var <0.05:\n",
    "        print(\"Reject null hypothesis >> The variances of the samples are different.\")\n",
    "    else:\n",
    "        print(\"Fail to reject null hypothesis >> The variances of the samples are same.\")"
   ]
  },
  {
   "cell_type": "markdown",
   "id": "cc759b88",
   "metadata": {},
   "source": [
    "# a. Interest rate is varied for different loan amounts (Less interest charged for high loan amounts)\n",
    "\n",
    "### 1. Defining Hypothesis\n",
    "Conduct the hypothesis testing to check whether the Less interest charged for high loan amounts. We expect interest to decrease as loan amounts increase.This means that we are making a directional hypothesis. It also means we expect to find a negative value of ρ, because that would indicate a negative relationship between interest and loan amount. So here are our hypotheses:  \n",
    "#### H0:ρ > = 0 (No relation between interest charged and loan amounts) \n",
    "#### H1:ρ < 0 (There is relationship between interest charged and loan amounts)\n",
    "\n",
    "We're making our predictions as a comparison with 0, because 0 would indicate no relationship. We'll use our conventional α = 0.05.\n",
    "\n",
    "### 2. Assumption Check\n",
    "\n",
    "For checking normality,Shapiro-Wilk’s W test, for checking variance Levene’s test.  \n",
    "\n",
    "    H₀: The data is normally distributed.\n",
    "    H₁: The data is not normally distributed.\n",
    "    \n",
    "Assume that alpha=0.05 If p-value is >0.05, it can be said that data is normally distributed.    "
   ]
  },
  {
   "cell_type": "code",
   "execution_count": 26,
   "id": "7f675bc7",
   "metadata": {
    "ExecuteTime": {
     "end_time": "2022-06-15T13:17:11.887094Z",
     "start_time": "2022-06-15T13:17:11.719183Z"
    }
   },
   "outputs": [
    {
     "name": "stdout",
     "output_type": "stream",
     "text": [
      "p value:0.0000\n",
      "Reject null hypothesis >> The data is not normally distributed\n",
      "p value:0.0000\n",
      "Reject null hypothesis >> The data is not normally distributed\n"
     ]
    }
   ],
   "source": [
    "check_normality(loan_data['Interest.Rate'])\n",
    "check_normality(loan_data['Amount.Requested'])"
   ]
  },
  {
   "cell_type": "markdown",
   "id": "4f7fd644",
   "metadata": {},
   "source": [
    "For checking variance,  \n",
    "    H₀: The variances of the samples are the same.\n",
    "    H₁: The variances of the samples are different.\n",
    "\n",
    "It tests the null hypothesis that the population variances are equal (called homogeneity of variance or homoscedasticity). If the resulting p-value of Levene's test is less than some significance level (typically 0.05), the obtained differences in sample variances are unlikely to have occurred based on random sampling from a population with equal variances"
   ]
  },
  {
   "cell_type": "code",
   "execution_count": 27,
   "id": "22a5926e",
   "metadata": {
    "ExecuteTime": {
     "end_time": "2022-06-15T13:17:12.026389Z",
     "start_time": "2022-06-15T13:17:11.888091Z"
    }
   },
   "outputs": [
    {
     "name": "stdout",
     "output_type": "stream",
     "text": [
      "p value:0.0000\n",
      "Reject null hypothesis >> The variances of the samples are different.\n"
     ]
    }
   ],
   "source": [
    "check_variance_homogeneity(loan_data['Interest.Rate'], loan_data['Amount.Requested'])"
   ]
  },
  {
   "cell_type": "markdown",
   "id": "86fbc8f2",
   "metadata": {},
   "source": [
    "### 3. Selecting the Proper Test \n",
    "\n",
    "Since, we have to show the relationship. We will use Pearson’s Correlation. Tests whether two samples have a linear relationship.\n",
    "\n",
    "Assumptions\n",
    "\n",
    "    •\tObservations in each sample are independent and identically distributed (iid).\n",
    "    •\tObservations in each sample are normally distributed.\n",
    "    •\tObservations in each sample have the same variance."
   ]
  },
  {
   "cell_type": "code",
   "execution_count": 28,
   "id": "cd9d2dea",
   "metadata": {
    "ExecuteTime": {
     "end_time": "2022-06-15T13:17:12.509411Z",
     "start_time": "2022-06-15T13:17:12.034362Z"
    }
   },
   "outputs": [
    {
     "data": {
      "text/plain": [
       "(0.330828946065706, 1.1461325860248593e-64)"
      ]
     },
     "execution_count": 28,
     "metadata": {},
     "output_type": "execute_result"
    }
   ],
   "source": [
    "stats.pearsonr(loan_data['Interest.Rate'], loan_data['Amount.Requested'])"
   ]
  },
  {
   "cell_type": "code",
   "execution_count": 29,
   "id": "63bba0bd",
   "metadata": {
    "ExecuteTime": {
     "end_time": "2022-06-15T13:17:13.024094Z",
     "start_time": "2022-06-15T13:17:12.522372Z"
    }
   },
   "outputs": [
    {
     "name": "stdout",
     "output_type": "stream",
     "text": [
      "p value:0.00000000\n",
      "since the hypothesis is one sided >> use p_value/2 >> p_value_one_sided:0.0000\n",
      "Reject null hypothesis\n"
     ]
    }
   ],
   "source": [
    "ttest,p_value = stats.ttest_ind(loan_data['Interest.Rate'], loan_data['Amount.Requested'])\n",
    "print(\"p value:%.8f\" % p_value)\n",
    "print(\"since the hypothesis is one sided >> use p_value/2 >> p_value_one_sided:%.4f\" %(p_value/2))\n",
    "if p_value/2 <0.05:\n",
    "    print(\"Reject null hypothesis\")\n",
    "else:\n",
    "    print(\"Fail to reject null hypothesis\") "
   ]
  },
  {
   "cell_type": "code",
   "execution_count": 30,
   "id": "3c73dcad",
   "metadata": {
    "ExecuteTime": {
     "end_time": "2022-06-15T13:17:13.148526Z",
     "start_time": "2022-06-15T13:17:13.033372Z"
    }
   },
   "outputs": [
    {
     "data": {
      "text/plain": [
       "Ttest_indResult(statistic=-79.24757768876712, pvalue=0.0)"
      ]
     },
     "execution_count": 30,
     "metadata": {},
     "output_type": "execute_result"
    }
   ],
   "source": [
    "stats.ttest_ind(loan_data['Interest.Rate'], loan_data['Amount.Requested'])"
   ]
  },
  {
   "cell_type": "markdown",
   "id": "390d4ff7",
   "metadata": {},
   "source": [
    "### 4. Decision and Conclusion\n",
    "\n",
    "The test result shows the pvalue(1.1461325860248593e-64) is less than the significance level (0.05). We reject H0 - No relationship as p-value is very less H1 - There is a relationship among the variables with 95% accuracy. Hence Interest rate is varied for different loan amounts.   \n",
    "\n",
    "At this significance level, there is enough evidence to conclude that there is a relationship between Interest rate and loan amounts and it can be less interest charged for high loan amounts   "
   ]
  },
  {
   "cell_type": "markdown",
   "id": "65e57319",
   "metadata": {},
   "source": [
    "# b. Loan length is directly effecting interest rate.\n",
    "\n",
    "# Method 1\n",
    "\n",
    "### 1. Defining Hypothesis\n",
    "Conduct the hypothesis testing to check whether the loan length is directly effecting interest rate. We expect interest rate is directly effecting loan length. So here are our hypotheses:  \n",
    "\n",
    "#### H0: No relation between Loan length and interest rate.\n",
    "#### H1: There is relationship between Loan length and interest rate.\n",
    "\n",
    "We'll use our conventional α = 0.05."
   ]
  },
  {
   "cell_type": "code",
   "execution_count": 31,
   "id": "9501cbe7",
   "metadata": {
    "ExecuteTime": {
     "end_time": "2022-06-15T13:17:13.243750Z",
     "start_time": "2022-06-15T13:17:13.155235Z"
    }
   },
   "outputs": [
    {
     "data": {
      "text/plain": [
       "Index(['Amount.Requested', 'Amount.Funded.By.Investors', 'Interest.Rate',\n",
       "       'Loan.Purpose', 'Debt.To.Income.Ratio', 'State', 'Home.Ownership',\n",
       "       'Monthly.Income', 'FICO.Range', 'Open.CREDIT.Lines',\n",
       "       'Revolving.CREDIT.Balance', 'Inquiries.in.the.Last.6.Months',\n",
       "       'Loan.Length.Month'],\n",
       "      dtype='object')"
      ]
     },
     "execution_count": 31,
     "metadata": {},
     "output_type": "execute_result"
    }
   ],
   "source": [
    "loan_data.columns"
   ]
  },
  {
   "cell_type": "code",
   "execution_count": 32,
   "id": "d9b5037c",
   "metadata": {
    "ExecuteTime": {
     "end_time": "2022-06-15T13:17:13.336652Z",
     "start_time": "2022-06-15T13:17:13.250584Z"
    }
   },
   "outputs": [
    {
     "data": {
      "text/plain": [
       "36.0    1942\n",
       "60.0     548\n",
       "Name: Loan.Length.Month, dtype: int64"
      ]
     },
     "execution_count": 32,
     "metadata": {},
     "output_type": "execute_result"
    }
   ],
   "source": [
    "loan_data['Loan.Length.Month'].value_counts()"
   ]
  },
  {
   "cell_type": "markdown",
   "id": "d0453e2d",
   "metadata": {},
   "source": [
    "### 2. Distributing Data "
   ]
  },
  {
   "cell_type": "code",
   "execution_count": 33,
   "id": "61ff1f5a",
   "metadata": {
    "ExecuteTime": {
     "end_time": "2022-06-15T13:17:13.414483Z",
     "start_time": "2022-06-15T13:17:13.345407Z"
    }
   },
   "outputs": [],
   "source": [
    "loan_length_36= loan_data['Interest.Rate'].loc[loan_data['Loan.Length.Month']==36]\n",
    "loan_length_60= loan_data['Interest.Rate'].loc[loan_data['Loan.Length.Month']==60]"
   ]
  },
  {
   "cell_type": "code",
   "execution_count": 34,
   "id": "38077aad",
   "metadata": {
    "ExecuteTime": {
     "end_time": "2022-06-15T13:17:13.582157Z",
     "start_time": "2022-06-15T13:17:13.422975Z"
    }
   },
   "outputs": [
    {
     "name": "stdout",
     "output_type": "stream",
     "text": [
      "The average interest rate of loan length 36 month is %12.128692070031004\n",
      "The average interest rate of loan length 60 month is %16.40746350364961\n"
     ]
    }
   ],
   "source": [
    "print(\"The average interest rate of loan length 36 month is %{}\".format(loan_length_36.mean()))\n",
    "\n",
    "print(\"The average interest rate of loan length 60 month is %{}\".format(loan_length_60.mean()))"
   ]
  },
  {
   "cell_type": "markdown",
   "id": "eccae684",
   "metadata": {},
   "source": [
    "On average, customers who received the 60 month loan length charged about 16% interest rate which is 4% more than the 36 month loan length. "
   ]
  },
  {
   "cell_type": "markdown",
   "id": "172c8d69",
   "metadata": {},
   "source": [
    "### 3. Selecting the Unpaired Student’s t-test"
   ]
  },
  {
   "cell_type": "code",
   "execution_count": 35,
   "id": "a396f78f",
   "metadata": {
    "ExecuteTime": {
     "end_time": "2022-06-15T13:17:13.738884Z",
     "start_time": "2022-06-15T13:17:13.590136Z"
    }
   },
   "outputs": [
    {
     "data": {
      "text/plain": [
       "-23.386783183622235"
      ]
     },
     "execution_count": 35,
     "metadata": {},
     "output_type": "execute_result"
    }
   ],
   "source": [
    "eq_var = stats.ttest_ind(a= loan_length_36, b= loan_length_60, equal_var=True)    # equal variance\n",
    "eq_var.statistic"
   ]
  },
  {
   "cell_type": "code",
   "execution_count": 36,
   "id": "73322eed",
   "metadata": {
    "ExecuteTime": {
     "end_time": "2022-06-15T13:17:13.846390Z",
     "start_time": "2022-06-15T13:17:13.745765Z"
    }
   },
   "outputs": [
    {
     "data": {
      "text/plain": [
       "-21.933848955574984"
      ]
     },
     "execution_count": 36,
     "metadata": {},
     "output_type": "execute_result"
    }
   ],
   "source": [
    "uneq_var = stats.ttest_ind(a=loan_length_36, b= loan_length_60, equal_var=False)    # UnEqual variance\n",
    "uneq_var.statistic"
   ]
  },
  {
   "cell_type": "code",
   "execution_count": 37,
   "id": "43e84a72",
   "metadata": {
    "ExecuteTime": {
     "end_time": "2022-06-15T13:17:13.970045Z",
     "start_time": "2022-06-15T13:17:13.852369Z"
    }
   },
   "outputs": [
    {
     "data": {
      "text/plain": [
       "1.4529342280472513"
      ]
     },
     "execution_count": 37,
     "metadata": {},
     "output_type": "execute_result"
    }
   ],
   "source": [
    "uneq_var.statistic - eq_var.statistic"
   ]
  },
  {
   "cell_type": "code",
   "execution_count": 38,
   "id": "266495a7",
   "metadata": {
    "ExecuteTime": {
     "end_time": "2022-06-15T13:17:14.236560Z",
     "start_time": "2022-06-15T13:17:13.973869Z"
    }
   },
   "outputs": [
    {
     "name": "stdout",
     "output_type": "stream",
     "text": [
      " For the above test, the t-score is -23.386783183622235 and the p-value is 1.652447884427493e-109\n",
      "We reject null hypothesis\n"
     ]
    }
   ],
   "source": [
    "t = eq_var.statistic\n",
    "\n",
    "p = eq_var.pvalue\n",
    "\n",
    "print(\" For the above test, the t-score is {} and the p-value is {}\".format(t,p))\n",
    "\n",
    "if(p<0.05):\n",
    "    print('We reject null hypothesis')\n",
    "else:\n",
    "    print('We fail to reject null hypothesis')"
   ]
  },
  {
   "cell_type": "markdown",
   "id": "8724c0d2",
   "metadata": {},
   "source": [
    "### 4. Decision and Conclusion\n",
    "\n",
    "The test result shows the pvalue(1.652447884427493e-109) is less than the significance level (0.05). We reject H0 hypothesis Loan length is directly effecting interest rate. "
   ]
  },
  {
   "cell_type": "markdown",
   "id": "37e8feac",
   "metadata": {},
   "source": [
    "# Method 2\n",
    "\n",
    "### 1. Defining Hypothesis\n",
    "Conduct the hypothesis testing to check whether the loan length is directly effecting interest rate. We expect interest rate is directly effecting loan length. So here are our hypotheses:  \n",
    "\n",
    "#### H0: No relation between Loan length and interest rate.\n",
    "#### H1: There is relationship between Loan length and interest rate.\n",
    "\n",
    "We'll use our conventional α = 0.05.\n",
    "\n",
    "### 2. Assumption Check\n",
    "\n",
    "    H₀: The data is normally distributed.\n",
    "    H₁: The data is not normally distributed.\n",
    "\n",
    "    H₀: The variances of the samples are the same.\n",
    "    H₁: The variances of the samples are different."
   ]
  },
  {
   "cell_type": "code",
   "execution_count": 39,
   "id": "fee724e6",
   "metadata": {
    "ExecuteTime": {
     "end_time": "2022-06-15T13:17:14.362474Z",
     "start_time": "2022-06-15T13:17:14.238554Z"
    }
   },
   "outputs": [
    {
     "name": "stdout",
     "output_type": "stream",
     "text": [
      "p value:0.0000\n",
      "Reject null hypothesis >> The data is not normally distributed\n",
      "p value:0.0000\n",
      "Reject null hypothesis >> The data is not normally distributed\n"
     ]
    }
   ],
   "source": [
    "check_normality(loan_length_36)\n",
    "check_normality(loan_length_60)"
   ]
  },
  {
   "cell_type": "code",
   "execution_count": 40,
   "id": "29d20c3c",
   "metadata": {
    "ExecuteTime": {
     "end_time": "2022-06-15T13:17:14.613648Z",
     "start_time": "2022-06-15T13:17:14.364771Z"
    }
   },
   "outputs": [
    {
     "name": "stdout",
     "output_type": "stream",
     "text": [
      "p value:0.0001\n",
      "Reject null hypothesis >> The variances of the samples are different.\n"
     ]
    }
   ],
   "source": [
    "stat, pvalue_levene= stats.levene(loan_length_36,loan_length_60)\n",
    "\n",
    "print(\"p value:%.4f\" % pvalue_levene)\n",
    "if pvalue_levene <0.05:\n",
    "    print(\"Reject null hypothesis >> The variances of the samples are different.\")\n",
    "else:\n",
    "    print(\"Fail to reject null hypothesis >> The variances of the samples are same.\")"
   ]
  },
  {
   "cell_type": "markdown",
   "id": "aa57b32a",
   "metadata": {},
   "source": [
    "### 3. Selecting the Proper Test "
   ]
  },
  {
   "cell_type": "code",
   "execution_count": 41,
   "id": "724a4523",
   "metadata": {
    "ExecuteTime": {
     "end_time": "2022-06-15T13:17:14.675739Z",
     "start_time": "2022-06-15T13:17:14.615227Z"
    }
   },
   "outputs": [
    {
     "name": "stdout",
     "output_type": "stream",
     "text": [
      "p value:0.000000\n",
      "Reject null hypothesis\n"
     ]
    }
   ],
   "source": [
    "F, p_value = stats.f_oneway(loan_length_36,loan_length_60)\n",
    "print(\"p value:%.6f\" % p_value)\n",
    "if p_value <0.05:\n",
    "    print(\"Reject null hypothesis\")\n",
    "else:\n",
    "    print(\"Fail to reject null hypothesis\")"
   ]
  },
  {
   "cell_type": "markdown",
   "id": "1e10ac13",
   "metadata": {},
   "source": [
    "### 4. Decision and Conclusion\n",
    "\n",
    "The test result shows the pvalue is less than the significance level (0.05). We reject H0 hypothesis Loan length is directly effecting interest rate. "
   ]
  },
  {
   "cell_type": "markdown",
   "id": "c26bc361",
   "metadata": {},
   "source": [
    "# c. Interest rate varies for different purpose of loans\n",
    "\n",
    "### 1. Defining Hypothesis\n",
    "Conduct the hypothesis testing to check whether the Interest rate varies for different purpose of loans. \n",
    "So here are our hypotheses:\n",
    "\n",
    "#### H0: The mean of the samples is the same.\n",
    "#### H1: At least one of them is different.\n",
    "\n",
    "The performance of the methods by using a 0.05 significance level. the hypothesis testing to check whether there is a difference between the performance of the methods by using a 0.05 significance level. "
   ]
  },
  {
   "cell_type": "code",
   "execution_count": 42,
   "id": "947bb01b",
   "metadata": {
    "ExecuteTime": {
     "end_time": "2022-06-15T13:17:14.770953Z",
     "start_time": "2022-06-15T13:17:14.677676Z"
    }
   },
   "outputs": [
    {
     "data": {
      "text/html": [
       "<div>\n",
       "<style scoped>\n",
       "    .dataframe tbody tr th:only-of-type {\n",
       "        vertical-align: middle;\n",
       "    }\n",
       "\n",
       "    .dataframe tbody tr th {\n",
       "        vertical-align: top;\n",
       "    }\n",
       "\n",
       "    .dataframe thead th {\n",
       "        text-align: right;\n",
       "    }\n",
       "</style>\n",
       "<table border=\"1\" class=\"dataframe\">\n",
       "  <thead>\n",
       "    <tr style=\"text-align: right;\">\n",
       "      <th></th>\n",
       "      <th>Amount.Requested</th>\n",
       "      <th>Amount.Funded.By.Investors</th>\n",
       "      <th>Interest.Rate</th>\n",
       "      <th>Loan.Purpose</th>\n",
       "      <th>Debt.To.Income.Ratio</th>\n",
       "      <th>State</th>\n",
       "      <th>Home.Ownership</th>\n",
       "      <th>Monthly.Income</th>\n",
       "      <th>FICO.Range</th>\n",
       "      <th>Open.CREDIT.Lines</th>\n",
       "      <th>Revolving.CREDIT.Balance</th>\n",
       "      <th>Inquiries.in.the.Last.6.Months</th>\n",
       "      <th>Loan.Length.Month</th>\n",
       "    </tr>\n",
       "  </thead>\n",
       "  <tbody>\n",
       "    <tr>\n",
       "      <th>0</th>\n",
       "      <td>20000.0</td>\n",
       "      <td>20000.00</td>\n",
       "      <td>8.90</td>\n",
       "      <td>debt_consolidation</td>\n",
       "      <td>14.90%</td>\n",
       "      <td>SC</td>\n",
       "      <td>MORTGAGE</td>\n",
       "      <td>6541.67</td>\n",
       "      <td>735-739</td>\n",
       "      <td>14.0</td>\n",
       "      <td>14272.0</td>\n",
       "      <td>2.0</td>\n",
       "      <td>36.0</td>\n",
       "    </tr>\n",
       "    <tr>\n",
       "      <th>1</th>\n",
       "      <td>19200.0</td>\n",
       "      <td>19200.00</td>\n",
       "      <td>12.12</td>\n",
       "      <td>debt_consolidation</td>\n",
       "      <td>28.36%</td>\n",
       "      <td>TX</td>\n",
       "      <td>MORTGAGE</td>\n",
       "      <td>4583.33</td>\n",
       "      <td>715-719</td>\n",
       "      <td>12.0</td>\n",
       "      <td>11140.0</td>\n",
       "      <td>1.0</td>\n",
       "      <td>36.0</td>\n",
       "    </tr>\n",
       "    <tr>\n",
       "      <th>2</th>\n",
       "      <td>35000.0</td>\n",
       "      <td>35000.00</td>\n",
       "      <td>21.98</td>\n",
       "      <td>debt_consolidation</td>\n",
       "      <td>23.81%</td>\n",
       "      <td>CA</td>\n",
       "      <td>MORTGAGE</td>\n",
       "      <td>11500.00</td>\n",
       "      <td>690-694</td>\n",
       "      <td>14.0</td>\n",
       "      <td>21977.0</td>\n",
       "      <td>1.0</td>\n",
       "      <td>60.0</td>\n",
       "    </tr>\n",
       "    <tr>\n",
       "      <th>3</th>\n",
       "      <td>10000.0</td>\n",
       "      <td>9975.00</td>\n",
       "      <td>9.99</td>\n",
       "      <td>debt_consolidation</td>\n",
       "      <td>14.30%</td>\n",
       "      <td>KS</td>\n",
       "      <td>MORTGAGE</td>\n",
       "      <td>3833.33</td>\n",
       "      <td>695-699</td>\n",
       "      <td>10.0</td>\n",
       "      <td>9346.0</td>\n",
       "      <td>0.0</td>\n",
       "      <td>36.0</td>\n",
       "    </tr>\n",
       "    <tr>\n",
       "      <th>4</th>\n",
       "      <td>12000.0</td>\n",
       "      <td>12000.00</td>\n",
       "      <td>11.71</td>\n",
       "      <td>credit_card</td>\n",
       "      <td>18.78%</td>\n",
       "      <td>NJ</td>\n",
       "      <td>RENT</td>\n",
       "      <td>3195.00</td>\n",
       "      <td>695-699</td>\n",
       "      <td>11.0</td>\n",
       "      <td>14469.0</td>\n",
       "      <td>0.0</td>\n",
       "      <td>36.0</td>\n",
       "    </tr>\n",
       "    <tr>\n",
       "      <th>...</th>\n",
       "      <td>...</td>\n",
       "      <td>...</td>\n",
       "      <td>...</td>\n",
       "      <td>...</td>\n",
       "      <td>...</td>\n",
       "      <td>...</td>\n",
       "      <td>...</td>\n",
       "      <td>...</td>\n",
       "      <td>...</td>\n",
       "      <td>...</td>\n",
       "      <td>...</td>\n",
       "      <td>...</td>\n",
       "      <td>...</td>\n",
       "    </tr>\n",
       "    <tr>\n",
       "      <th>2495</th>\n",
       "      <td>30000.0</td>\n",
       "      <td>29950.00</td>\n",
       "      <td>16.77</td>\n",
       "      <td>debt_consolidation</td>\n",
       "      <td>19.23%</td>\n",
       "      <td>NY</td>\n",
       "      <td>MORTGAGE</td>\n",
       "      <td>9250.00</td>\n",
       "      <td>705-709</td>\n",
       "      <td>15.0</td>\n",
       "      <td>45880.0</td>\n",
       "      <td>1.0</td>\n",
       "      <td>60.0</td>\n",
       "    </tr>\n",
       "    <tr>\n",
       "      <th>2496</th>\n",
       "      <td>16000.0</td>\n",
       "      <td>16000.00</td>\n",
       "      <td>14.09</td>\n",
       "      <td>home_improvement</td>\n",
       "      <td>21.54%</td>\n",
       "      <td>MD</td>\n",
       "      <td>OWN</td>\n",
       "      <td>8903.25</td>\n",
       "      <td>740-744</td>\n",
       "      <td>18.0</td>\n",
       "      <td>18898.0</td>\n",
       "      <td>1.0</td>\n",
       "      <td>60.0</td>\n",
       "    </tr>\n",
       "    <tr>\n",
       "      <th>2497</th>\n",
       "      <td>10000.0</td>\n",
       "      <td>10000.00</td>\n",
       "      <td>13.99</td>\n",
       "      <td>debt_consolidation</td>\n",
       "      <td>4.89%</td>\n",
       "      <td>PA</td>\n",
       "      <td>MORTGAGE</td>\n",
       "      <td>2166.67</td>\n",
       "      <td>680-684</td>\n",
       "      <td>4.0</td>\n",
       "      <td>4544.0</td>\n",
       "      <td>0.0</td>\n",
       "      <td>36.0</td>\n",
       "    </tr>\n",
       "    <tr>\n",
       "      <th>2498</th>\n",
       "      <td>6000.0</td>\n",
       "      <td>6000.00</td>\n",
       "      <td>12.42</td>\n",
       "      <td>major_purchase</td>\n",
       "      <td>16.66%</td>\n",
       "      <td>NJ</td>\n",
       "      <td>RENT</td>\n",
       "      <td>3500.00</td>\n",
       "      <td>675-679</td>\n",
       "      <td>8.0</td>\n",
       "      <td>7753.0</td>\n",
       "      <td>0.0</td>\n",
       "      <td>36.0</td>\n",
       "    </tr>\n",
       "    <tr>\n",
       "      <th>2499</th>\n",
       "      <td>9000.0</td>\n",
       "      <td>5242.75</td>\n",
       "      <td>13.79</td>\n",
       "      <td>debt_consolidation</td>\n",
       "      <td>6.76%</td>\n",
       "      <td>NY</td>\n",
       "      <td>RENT</td>\n",
       "      <td>3875.00</td>\n",
       "      <td>670-674</td>\n",
       "      <td>7.0</td>\n",
       "      <td>7589.0</td>\n",
       "      <td>0.0</td>\n",
       "      <td>36.0</td>\n",
       "    </tr>\n",
       "  </tbody>\n",
       "</table>\n",
       "<p>2490 rows × 13 columns</p>\n",
       "</div>"
      ],
      "text/plain": [
       "      Amount.Requested  Amount.Funded.By.Investors  Interest.Rate  \\\n",
       "0              20000.0                    20000.00           8.90   \n",
       "1              19200.0                    19200.00          12.12   \n",
       "2              35000.0                    35000.00          21.98   \n",
       "3              10000.0                     9975.00           9.99   \n",
       "4              12000.0                    12000.00          11.71   \n",
       "...                ...                         ...            ...   \n",
       "2495           30000.0                    29950.00          16.77   \n",
       "2496           16000.0                    16000.00          14.09   \n",
       "2497           10000.0                    10000.00          13.99   \n",
       "2498            6000.0                     6000.00          12.42   \n",
       "2499            9000.0                     5242.75          13.79   \n",
       "\n",
       "            Loan.Purpose Debt.To.Income.Ratio State Home.Ownership  \\\n",
       "0     debt_consolidation               14.90%    SC       MORTGAGE   \n",
       "1     debt_consolidation               28.36%    TX       MORTGAGE   \n",
       "2     debt_consolidation               23.81%    CA       MORTGAGE   \n",
       "3     debt_consolidation               14.30%    KS       MORTGAGE   \n",
       "4            credit_card               18.78%    NJ           RENT   \n",
       "...                  ...                  ...   ...            ...   \n",
       "2495  debt_consolidation               19.23%    NY       MORTGAGE   \n",
       "2496    home_improvement               21.54%    MD            OWN   \n",
       "2497  debt_consolidation                4.89%    PA       MORTGAGE   \n",
       "2498      major_purchase               16.66%    NJ           RENT   \n",
       "2499  debt_consolidation                6.76%    NY           RENT   \n",
       "\n",
       "      Monthly.Income FICO.Range  Open.CREDIT.Lines  Revolving.CREDIT.Balance  \\\n",
       "0            6541.67    735-739               14.0                   14272.0   \n",
       "1            4583.33    715-719               12.0                   11140.0   \n",
       "2           11500.00    690-694               14.0                   21977.0   \n",
       "3            3833.33    695-699               10.0                    9346.0   \n",
       "4            3195.00    695-699               11.0                   14469.0   \n",
       "...              ...        ...                ...                       ...   \n",
       "2495         9250.00    705-709               15.0                   45880.0   \n",
       "2496         8903.25    740-744               18.0                   18898.0   \n",
       "2497         2166.67    680-684                4.0                    4544.0   \n",
       "2498         3500.00    675-679                8.0                    7753.0   \n",
       "2499         3875.00    670-674                7.0                    7589.0   \n",
       "\n",
       "      Inquiries.in.the.Last.6.Months  Loan.Length.Month  \n",
       "0                                2.0               36.0  \n",
       "1                                1.0               36.0  \n",
       "2                                1.0               60.0  \n",
       "3                                0.0               36.0  \n",
       "4                                0.0               36.0  \n",
       "...                              ...                ...  \n",
       "2495                             1.0               60.0  \n",
       "2496                             1.0               60.0  \n",
       "2497                             0.0               36.0  \n",
       "2498                             0.0               36.0  \n",
       "2499                             0.0               36.0  \n",
       "\n",
       "[2490 rows x 13 columns]"
      ]
     },
     "execution_count": 42,
     "metadata": {},
     "output_type": "execute_result"
    }
   ],
   "source": [
    "loan_data"
   ]
  },
  {
   "cell_type": "code",
   "execution_count": 43,
   "id": "dffac5af",
   "metadata": {
    "ExecuteTime": {
     "end_time": "2022-06-15T13:17:15.207554Z",
     "start_time": "2022-06-15T13:17:14.771804Z"
    }
   },
   "outputs": [],
   "source": [
    "loan_data_obs = pd.crosstab( loan_data['Interest.Rate'], loan_data['Loan.Purpose'] )"
   ]
  },
  {
   "cell_type": "code",
   "execution_count": 44,
   "id": "4b4ed60e",
   "metadata": {
    "ExecuteTime": {
     "end_time": "2022-06-15T13:17:15.238461Z",
     "start_time": "2022-06-15T13:17:15.208780Z"
    }
   },
   "outputs": [
    {
     "data": {
      "text/html": [
       "<div>\n",
       "<style scoped>\n",
       "    .dataframe tbody tr th:only-of-type {\n",
       "        vertical-align: middle;\n",
       "    }\n",
       "\n",
       "    .dataframe tbody tr th {\n",
       "        vertical-align: top;\n",
       "    }\n",
       "\n",
       "    .dataframe thead th {\n",
       "        text-align: right;\n",
       "    }\n",
       "</style>\n",
       "<table border=\"1\" class=\"dataframe\">\n",
       "  <thead>\n",
       "    <tr style=\"text-align: right;\">\n",
       "      <th>Interest.Rate</th>\n",
       "      <th>5.42</th>\n",
       "      <th>5.79</th>\n",
       "      <th>5.99</th>\n",
       "      <th>6.00</th>\n",
       "      <th>6.03</th>\n",
       "      <th>6.17</th>\n",
       "      <th>6.54</th>\n",
       "      <th>6.62</th>\n",
       "      <th>6.76</th>\n",
       "      <th>6.91</th>\n",
       "      <th>...</th>\n",
       "      <th>23.28</th>\n",
       "      <th>23.33</th>\n",
       "      <th>23.63</th>\n",
       "      <th>23.76</th>\n",
       "      <th>23.83</th>\n",
       "      <th>23.91</th>\n",
       "      <th>24.20</th>\n",
       "      <th>24.33</th>\n",
       "      <th>24.70</th>\n",
       "      <th>24.89</th>\n",
       "    </tr>\n",
       "    <tr>\n",
       "      <th>Loan.Purpose</th>\n",
       "      <th></th>\n",
       "      <th></th>\n",
       "      <th></th>\n",
       "      <th></th>\n",
       "      <th></th>\n",
       "      <th></th>\n",
       "      <th></th>\n",
       "      <th></th>\n",
       "      <th></th>\n",
       "      <th></th>\n",
       "      <th></th>\n",
       "      <th></th>\n",
       "      <th></th>\n",
       "      <th></th>\n",
       "      <th></th>\n",
       "      <th></th>\n",
       "      <th></th>\n",
       "      <th></th>\n",
       "      <th></th>\n",
       "      <th></th>\n",
       "      <th></th>\n",
       "    </tr>\n",
       "  </thead>\n",
       "  <tbody>\n",
       "    <tr>\n",
       "      <th>car</th>\n",
       "      <td>0</td>\n",
       "      <td>1</td>\n",
       "      <td>0</td>\n",
       "      <td>0</td>\n",
       "      <td>3</td>\n",
       "      <td>0</td>\n",
       "      <td>0</td>\n",
       "      <td>3</td>\n",
       "      <td>0</td>\n",
       "      <td>1</td>\n",
       "      <td>...</td>\n",
       "      <td>0</td>\n",
       "      <td>0</td>\n",
       "      <td>0</td>\n",
       "      <td>0</td>\n",
       "      <td>0</td>\n",
       "      <td>0</td>\n",
       "      <td>0</td>\n",
       "      <td>0</td>\n",
       "      <td>0</td>\n",
       "      <td>0</td>\n",
       "    </tr>\n",
       "    <tr>\n",
       "      <th>credit_card</th>\n",
       "      <td>2</td>\n",
       "      <td>2</td>\n",
       "      <td>1</td>\n",
       "      <td>0</td>\n",
       "      <td>7</td>\n",
       "      <td>0</td>\n",
       "      <td>1</td>\n",
       "      <td>11</td>\n",
       "      <td>0</td>\n",
       "      <td>1</td>\n",
       "      <td>...</td>\n",
       "      <td>1</td>\n",
       "      <td>0</td>\n",
       "      <td>0</td>\n",
       "      <td>1</td>\n",
       "      <td>0</td>\n",
       "      <td>0</td>\n",
       "      <td>0</td>\n",
       "      <td>0</td>\n",
       "      <td>1</td>\n",
       "      <td>0</td>\n",
       "    </tr>\n",
       "    <tr>\n",
       "      <th>debt_consolidation</th>\n",
       "      <td>0</td>\n",
       "      <td>5</td>\n",
       "      <td>4</td>\n",
       "      <td>0</td>\n",
       "      <td>24</td>\n",
       "      <td>1</td>\n",
       "      <td>3</td>\n",
       "      <td>24</td>\n",
       "      <td>2</td>\n",
       "      <td>5</td>\n",
       "      <td>...</td>\n",
       "      <td>3</td>\n",
       "      <td>1</td>\n",
       "      <td>1</td>\n",
       "      <td>5</td>\n",
       "      <td>2</td>\n",
       "      <td>1</td>\n",
       "      <td>1</td>\n",
       "      <td>1</td>\n",
       "      <td>1</td>\n",
       "      <td>1</td>\n",
       "    </tr>\n",
       "    <tr>\n",
       "      <th>educational</th>\n",
       "      <td>0</td>\n",
       "      <td>0</td>\n",
       "      <td>0</td>\n",
       "      <td>0</td>\n",
       "      <td>0</td>\n",
       "      <td>0</td>\n",
       "      <td>0</td>\n",
       "      <td>0</td>\n",
       "      <td>1</td>\n",
       "      <td>0</td>\n",
       "      <td>...</td>\n",
       "      <td>0</td>\n",
       "      <td>0</td>\n",
       "      <td>0</td>\n",
       "      <td>0</td>\n",
       "      <td>0</td>\n",
       "      <td>0</td>\n",
       "      <td>0</td>\n",
       "      <td>0</td>\n",
       "      <td>0</td>\n",
       "      <td>0</td>\n",
       "    </tr>\n",
       "    <tr>\n",
       "      <th>home_improvement</th>\n",
       "      <td>5</td>\n",
       "      <td>2</td>\n",
       "      <td>3</td>\n",
       "      <td>1</td>\n",
       "      <td>5</td>\n",
       "      <td>1</td>\n",
       "      <td>1</td>\n",
       "      <td>4</td>\n",
       "      <td>0</td>\n",
       "      <td>0</td>\n",
       "      <td>...</td>\n",
       "      <td>0</td>\n",
       "      <td>0</td>\n",
       "      <td>0</td>\n",
       "      <td>0</td>\n",
       "      <td>0</td>\n",
       "      <td>0</td>\n",
       "      <td>0</td>\n",
       "      <td>0</td>\n",
       "      <td>0</td>\n",
       "      <td>0</td>\n",
       "    </tr>\n",
       "    <tr>\n",
       "      <th>house</th>\n",
       "      <td>0</td>\n",
       "      <td>0</td>\n",
       "      <td>1</td>\n",
       "      <td>0</td>\n",
       "      <td>1</td>\n",
       "      <td>0</td>\n",
       "      <td>0</td>\n",
       "      <td>1</td>\n",
       "      <td>0</td>\n",
       "      <td>0</td>\n",
       "      <td>...</td>\n",
       "      <td>0</td>\n",
       "      <td>0</td>\n",
       "      <td>0</td>\n",
       "      <td>0</td>\n",
       "      <td>0</td>\n",
       "      <td>0</td>\n",
       "      <td>0</td>\n",
       "      <td>0</td>\n",
       "      <td>0</td>\n",
       "      <td>0</td>\n",
       "    </tr>\n",
       "    <tr>\n",
       "      <th>major_purchase</th>\n",
       "      <td>1</td>\n",
       "      <td>1</td>\n",
       "      <td>1</td>\n",
       "      <td>0</td>\n",
       "      <td>6</td>\n",
       "      <td>2</td>\n",
       "      <td>0</td>\n",
       "      <td>2</td>\n",
       "      <td>0</td>\n",
       "      <td>1</td>\n",
       "      <td>...</td>\n",
       "      <td>0</td>\n",
       "      <td>0</td>\n",
       "      <td>0</td>\n",
       "      <td>0</td>\n",
       "      <td>0</td>\n",
       "      <td>0</td>\n",
       "      <td>0</td>\n",
       "      <td>0</td>\n",
       "      <td>0</td>\n",
       "      <td>0</td>\n",
       "    </tr>\n",
       "    <tr>\n",
       "      <th>medical</th>\n",
       "      <td>1</td>\n",
       "      <td>0</td>\n",
       "      <td>0</td>\n",
       "      <td>0</td>\n",
       "      <td>2</td>\n",
       "      <td>0</td>\n",
       "      <td>1</td>\n",
       "      <td>1</td>\n",
       "      <td>0</td>\n",
       "      <td>0</td>\n",
       "      <td>...</td>\n",
       "      <td>1</td>\n",
       "      <td>0</td>\n",
       "      <td>0</td>\n",
       "      <td>0</td>\n",
       "      <td>0</td>\n",
       "      <td>0</td>\n",
       "      <td>0</td>\n",
       "      <td>0</td>\n",
       "      <td>0</td>\n",
       "      <td>0</td>\n",
       "    </tr>\n",
       "    <tr>\n",
       "      <th>moving</th>\n",
       "      <td>0</td>\n",
       "      <td>1</td>\n",
       "      <td>0</td>\n",
       "      <td>0</td>\n",
       "      <td>0</td>\n",
       "      <td>1</td>\n",
       "      <td>0</td>\n",
       "      <td>0</td>\n",
       "      <td>1</td>\n",
       "      <td>0</td>\n",
       "      <td>...</td>\n",
       "      <td>0</td>\n",
       "      <td>0</td>\n",
       "      <td>0</td>\n",
       "      <td>1</td>\n",
       "      <td>0</td>\n",
       "      <td>0</td>\n",
       "      <td>0</td>\n",
       "      <td>0</td>\n",
       "      <td>0</td>\n",
       "      <td>1</td>\n",
       "    </tr>\n",
       "    <tr>\n",
       "      <th>other</th>\n",
       "      <td>0</td>\n",
       "      <td>1</td>\n",
       "      <td>0</td>\n",
       "      <td>0</td>\n",
       "      <td>4</td>\n",
       "      <td>0</td>\n",
       "      <td>0</td>\n",
       "      <td>1</td>\n",
       "      <td>0</td>\n",
       "      <td>0</td>\n",
       "      <td>...</td>\n",
       "      <td>2</td>\n",
       "      <td>0</td>\n",
       "      <td>0</td>\n",
       "      <td>0</td>\n",
       "      <td>0</td>\n",
       "      <td>0</td>\n",
       "      <td>0</td>\n",
       "      <td>0</td>\n",
       "      <td>0</td>\n",
       "      <td>0</td>\n",
       "    </tr>\n",
       "    <tr>\n",
       "      <th>renewable_energy</th>\n",
       "      <td>0</td>\n",
       "      <td>0</td>\n",
       "      <td>0</td>\n",
       "      <td>0</td>\n",
       "      <td>0</td>\n",
       "      <td>0</td>\n",
       "      <td>0</td>\n",
       "      <td>0</td>\n",
       "      <td>0</td>\n",
       "      <td>0</td>\n",
       "      <td>...</td>\n",
       "      <td>0</td>\n",
       "      <td>0</td>\n",
       "      <td>0</td>\n",
       "      <td>0</td>\n",
       "      <td>0</td>\n",
       "      <td>0</td>\n",
       "      <td>0</td>\n",
       "      <td>0</td>\n",
       "      <td>0</td>\n",
       "      <td>0</td>\n",
       "    </tr>\n",
       "    <tr>\n",
       "      <th>small_business</th>\n",
       "      <td>0</td>\n",
       "      <td>1</td>\n",
       "      <td>0</td>\n",
       "      <td>0</td>\n",
       "      <td>4</td>\n",
       "      <td>0</td>\n",
       "      <td>0</td>\n",
       "      <td>1</td>\n",
       "      <td>0</td>\n",
       "      <td>0</td>\n",
       "      <td>...</td>\n",
       "      <td>0</td>\n",
       "      <td>0</td>\n",
       "      <td>0</td>\n",
       "      <td>0</td>\n",
       "      <td>0</td>\n",
       "      <td>0</td>\n",
       "      <td>0</td>\n",
       "      <td>0</td>\n",
       "      <td>0</td>\n",
       "      <td>0</td>\n",
       "    </tr>\n",
       "    <tr>\n",
       "      <th>vacation</th>\n",
       "      <td>1</td>\n",
       "      <td>0</td>\n",
       "      <td>0</td>\n",
       "      <td>0</td>\n",
       "      <td>1</td>\n",
       "      <td>0</td>\n",
       "      <td>0</td>\n",
       "      <td>0</td>\n",
       "      <td>0</td>\n",
       "      <td>1</td>\n",
       "      <td>...</td>\n",
       "      <td>0</td>\n",
       "      <td>0</td>\n",
       "      <td>0</td>\n",
       "      <td>0</td>\n",
       "      <td>0</td>\n",
       "      <td>0</td>\n",
       "      <td>0</td>\n",
       "      <td>0</td>\n",
       "      <td>0</td>\n",
       "      <td>0</td>\n",
       "    </tr>\n",
       "    <tr>\n",
       "      <th>wedding</th>\n",
       "      <td>1</td>\n",
       "      <td>0</td>\n",
       "      <td>0</td>\n",
       "      <td>0</td>\n",
       "      <td>0</td>\n",
       "      <td>0</td>\n",
       "      <td>0</td>\n",
       "      <td>1</td>\n",
       "      <td>0</td>\n",
       "      <td>0</td>\n",
       "      <td>...</td>\n",
       "      <td>0</td>\n",
       "      <td>0</td>\n",
       "      <td>0</td>\n",
       "      <td>0</td>\n",
       "      <td>0</td>\n",
       "      <td>0</td>\n",
       "      <td>0</td>\n",
       "      <td>0</td>\n",
       "      <td>0</td>\n",
       "      <td>0</td>\n",
       "    </tr>\n",
       "  </tbody>\n",
       "</table>\n",
       "<p>14 rows × 273 columns</p>\n",
       "</div>"
      ],
      "text/plain": [
       "Interest.Rate       5.42   5.79   5.99   6.00   6.03   6.17   6.54   6.62   \\\n",
       "Loan.Purpose                                                                 \n",
       "car                     0      1      0      0      3      0      0      3   \n",
       "credit_card             2      2      1      0      7      0      1     11   \n",
       "debt_consolidation      0      5      4      0     24      1      3     24   \n",
       "educational             0      0      0      0      0      0      0      0   \n",
       "home_improvement        5      2      3      1      5      1      1      4   \n",
       "house                   0      0      1      0      1      0      0      1   \n",
       "major_purchase          1      1      1      0      6      2      0      2   \n",
       "medical                 1      0      0      0      2      0      1      1   \n",
       "moving                  0      1      0      0      0      1      0      0   \n",
       "other                   0      1      0      0      4      0      0      1   \n",
       "renewable_energy        0      0      0      0      0      0      0      0   \n",
       "small_business          0      1      0      0      4      0      0      1   \n",
       "vacation                1      0      0      0      1      0      0      0   \n",
       "wedding                 1      0      0      0      0      0      0      1   \n",
       "\n",
       "Interest.Rate       6.76   6.91   ...  23.28  23.33  23.63  23.76  23.83  \\\n",
       "Loan.Purpose                      ...                                      \n",
       "car                     0      1  ...      0      0      0      0      0   \n",
       "credit_card             0      1  ...      1      0      0      1      0   \n",
       "debt_consolidation      2      5  ...      3      1      1      5      2   \n",
       "educational             1      0  ...      0      0      0      0      0   \n",
       "home_improvement        0      0  ...      0      0      0      0      0   \n",
       "house                   0      0  ...      0      0      0      0      0   \n",
       "major_purchase          0      1  ...      0      0      0      0      0   \n",
       "medical                 0      0  ...      1      0      0      0      0   \n",
       "moving                  1      0  ...      0      0      0      1      0   \n",
       "other                   0      0  ...      2      0      0      0      0   \n",
       "renewable_energy        0      0  ...      0      0      0      0      0   \n",
       "small_business          0      0  ...      0      0      0      0      0   \n",
       "vacation                0      1  ...      0      0      0      0      0   \n",
       "wedding                 0      0  ...      0      0      0      0      0   \n",
       "\n",
       "Interest.Rate       23.91  24.20  24.33  24.70  24.89  \n",
       "Loan.Purpose                                           \n",
       "car                     0      0      0      0      0  \n",
       "credit_card             0      0      0      1      0  \n",
       "debt_consolidation      1      1      1      1      1  \n",
       "educational             0      0      0      0      0  \n",
       "home_improvement        0      0      0      0      0  \n",
       "house                   0      0      0      0      0  \n",
       "major_purchase          0      0      0      0      0  \n",
       "medical                 0      0      0      0      0  \n",
       "moving                  0      0      0      0      1  \n",
       "other                   0      0      0      0      0  \n",
       "renewable_energy        0      0      0      0      0  \n",
       "small_business          0      0      0      0      0  \n",
       "vacation                0      0      0      0      0  \n",
       "wedding                 0      0      0      0      0  \n",
       "\n",
       "[14 rows x 273 columns]"
      ]
     },
     "execution_count": 44,
     "metadata": {},
     "output_type": "execute_result"
    }
   ],
   "source": [
    "loan_data_obs.T"
   ]
  },
  {
   "cell_type": "markdown",
   "id": "d70bece0",
   "metadata": {},
   "source": [
    "### 2. Selecting the Proper Test"
   ]
  },
  {
   "cell_type": "code",
   "execution_count": 45,
   "id": "1f4fddbf",
   "metadata": {
    "ExecuteTime": {
     "end_time": "2022-06-15T13:17:15.456378Z",
     "start_time": "2022-06-15T13:17:15.239355Z"
    }
   },
   "outputs": [
    {
     "data": {
      "text/plain": [
       "(4366.428957867566,\n",
       " 1.776058140316001e-20,\n",
       " 3536,\n",
       " array([[0.22088353, 0.2811245 , 0.20080321, ..., 0.02008032, 0.04016064,\n",
       "         0.04016064],\n",
       "        [1.95702811, 2.49076305, 1.77911647, ..., 0.17791165, 0.35582329,\n",
       "         0.35582329],\n",
       "        [5.75180723, 7.32048193, 5.22891566, ..., 0.52289157, 1.04578313,\n",
       "         1.04578313],\n",
       "        ...,\n",
       "        [0.37991968, 0.48353414, 0.34538153, ..., 0.03453815, 0.06907631,\n",
       "         0.06907631],\n",
       "        [0.09277108, 0.11807229, 0.08433735, ..., 0.00843373, 0.01686747,\n",
       "         0.01686747],\n",
       "        [0.16787149, 0.21365462, 0.15261044, ..., 0.01526104, 0.03052209,\n",
       "         0.03052209]]))"
      ]
     },
     "execution_count": 45,
     "metadata": {},
     "output_type": "execute_result"
    }
   ],
   "source": [
    "stats.chi2_contingency( loan_data_obs.T )"
   ]
  },
  {
   "cell_type": "code",
   "execution_count": 46,
   "id": "d636ee69",
   "metadata": {
    "ExecuteTime": {
     "end_time": "2022-06-15T13:17:15.636726Z",
     "start_time": "2022-06-15T13:17:15.458373Z"
    }
   },
   "outputs": [
    {
     "name": "stdout",
     "output_type": "stream",
     "text": [
      "p value:0.00000000000000000\n",
      "Reject null hypothesis\n"
     ]
    }
   ],
   "source": [
    "test_stat,p_value,dof, ex = stats.chi2_contingency( loan_data_obs.T )\n",
    "print(\"p value:%.17f\" % p_value)\n",
    "if p_value <0.05:\n",
    "    print(\"Reject null hypothesis\")\n",
    "else:\n",
    "    print(\"Fail to reject null hypothesis\")"
   ]
  },
  {
   "cell_type": "markdown",
   "id": "be8b7185",
   "metadata": {},
   "source": [
    "### 3.Decision and Conclusion\n",
    "\n",
    "The test result shows the pvalue is less than the significance level (0.05). We reject the H0 Hypothesis Interest rate varies for different purpose of loans as p- value is very low."
   ]
  },
  {
   "cell_type": "markdown",
   "id": "af8e5bf4",
   "metadata": {},
   "source": [
    "# d. There is relationship between FICO scores and Home Ownership. It means that, People with owning home will have high FICO scores.\n",
    "\n",
    "### 1. Defining Hypothesis\n",
    "Conduct the hypothesis testing to check whether there is relationship between FICO scores and Home Ownership. It means that, People with owning home will have high FICO scores. \n",
    "So here are our hypotheses:\n",
    "\n",
    "#### H0: The mean of the samples is the same. No relationship.\n",
    "#### H1: At least one of them is different. There is relationship.\n",
    "\n",
    "The performance of the methods by using a 0.05 significance level. the hypothesis testing to check whether there is a difference between the performance of the methods by using a 0.05 significance level. "
   ]
  },
  {
   "cell_type": "code",
   "execution_count": 47,
   "id": "574177b0",
   "metadata": {
    "ExecuteTime": {
     "end_time": "2022-06-15T13:17:15.714760Z",
     "start_time": "2022-06-15T13:17:15.639717Z"
    }
   },
   "outputs": [
    {
     "data": {
      "text/plain": [
       "Index(['Amount.Requested', 'Amount.Funded.By.Investors', 'Interest.Rate',\n",
       "       'Loan.Purpose', 'Debt.To.Income.Ratio', 'State', 'Home.Ownership',\n",
       "       'Monthly.Income', 'FICO.Range', 'Open.CREDIT.Lines',\n",
       "       'Revolving.CREDIT.Balance', 'Inquiries.in.the.Last.6.Months',\n",
       "       'Loan.Length.Month'],\n",
       "      dtype='object')"
      ]
     },
     "execution_count": 47,
     "metadata": {},
     "output_type": "execute_result"
    }
   ],
   "source": [
    "loan_data.columns"
   ]
  },
  {
   "cell_type": "code",
   "execution_count": 48,
   "id": "b8c45265",
   "metadata": {
    "ExecuteTime": {
     "end_time": "2022-06-15T13:17:15.881116Z",
     "start_time": "2022-06-15T13:17:15.715597Z"
    }
   },
   "outputs": [],
   "source": [
    "loan_data_fico= pd.crosstab(loan_data['Home.Ownership'],loan_data['FICO.Range'])"
   ]
  },
  {
   "cell_type": "code",
   "execution_count": 49,
   "id": "d3df4434",
   "metadata": {
    "ExecuteTime": {
     "end_time": "2022-06-15T13:17:15.943197Z",
     "start_time": "2022-06-15T13:17:15.883354Z"
    }
   },
   "outputs": [
    {
     "data": {
      "text/html": [
       "<div>\n",
       "<style scoped>\n",
       "    .dataframe tbody tr th:only-of-type {\n",
       "        vertical-align: middle;\n",
       "    }\n",
       "\n",
       "    .dataframe tbody tr th {\n",
       "        vertical-align: top;\n",
       "    }\n",
       "\n",
       "    .dataframe thead th {\n",
       "        text-align: right;\n",
       "    }\n",
       "</style>\n",
       "<table border=\"1\" class=\"dataframe\">\n",
       "  <thead>\n",
       "    <tr style=\"text-align: right;\">\n",
       "      <th>FICO.Range</th>\n",
       "      <th>640-644</th>\n",
       "      <th>645-649</th>\n",
       "      <th>650-654</th>\n",
       "      <th>655-659</th>\n",
       "      <th>660-664</th>\n",
       "      <th>665-669</th>\n",
       "      <th>670-674</th>\n",
       "      <th>675-679</th>\n",
       "      <th>680-684</th>\n",
       "      <th>685-689</th>\n",
       "      <th>...</th>\n",
       "      <th>780-784</th>\n",
       "      <th>785-789</th>\n",
       "      <th>790-794</th>\n",
       "      <th>795-799</th>\n",
       "      <th>800-804</th>\n",
       "      <th>805-809</th>\n",
       "      <th>810-814</th>\n",
       "      <th>815-819</th>\n",
       "      <th>820-824</th>\n",
       "      <th>830-834</th>\n",
       "    </tr>\n",
       "    <tr>\n",
       "      <th>Home.Ownership</th>\n",
       "      <th></th>\n",
       "      <th></th>\n",
       "      <th></th>\n",
       "      <th></th>\n",
       "      <th></th>\n",
       "      <th></th>\n",
       "      <th></th>\n",
       "      <th></th>\n",
       "      <th></th>\n",
       "      <th></th>\n",
       "      <th></th>\n",
       "      <th></th>\n",
       "      <th></th>\n",
       "      <th></th>\n",
       "      <th></th>\n",
       "      <th></th>\n",
       "      <th></th>\n",
       "      <th></th>\n",
       "      <th></th>\n",
       "      <th></th>\n",
       "      <th></th>\n",
       "    </tr>\n",
       "  </thead>\n",
       "  <tbody>\n",
       "    <tr>\n",
       "      <th>MORTGAGE</th>\n",
       "      <td>0</td>\n",
       "      <td>1</td>\n",
       "      <td>1</td>\n",
       "      <td>0</td>\n",
       "      <td>41</td>\n",
       "      <td>52</td>\n",
       "      <td>67</td>\n",
       "      <td>79</td>\n",
       "      <td>55</td>\n",
       "      <td>61</td>\n",
       "      <td>...</td>\n",
       "      <td>21</td>\n",
       "      <td>12</td>\n",
       "      <td>15</td>\n",
       "      <td>7</td>\n",
       "      <td>7</td>\n",
       "      <td>6</td>\n",
       "      <td>5</td>\n",
       "      <td>6</td>\n",
       "      <td>0</td>\n",
       "      <td>1</td>\n",
       "    </tr>\n",
       "    <tr>\n",
       "      <th>OTHER</th>\n",
       "      <td>0</td>\n",
       "      <td>0</td>\n",
       "      <td>0</td>\n",
       "      <td>1</td>\n",
       "      <td>0</td>\n",
       "      <td>0</td>\n",
       "      <td>1</td>\n",
       "      <td>1</td>\n",
       "      <td>2</td>\n",
       "      <td>0</td>\n",
       "      <td>...</td>\n",
       "      <td>0</td>\n",
       "      <td>0</td>\n",
       "      <td>0</td>\n",
       "      <td>0</td>\n",
       "      <td>0</td>\n",
       "      <td>0</td>\n",
       "      <td>0</td>\n",
       "      <td>0</td>\n",
       "      <td>0</td>\n",
       "      <td>0</td>\n",
       "    </tr>\n",
       "    <tr>\n",
       "      <th>OWN</th>\n",
       "      <td>1</td>\n",
       "      <td>0</td>\n",
       "      <td>0</td>\n",
       "      <td>0</td>\n",
       "      <td>17</td>\n",
       "      <td>18</td>\n",
       "      <td>13</td>\n",
       "      <td>11</td>\n",
       "      <td>9</td>\n",
       "      <td>10</td>\n",
       "      <td>...</td>\n",
       "      <td>3</td>\n",
       "      <td>2</td>\n",
       "      <td>1</td>\n",
       "      <td>1</td>\n",
       "      <td>3</td>\n",
       "      <td>2</td>\n",
       "      <td>1</td>\n",
       "      <td>0</td>\n",
       "      <td>1</td>\n",
       "      <td>0</td>\n",
       "    </tr>\n",
       "    <tr>\n",
       "      <th>RENT</th>\n",
       "      <td>4</td>\n",
       "      <td>2</td>\n",
       "      <td>0</td>\n",
       "      <td>3</td>\n",
       "      <td>66</td>\n",
       "      <td>75</td>\n",
       "      <td>89</td>\n",
       "      <td>75</td>\n",
       "      <td>91</td>\n",
       "      <td>64</td>\n",
       "      <td>...</td>\n",
       "      <td>4</td>\n",
       "      <td>5</td>\n",
       "      <td>4</td>\n",
       "      <td>5</td>\n",
       "      <td>2</td>\n",
       "      <td>3</td>\n",
       "      <td>2</td>\n",
       "      <td>0</td>\n",
       "      <td>0</td>\n",
       "      <td>0</td>\n",
       "    </tr>\n",
       "  </tbody>\n",
       "</table>\n",
       "<p>4 rows × 38 columns</p>\n",
       "</div>"
      ],
      "text/plain": [
       "FICO.Range      640-644  645-649  650-654  655-659  660-664  665-669  670-674  \\\n",
       "Home.Ownership                                                                  \n",
       "MORTGAGE              0        1        1        0       41       52       67   \n",
       "OTHER                 0        0        0        1        0        0        1   \n",
       "OWN                   1        0        0        0       17       18       13   \n",
       "RENT                  4        2        0        3       66       75       89   \n",
       "\n",
       "FICO.Range      675-679  680-684  685-689  ...  780-784  785-789  790-794  \\\n",
       "Home.Ownership                             ...                              \n",
       "MORTGAGE             79       55       61  ...       21       12       15   \n",
       "OTHER                 1        2        0  ...        0        0        0   \n",
       "OWN                  11        9       10  ...        3        2        1   \n",
       "RENT                 75       91       64  ...        4        5        4   \n",
       "\n",
       "FICO.Range      795-799  800-804  805-809  810-814  815-819  820-824  830-834  \n",
       "Home.Ownership                                                                 \n",
       "MORTGAGE              7        7        6        5        6        0        1  \n",
       "OTHER                 0        0        0        0        0        0        0  \n",
       "OWN                   1        3        2        1        0        1        0  \n",
       "RENT                  5        2        3        2        0        0        0  \n",
       "\n",
       "[4 rows x 38 columns]"
      ]
     },
     "execution_count": 49,
     "metadata": {},
     "output_type": "execute_result"
    }
   ],
   "source": [
    "loan_data_fico"
   ]
  },
  {
   "cell_type": "markdown",
   "id": "cdc12178",
   "metadata": {},
   "source": [
    "### 2. Selecting the Proper Test"
   ]
  },
  {
   "cell_type": "code",
   "execution_count": 50,
   "id": "d89eea49",
   "metadata": {
    "ExecuteTime": {
     "end_time": "2022-06-15T13:17:16.039091Z",
     "start_time": "2022-06-15T13:17:15.945192Z"
    },
    "scrolled": true
   },
   "outputs": [
    {
     "data": {
      "text/plain": [
       "(281.5115487692492,\n",
       " 8.690818021087272e-17,\n",
       " 111,\n",
       " array([[2.29718876e+00, 1.37831325e+00, 4.59437751e-01, 1.83775100e+00,\n",
       "         5.69702811e+01, 6.66184739e+01, 7.81044177e+01, 7.62666667e+01,\n",
       "         7.21317269e+01, 6.20240964e+01, 6.38618474e+01, 7.02939759e+01,\n",
       "         6.01863454e+01, 6.15646586e+01, 5.09975904e+01, 4.27277108e+01,\n",
       "         5.14570281e+01, 4.31871486e+01, 4.31871486e+01, 2.98634538e+01,\n",
       "         2.43502008e+01, 2.48096386e+01, 2.80257028e+01, 2.11341365e+01,\n",
       "         2.11341365e+01, 1.65397590e+01, 7.81044177e+00, 1.01076305e+01,\n",
       "         1.28642570e+01, 8.72931727e+00, 9.18875502e+00, 5.97269076e+00,\n",
       "         5.51325301e+00, 5.05381526e+00, 3.67550201e+00, 2.75662651e+00,\n",
       "         4.59437751e-01, 4.59437751e-01],\n",
       "        [1.00401606e-02, 6.02409639e-03, 2.00803213e-03, 8.03212851e-03,\n",
       "         2.48995984e-01, 2.91164659e-01, 3.41365462e-01, 3.33333333e-01,\n",
       "         3.15261044e-01, 2.71084337e-01, 2.79116466e-01, 3.07228916e-01,\n",
       "         2.63052209e-01, 2.69076305e-01, 2.22891566e-01, 1.86746988e-01,\n",
       "         2.24899598e-01, 1.88755020e-01, 1.88755020e-01, 1.30522088e-01,\n",
       "         1.06425703e-01, 1.08433735e-01, 1.22489960e-01, 9.23694779e-02,\n",
       "         9.23694779e-02, 7.22891566e-02, 3.41365462e-02, 4.41767068e-02,\n",
       "         5.62248996e-02, 3.81526104e-02, 4.01606426e-02, 2.61044177e-02,\n",
       "         2.40963855e-02, 2.20883534e-02, 1.60642570e-02, 1.20481928e-02,\n",
       "         2.00803213e-03, 2.00803213e-03],\n",
       "        [4.01606426e-01, 2.40963855e-01, 8.03212851e-02, 3.21285141e-01,\n",
       "         9.95983936e+00, 1.16465863e+01, 1.36546185e+01, 1.33333333e+01,\n",
       "         1.26104418e+01, 1.08433735e+01, 1.11646586e+01, 1.22891566e+01,\n",
       "         1.05220884e+01, 1.07630522e+01, 8.91566265e+00, 7.46987952e+00,\n",
       "         8.99598394e+00, 7.55020080e+00, 7.55020080e+00, 5.22088353e+00,\n",
       "         4.25702811e+00, 4.33734940e+00, 4.89959839e+00, 3.69477912e+00,\n",
       "         3.69477912e+00, 2.89156627e+00, 1.36546185e+00, 1.76706827e+00,\n",
       "         2.24899598e+00, 1.52610442e+00, 1.60642570e+00, 1.04417671e+00,\n",
       "         9.63855422e-01, 8.83534137e-01, 6.42570281e-01, 4.81927711e-01,\n",
       "         8.03212851e-02, 8.03212851e-02],\n",
       "        [2.29116466e+00, 1.37469880e+00, 4.58232932e-01, 1.83293173e+00,\n",
       "         5.68208835e+01, 6.64437751e+01, 7.78995984e+01, 7.60666667e+01,\n",
       "         7.19425703e+01, 6.18614458e+01, 6.36943775e+01, 7.01096386e+01,\n",
       "         6.00285141e+01, 6.14032129e+01, 5.08638554e+01, 4.26156627e+01,\n",
       "         5.13220884e+01, 4.30738956e+01, 4.30738956e+01, 2.97851406e+01,\n",
       "         2.42863454e+01, 2.47445783e+01, 2.79522088e+01, 2.10787149e+01,\n",
       "         2.10787149e+01, 1.64963855e+01, 7.78995984e+00, 1.00811245e+01,\n",
       "         1.28305221e+01, 8.70642570e+00, 9.16465863e+00, 5.95702811e+00,\n",
       "         5.49879518e+00, 5.04056225e+00, 3.66586345e+00, 2.74939759e+00,\n",
       "         4.58232932e-01, 4.58232932e-01]]))"
      ]
     },
     "execution_count": 50,
     "metadata": {},
     "output_type": "execute_result"
    }
   ],
   "source": [
    "stats.chi2_contingency( loan_data_fico )"
   ]
  },
  {
   "cell_type": "code",
   "execution_count": 51,
   "id": "3d719a03",
   "metadata": {
    "ExecuteTime": {
     "end_time": "2022-06-15T13:17:16.115701Z",
     "start_time": "2022-06-15T13:17:16.039938Z"
    }
   },
   "outputs": [
    {
     "name": "stdout",
     "output_type": "stream",
     "text": [
      "p value:0.00000000000000009\n",
      "Reject null hypothesis\n"
     ]
    }
   ],
   "source": [
    "test_stat2,p_value2,dof2, ex2 = stats.chi2_contingency( loan_data_fico )\n",
    "print(\"p value:%.17f\" % p_value2)\n",
    "if p_value <0.05:\n",
    "    print(\"Reject null hypothesis\")\n",
    "else:\n",
    "    print(\"Fail to reject null hypothesis\")"
   ]
  },
  {
   "cell_type": "markdown",
   "id": "1e1b2395",
   "metadata": {},
   "source": [
    "### 3. Decision and Conclusion\n",
    "The test result shows the pvalue is less than the significance level (0.05). We reject the H0 Hypothesis There is relationship between FICO scores and Home Ownership. It means that, People with owning home will have high FICO scores. as p- value is very low"
   ]
  }
 ],
 "metadata": {
  "kernelspec": {
   "display_name": "Python 3 (ipykernel)",
   "language": "python",
   "name": "python3"
  },
  "language_info": {
   "codemirror_mode": {
    "name": "ipython",
    "version": 3
   },
   "file_extension": ".py",
   "mimetype": "text/x-python",
   "name": "python",
   "nbconvert_exporter": "python",
   "pygments_lexer": "ipython3",
   "version": "3.9.12"
  }
 },
 "nbformat": 4,
 "nbformat_minor": 5
}
